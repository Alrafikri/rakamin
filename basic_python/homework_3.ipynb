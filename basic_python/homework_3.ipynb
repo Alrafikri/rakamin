{
 "cells": [
  {
   "cell_type": "markdown",
   "metadata": {
    "heading_collapsed": true,
    "id": "IQZPHNVGE0jj"
   },
   "source": [
    "# Homework Introduction to Python"
   ]
  },
  {
   "cell_type": "markdown",
   "metadata": {
    "hidden": true,
    "id": "yKMR8ypqE0jn"
   },
   "source": [
    "$\\textbf{Ubah nama di bawah yaa!}$"
   ]
  },
  {
   "cell_type": "markdown",
   "metadata": {
    "hidden": true,
    "id": "bQ7VJlKEE0jo"
   },
   "source": [
    "- Nama: Almas Rausan Fikri\n",
    "- IPK / Nilai Rapot: Nilai Rapot"
   ]
  },
  {
   "cell_type": "code",
   "execution_count": 1,
   "metadata": {
    "ExecuteTime": {
     "end_time": "2020-11-12T13:26:22.209983Z",
     "start_time": "2020-11-12T13:26:21.360470Z"
    },
    "hidden": true,
    "id": "4g2oLkevE0jo"
   },
   "outputs": [],
   "source": [
    "import numpy as np\n",
    "\n",
    "# please import as much as you need"
   ]
  },
  {
   "cell_type": "markdown",
   "metadata": {
    "id": "cgd-tTOjE0jr"
   },
   "source": [
    "# Normal"
   ]
  },
  {
   "cell_type": "markdown",
   "metadata": {
    "heading_collapsed": true,
    "id": "ed8OiWGeE0jr"
   },
   "source": [
    "## 1. Operasi Variabel\n",
    "\n",
    "> Misal kita memiliki toko sepatu. Modal membeli 1 kodi sepatu adalah Rp 1.000.000. Setiap sepatu dijual seharga Rp 80.000. Buatlah variabel modal, kuantitas, dan harga_jual sesuai informasi di atas. Hitung profit yang didapatkan jika semua sepatu berhasil terjual, dan masukkan ke variabel profit.\n",
    "\n",
    "Saran langkah-langkah pengerjaan\n",
    "1. Convert terlebih dahulu kodi dalam jumlah barang (1 kodi = xyz buah sepatu)\n",
    "2. Gunakan operasi matematika sederhana untuk menghitung profit menggunakan tiga buah variabel yang sudah ditentukan"
   ]
  },
  {
   "cell_type": "code",
   "execution_count": 2,
   "metadata": {
    "ExecuteTime": {
     "end_time": "2021-10-23T10:20:16.843127Z",
     "start_time": "2021-10-23T10:20:16.835236Z"
    },
    "hidden": true,
    "id": "ThOB9tEME0js",
    "scrolled": true
   },
   "outputs": [
    {
     "name": "stdout",
     "output_type": "stream",
     "text": [
      "revenue = 1600000\n",
      "profit = 600000\n"
     ]
    }
   ],
   "source": [
    "# 1 kodi = 20 buah\n",
    "modal = 1000000\n",
    "kuantitas = 20\n",
    "harga_jual = 80000\n",
    "\n",
    "revenue = kuantitas * harga_jual\n",
    "print('revenue =', revenue)\n",
    "\n",
    "profit = revenue - modal\n",
    "print('profit =', profit)"
   ]
  },
  {
   "cell_type": "markdown",
   "metadata": {
    "hidden": true,
    "id": "8GaDbS89E0js"
   },
   "source": [
    "Jadi, dari perhitungan di atas, dapat disimpulkan bahwa apabila semua sepatu bisa terjual, total sales adalah sebesar Rp 1.600.000, dengan modal Rp 1.000.000, maka toko sepatu kita untung Rp 600.000"
   ]
  },
  {
   "cell_type": "markdown",
   "metadata": {
    "id": "5oTZCAI4E0ju"
   },
   "source": [
    "## 2. Package Python dan Dictionary\n",
    "\n",
    "> Kita akan coba mengakses data scientific article dari PLOS corpus\n",
    "    Menggunakan API request dengan kode berikut : \n",
    "```\n",
    "import requests\n",
    "response = requests.get('http://api.plos.org/search?q=title:\"Drosophila\" AND body:\"RNA\"&fl=id,abstract')\n",
    "```\n",
    "**perhatikan tanda kutipnya tidak salah ketika meng-copy ke dalam python\n",
    "\n",
    "Pertanyaannya : \n",
    "Convert response.content dari request tersebut dari JSON Format ke dalam Dictionary, dan print-kan key di dalamnya apa saja\n",
    "\n",
    "Saran langkah-langkah pengerjaan\n",
    "1. Ikuti code dari soal, kemudian ekstrak value dari variable response menggunakan dot (.) content menjadi sebuah variabel baru (dictionary)\n",
    "2. Gunakan library json, convert hasil content menggunakan json.loads\n",
    "3. Print keys dari dictionary tersebut\n"
   ]
  },
  {
   "cell_type": "code",
   "execution_count": 3,
   "metadata": {
    "ExecuteTime": {
     "end_time": "2021-10-23T10:20:40.890513Z",
     "start_time": "2021-10-23T10:20:40.882963Z"
    },
    "id": "RY1kdZAUE0ju"
   },
   "outputs": [
    {
     "name": "stdout",
     "output_type": "stream",
     "text": [
      "dict_keys(['response'])\n",
      "dict_keys(['numFound', 'start', 'docs'])\n",
      "dict_keys(['id', 'abstract'])\n"
     ]
    }
   ],
   "source": [
    "import requests\n",
    "response = requests.get('http://api.plos.org/search?q=title:\"Drosophila\" AND body:\"RNA\"&fl=id,abstract')\n",
    "\n",
    "import json\n",
    "dataset_python = json.loads(response.content)\n",
    "\n",
    "print(dataset_python.keys())\n",
    "print(dataset_python['response'].keys())\n",
    "print(dataset_python['response']['docs'][0].keys())"
   ]
  },
  {
   "cell_type": "markdown",
   "metadata": {
    "id": "rvQnd_NgE0jv"
   },
   "source": [
    "Jadi, dari url link di atas, kami menyimpulkan bahwa response dari API plos.org memiliki hierarki sebagai berikut:\n",
    "\n",
    "1. Raw dataset berisi dictionary 'response'\n",
    "2. Dictionary response berisi keys seperti 'numFound', 'start', dan 'docs'. numFound berisi integer yang menunjukkan berapa jumlah jurnal yang ditemukan, sedangkan isi dari jurnal terdapat pada key 'docs'\n",
    "3. key 'docs' berisikan list, masing-masing list berisi 'id' dan 'abstract' dari jurnal yang ditemukan\n"
   ]
  },
  {
   "cell_type": "markdown",
   "metadata": {
    "id": "wWstgpwIPDwR"
   },
   "source": [
    "# Intermediate"
   ]
  },
  {
   "cell_type": "markdown",
   "metadata": {
    "id": "AI0lJNgDE0jv"
   },
   "source": [
    "## 3. Operasi dalam List\n",
    "\n",
    "> Buatlah list dengan 10 nama kota di indonesia, kemudian:\n",
    "1. Urutkan nama kota di dalam list berdasarkan abjad (a)\n",
    "2. Ambil 4 kota pertama dari list tersebut (yang telah diurutkan) (b)\n",
    "3. Ambil 3 kota terakhir dari list tersebut (yang telah diurutkan) (c)\n",
    "\n",
    "Saran langkah-langkah pengerjaan\n",
    "1. Tidak ada ketentuan nama kota (misal berdasarkan provinsi X atau pulau Y), dibebaskan untuk memilih. Buat nama-nama kota tersebut dalam sebuah list.\n",
    "2. Gunakan fungsi sorted(X) untuk mengurutkan secara kecil-ke-besar (sesuai abjad), dimana X adalah contoh variabel list pada langkah (a)\n",
    "3. Gunakan hasil poin (a), urutkan nama kota di dalam list berdasarkan abjad, untuk mengerjakan poin (b) dan (c). "
   ]
  },
  {
   "cell_type": "code",
   "execution_count": 4,
   "metadata": {
    "ExecuteTime": {
     "end_time": "2021-10-23T10:20:47.306584Z",
     "start_time": "2021-10-23T10:20:47.299827Z"
    },
    "id": "piGxWfIAE0jw",
    "scrolled": true
   },
   "outputs": [
    {
     "name": "stdout",
     "output_type": "stream",
     "text": [
      "['Banjarnegara', 'Banyumas', 'Binjai', 'Depok', 'Merauke', 'Pati', 'Pringsewu', 'Sabang', 'Siak Sri Indrapura', 'Tebing Tinggi']\n",
      "['Banjarnegara', 'Banyumas', 'Binjai', 'Depok']\n",
      "['Sabang', 'Siak Sri Indrapura', 'Tebing Tinggi']\n"
     ]
    }
   ],
   "source": [
    "kota_raw = ['Sabang', 'Binjai', 'Tebing Tinggi', 'Siak Sri Indrapura', 'Pringsewu', \n",
    "            'Depok', 'Pati', 'Banjarnegara', 'Banyumas', 'Merauke']\n",
    "\n",
    "kota_sorted = sorted(kota_raw)\n",
    "empat_pertama = kota_sorted[:4]\n",
    "tiga_terakhir = kota_sorted[-3:]\n",
    "\n",
    "print(kota_sorted)\n",
    "print(empat_pertama)\n",
    "print(tiga_terakhir)"
   ]
  },
  {
   "cell_type": "markdown",
   "metadata": {
    "id": "FpbGs5EaE0jw"
   },
   "source": [
    "Jadi, dari operasi list di atas, dapat disimpulkan bahwa dari 10 kota yang telah dipilih:\n",
    "- Urutan kota secara abjad adalah: 'Banjarnegara', 'Banyumas', 'Binjai', 'Depok', 'Merauke', 'Pati', 'Pringsewu', 'Sabang', 'Siak Sri Indrapura', 'Tebing Tinggi'\n",
    "- 'Banjarnegara', 'Banyumas', 'Binjai', 'Depok' menempati 4 kota urutan pertama secara abjad\n",
    "- 'Sabang', 'Siak Sri Indrapura', 'Tebing Tinggi' menempati 3 kota urutan terakhir secara abjad"
   ]
  },
  {
   "cell_type": "markdown",
   "metadata": {
    "id": "6nanVjCCE0jx"
   },
   "source": [
    "## 4. Function dalam List\n",
    "\n",
    "> Team sales memiliki list total transaksi dari 10 merchant pada bulan Juni 2020, yaitu: \n",
    "```\n",
    "total_transaksi = [ 19, 35, 23, 25, 10, 15, 33, 45, 21, 30 ]\n",
    "```\n",
    "1. Trx minimum\n",
    "2. Rata-rata \n",
    "3. Trx maksimal\n",
    "\n",
    "Saran langkah-langkah pengerjaan\n",
    "1. Copy variabel total_transaksi yang ada di soal ke notebook kita (atau ketik ulang boleh)\n",
    "2. Kemudian, hitung menggunakan function operasi dalam list yang telah dipelajari di kelas pada topik list. Print hasilnya setiap poin (a), (b), dan (c)"
   ]
  },
  {
   "cell_type": "code",
   "execution_count": 5,
   "metadata": {
    "ExecuteTime": {
     "end_time": "2021-10-23T10:20:52.903045Z",
     "start_time": "2021-10-23T10:20:52.894900Z"
    },
    "id": "HxvjrB2RE0jx",
    "scrolled": true
   },
   "outputs": [
    {
     "name": "stdout",
     "output_type": "stream",
     "text": [
      "1. Trx minimum = 10\n",
      "2. Rata-rata = 25.6\n",
      "3. Trx maksimal = 45\n"
     ]
    }
   ],
   "source": [
    "total_transaksi = [ 19, 35, 23, 25, 10, 15, 33, 45, 21, 30 ]\n",
    "\n",
    "print('1. Trx minimum =', min(total_transaksi))\n",
    "print('2. Rata-rata =', sum(total_transaksi)/len(total_transaksi))\n",
    "print('3. Trx maksimal =', max(total_transaksi))"
   ]
  },
  {
   "cell_type": "markdown",
   "metadata": {
    "id": "UgHXbAOqE0jx"
   },
   "source": [
    "Jadi, dari hasil operasi list di atas, dapat disimpulkan bahwa nilai minimal transaksi sebesar 10, max sebesar 45, dan rata-rata sebesar 25.6"
   ]
  },
  {
   "cell_type": "markdown",
   "metadata": {
    "id": "f4EkwISgE0jx"
   },
   "source": [
    "# Advanced"
   ]
  },
  {
   "cell_type": "markdown",
   "metadata": {
    "id": "fmaX-pu5E0jy"
   },
   "source": [
    "## 5. NumPy Array\n",
    "\n",
    "> Buatlah array dari 5 bilangan ganjil pertama (dimulai dari 1), Kemudian lakukan perintah berikut : \n",
    "1. Kali-kan array tersebut dengan 10\n",
    "2. Bagi-kan array (hasil dari bagian a) dengan 3\n",
    "3. Kali-kan array (hasil dari bagian b) dengan array baru :\n",
    "`[-45, 43, 3, 56, 5]`\n",
    "4. Carilah pada index ke-berapa nilai tertinggi dan terendah dari array (hasil dari bagian c) \n",
    "\n",
    "Saran langkah-langkah pengerjaan\n",
    "1. HATI-HATI dalam pengerjaan, karena apabila poin sebelumnya salah, maka selanjutnya akan kebawa salah (misal (b) salah, maka poin (c) sampai (d) akan salah)\n",
    "2. Untuk array 5 bilangan ganjil pertama boleh manual boleh menggunakan fungsi, dimulai dari 1\n",
    "3. Ikuti perintah soal, gunakan numpy array, jangan list. Sesuaikan dengan permintaan soal pada setiap butir.\n",
    "\n"
   ]
  },
  {
   "cell_type": "code",
   "execution_count": 6,
   "metadata": {
    "ExecuteTime": {
     "end_time": "2021-10-23T10:20:59.988806Z",
     "start_time": "2021-10-23T10:20:59.980744Z"
    },
    "id": "VTTOjU8wE0jy",
    "scrolled": true
   },
   "outputs": [
    {
     "name": "stdout",
     "output_type": "stream",
     "text": [
      "[10 30 50 70 90]\n",
      "[ 3.33333333 10.         16.66666667 23.33333333 30.        ]\n",
      "[-150.          430.           50.         1306.66666667  150.        ]\n",
      "index angka terbesar = 3\n",
      "index angka terkecil = 0\n"
     ]
    }
   ],
   "source": [
    "odd_list = [1,3,5,7,9]\n",
    "boku_no_array = np.array(odd_list)\n",
    "\n",
    "# 1\n",
    "boku_no_array = boku_no_array * 10\n",
    "print(boku_no_array)\n",
    "\n",
    "# 2\n",
    "boku_no_array = boku_no_array / 3\n",
    "print(boku_no_array)\n",
    "\n",
    "# 3\n",
    "kimi_no_array = np.array([-45, 43, 3, 56, 5])\n",
    "boku_no_array *= kimi_no_array\n",
    "print(boku_no_array)\n",
    "\n",
    "# 4\n",
    "print(\"index angka terbesar =\", boku_no_array.argmax())\n",
    "print(\"index angka terkecil =\", boku_no_array.argmin())"
   ]
  },
  {
   "cell_type": "markdown",
   "metadata": {
    "id": "wTkMvK_EE0jy"
   },
   "source": [
    "Jadi, dari hasil operasi numpy di atas, dapat disimpulkan bahwa setiap elemen dalam numpy array dapat dioperasikan seperti perkalian, pembagian, dan operasi dengan array lain.\n",
    "\n",
    "Operasi numpy array dengan integer akan mengoperasikan setiap elemen array dengan bilangan tersebut. Sedangkan operasi dengan array lain akan dilakukan antar index yang sama 0-0, 1-1, dst.\n",
    "\n",
    "Numpy array juga punya built-in method yaitu argmax() dan argmin() untuk mencari indeks dari nilai maksimal dan minimal dari array tersebut."
   ]
  },
  {
   "cell_type": "markdown",
   "metadata": {
    "id": "LLIlxgN3Pmwj"
   },
   "source": [
    "# Terimakasih, salam dari Banyumas"
   ]
  }
 ],
 "metadata": {
  "colab": {
   "name": "Introduction to Python - Template Homework.ipynb",
   "provenance": []
  },
  "kernelspec": {
   "display_name": "Python 3",
   "language": "python",
   "name": "python3"
  },
  "language_info": {
   "codemirror_mode": {
    "name": "ipython",
    "version": 3
   },
   "file_extension": ".py",
   "mimetype": "text/x-python",
   "name": "python",
   "nbconvert_exporter": "python",
   "pygments_lexer": "ipython3",
   "version": "3.7.3"
  },
  "toc": {
   "base_numbering": 1,
   "nav_menu": {},
   "number_sections": true,
   "sideBar": true,
   "skip_h1_title": false,
   "title_cell": "Table of Contents",
   "title_sidebar": "Contents",
   "toc_cell": false,
   "toc_position": {},
   "toc_section_display": true,
   "toc_window_display": true
  }
 },
 "nbformat": 4,
 "nbformat_minor": 4
}
