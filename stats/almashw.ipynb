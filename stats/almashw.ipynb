{
 "cells": [
  {
   "cell_type": "markdown",
   "id": "499a60f4",
   "metadata": {},
   "source": [
    "Nama = Almas Rausan Fikri\n",
    "\n",
    "Batch = 23"
   ]
  },
  {
   "cell_type": "code",
   "execution_count": 1,
   "id": "b4ba1170",
   "metadata": {},
   "outputs": [],
   "source": [
    "import numpy as np\n",
    "import pandas as pd\n",
    "import seaborn as sns\n",
    "import matplotlib.pyplot as plt\n",
    "import matplotlib.style as style\n",
    "import matplotlib.ticker as mtick\n",
    "\n",
    "style.use('fivethirtyeight')"
   ]
  },
  {
   "cell_type": "code",
   "execution_count": 2,
   "id": "0c930b4e",
   "metadata": {},
   "outputs": [
    {
     "data": {
      "text/html": [
       "<div>\n",
       "<style scoped>\n",
       "    .dataframe tbody tr th:only-of-type {\n",
       "        vertical-align: middle;\n",
       "    }\n",
       "\n",
       "    .dataframe tbody tr th {\n",
       "        vertical-align: top;\n",
       "    }\n",
       "\n",
       "    .dataframe thead th {\n",
       "        text-align: right;\n",
       "    }\n",
       "</style>\n",
       "<table border=\"1\" class=\"dataframe\">\n",
       "  <thead>\n",
       "    <tr style=\"text-align: right;\">\n",
       "      <th></th>\n",
       "      <th>Id</th>\n",
       "      <th>MSSubClass</th>\n",
       "      <th>MSZoning</th>\n",
       "      <th>LotFrontage</th>\n",
       "      <th>LotArea</th>\n",
       "      <th>Street</th>\n",
       "      <th>Alley</th>\n",
       "      <th>LotShape</th>\n",
       "      <th>LandContour</th>\n",
       "      <th>Utilities</th>\n",
       "      <th>...</th>\n",
       "      <th>PoolArea</th>\n",
       "      <th>PoolQC</th>\n",
       "      <th>Fence</th>\n",
       "      <th>MiscFeature</th>\n",
       "      <th>MiscVal</th>\n",
       "      <th>MoSold</th>\n",
       "      <th>YrSold</th>\n",
       "      <th>SaleType</th>\n",
       "      <th>SaleCondition</th>\n",
       "      <th>SalePrice</th>\n",
       "    </tr>\n",
       "  </thead>\n",
       "  <tbody>\n",
       "    <tr>\n",
       "      <th>0</th>\n",
       "      <td>1</td>\n",
       "      <td>60</td>\n",
       "      <td>RL</td>\n",
       "      <td>65.0</td>\n",
       "      <td>8450</td>\n",
       "      <td>Pave</td>\n",
       "      <td>NaN</td>\n",
       "      <td>Reg</td>\n",
       "      <td>Lvl</td>\n",
       "      <td>AllPub</td>\n",
       "      <td>...</td>\n",
       "      <td>0</td>\n",
       "      <td>NaN</td>\n",
       "      <td>NaN</td>\n",
       "      <td>NaN</td>\n",
       "      <td>0</td>\n",
       "      <td>2</td>\n",
       "      <td>2008</td>\n",
       "      <td>WD</td>\n",
       "      <td>Normal</td>\n",
       "      <td>208500</td>\n",
       "    </tr>\n",
       "    <tr>\n",
       "      <th>1</th>\n",
       "      <td>2</td>\n",
       "      <td>20</td>\n",
       "      <td>RL</td>\n",
       "      <td>80.0</td>\n",
       "      <td>9600</td>\n",
       "      <td>Pave</td>\n",
       "      <td>NaN</td>\n",
       "      <td>Reg</td>\n",
       "      <td>Lvl</td>\n",
       "      <td>AllPub</td>\n",
       "      <td>...</td>\n",
       "      <td>0</td>\n",
       "      <td>NaN</td>\n",
       "      <td>NaN</td>\n",
       "      <td>NaN</td>\n",
       "      <td>0</td>\n",
       "      <td>5</td>\n",
       "      <td>2007</td>\n",
       "      <td>WD</td>\n",
       "      <td>Normal</td>\n",
       "      <td>181500</td>\n",
       "    </tr>\n",
       "    <tr>\n",
       "      <th>2</th>\n",
       "      <td>3</td>\n",
       "      <td>60</td>\n",
       "      <td>RL</td>\n",
       "      <td>68.0</td>\n",
       "      <td>11250</td>\n",
       "      <td>Pave</td>\n",
       "      <td>NaN</td>\n",
       "      <td>IR1</td>\n",
       "      <td>Lvl</td>\n",
       "      <td>AllPub</td>\n",
       "      <td>...</td>\n",
       "      <td>0</td>\n",
       "      <td>NaN</td>\n",
       "      <td>NaN</td>\n",
       "      <td>NaN</td>\n",
       "      <td>0</td>\n",
       "      <td>9</td>\n",
       "      <td>2008</td>\n",
       "      <td>WD</td>\n",
       "      <td>Normal</td>\n",
       "      <td>223500</td>\n",
       "    </tr>\n",
       "    <tr>\n",
       "      <th>3</th>\n",
       "      <td>4</td>\n",
       "      <td>70</td>\n",
       "      <td>RL</td>\n",
       "      <td>60.0</td>\n",
       "      <td>9550</td>\n",
       "      <td>Pave</td>\n",
       "      <td>NaN</td>\n",
       "      <td>IR1</td>\n",
       "      <td>Lvl</td>\n",
       "      <td>AllPub</td>\n",
       "      <td>...</td>\n",
       "      <td>0</td>\n",
       "      <td>NaN</td>\n",
       "      <td>NaN</td>\n",
       "      <td>NaN</td>\n",
       "      <td>0</td>\n",
       "      <td>2</td>\n",
       "      <td>2006</td>\n",
       "      <td>WD</td>\n",
       "      <td>Abnorml</td>\n",
       "      <td>140000</td>\n",
       "    </tr>\n",
       "    <tr>\n",
       "      <th>4</th>\n",
       "      <td>5</td>\n",
       "      <td>60</td>\n",
       "      <td>RL</td>\n",
       "      <td>84.0</td>\n",
       "      <td>14260</td>\n",
       "      <td>Pave</td>\n",
       "      <td>NaN</td>\n",
       "      <td>IR1</td>\n",
       "      <td>Lvl</td>\n",
       "      <td>AllPub</td>\n",
       "      <td>...</td>\n",
       "      <td>0</td>\n",
       "      <td>NaN</td>\n",
       "      <td>NaN</td>\n",
       "      <td>NaN</td>\n",
       "      <td>0</td>\n",
       "      <td>12</td>\n",
       "      <td>2008</td>\n",
       "      <td>WD</td>\n",
       "      <td>Normal</td>\n",
       "      <td>250000</td>\n",
       "    </tr>\n",
       "  </tbody>\n",
       "</table>\n",
       "<p>5 rows × 81 columns</p>\n",
       "</div>"
      ],
      "text/plain": [
       "   Id  MSSubClass MSZoning  LotFrontage  LotArea Street Alley LotShape  \\\n",
       "0   1          60       RL         65.0     8450   Pave   NaN      Reg   \n",
       "1   2          20       RL         80.0     9600   Pave   NaN      Reg   \n",
       "2   3          60       RL         68.0    11250   Pave   NaN      IR1   \n",
       "3   4          70       RL         60.0     9550   Pave   NaN      IR1   \n",
       "4   5          60       RL         84.0    14260   Pave   NaN      IR1   \n",
       "\n",
       "  LandContour Utilities  ... PoolArea PoolQC Fence MiscFeature MiscVal MoSold  \\\n",
       "0         Lvl    AllPub  ...        0    NaN   NaN         NaN       0      2   \n",
       "1         Lvl    AllPub  ...        0    NaN   NaN         NaN       0      5   \n",
       "2         Lvl    AllPub  ...        0    NaN   NaN         NaN       0      9   \n",
       "3         Lvl    AllPub  ...        0    NaN   NaN         NaN       0      2   \n",
       "4         Lvl    AllPub  ...        0    NaN   NaN         NaN       0     12   \n",
       "\n",
       "  YrSold  SaleType  SaleCondition  SalePrice  \n",
       "0   2008        WD         Normal     208500  \n",
       "1   2007        WD         Normal     181500  \n",
       "2   2008        WD         Normal     223500  \n",
       "3   2006        WD        Abnorml     140000  \n",
       "4   2008        WD         Normal     250000  \n",
       "\n",
       "[5 rows x 81 columns]"
      ]
     },
     "execution_count": 2,
     "metadata": {},
     "output_type": "execute_result"
    }
   ],
   "source": [
    "df = pd.read_csv('train.csv')\n",
    "df.head()"
   ]
  },
  {
   "cell_type": "markdown",
   "id": "3cfa47cc",
   "metadata": {},
   "source": [
    "# Soal 1"
   ]
  },
  {
   "cell_type": "code",
   "execution_count": 3,
   "id": "67015a12",
   "metadata": {},
   "outputs": [],
   "source": [
    "ct = ['mean', '50%', '25%', '75%', 'mode']\n",
    "disp = ['std', 'variance', 'min', 'max', 'range', 'IQR']"
   ]
  },
  {
   "cell_type": "code",
   "execution_count": 4,
   "id": "070cde58",
   "metadata": {},
   "outputs": [
    {
     "data": {
      "text/html": [
       "<div>\n",
       "<style scoped>\n",
       "    .dataframe tbody tr th:only-of-type {\n",
       "        vertical-align: middle;\n",
       "    }\n",
       "\n",
       "    .dataframe tbody tr th {\n",
       "        vertical-align: top;\n",
       "    }\n",
       "\n",
       "    .dataframe thead th {\n",
       "        text-align: right;\n",
       "    }\n",
       "</style>\n",
       "<table border=\"1\" class=\"dataframe\">\n",
       "  <thead>\n",
       "    <tr style=\"text-align: right;\">\n",
       "      <th></th>\n",
       "      <th>count</th>\n",
       "      <th>mean</th>\n",
       "      <th>50%</th>\n",
       "      <th>25%</th>\n",
       "      <th>75%</th>\n",
       "      <th>mode</th>\n",
       "      <th>std</th>\n",
       "      <th>variance</th>\n",
       "      <th>min</th>\n",
       "      <th>max</th>\n",
       "      <th>range</th>\n",
       "      <th>IQR</th>\n",
       "    </tr>\n",
       "  </thead>\n",
       "  <tbody>\n",
       "    <tr>\n",
       "      <th>SalePrice</th>\n",
       "      <td>1460.0</td>\n",
       "      <td>180921.19589</td>\n",
       "      <td>163000.0</td>\n",
       "      <td>129975.0</td>\n",
       "      <td>214000.0</td>\n",
       "      <td>140000</td>\n",
       "      <td>79442.502883</td>\n",
       "      <td>6.311111e+09</td>\n",
       "      <td>34900.0</td>\n",
       "      <td>755000.0</td>\n",
       "      <td>720100.0</td>\n",
       "      <td>84025.0</td>\n",
       "    </tr>\n",
       "  </tbody>\n",
       "</table>\n",
       "</div>"
      ],
      "text/plain": [
       "            count          mean       50%       25%       75%    mode  \\\n",
       "SalePrice  1460.0  180921.19589  163000.0  129975.0  214000.0  140000   \n",
       "\n",
       "                    std      variance      min       max     range      IQR  \n",
       "SalePrice  79442.502883  6.311111e+09  34900.0  755000.0  720100.0  84025.0  "
      ]
     },
     "execution_count": 4,
     "metadata": {},
     "output_type": "execute_result"
    }
   ],
   "source": [
    "df1 = df.copy()\n",
    "soal1 = df1['SalePrice'].describe().to_frame().T\n",
    "soal1['variance'] = soal1['std'] ** 2\n",
    "soal1['range'] = soal1['max'] - soal1['min']\n",
    "soal1['IQR'] = soal1['75%'] - soal1['25%']\n",
    "soal1['mode'] = df1['SalePrice'].mode().values\n",
    "soal1[['count'] + ct + disp]"
   ]
  },
  {
   "cell_type": "code",
   "execution_count": 5,
   "id": "4ca15c90",
   "metadata": {},
   "outputs": [
    {
     "data": {
      "text/html": [
       "<div>\n",
       "<style scoped>\n",
       "    .dataframe tbody tr th:only-of-type {\n",
       "        vertical-align: middle;\n",
       "    }\n",
       "\n",
       "    .dataframe tbody tr th {\n",
       "        vertical-align: top;\n",
       "    }\n",
       "\n",
       "    .dataframe thead th {\n",
       "        text-align: right;\n",
       "    }\n",
       "</style>\n",
       "<table border=\"1\" class=\"dataframe\">\n",
       "  <thead>\n",
       "    <tr style=\"text-align: right;\">\n",
       "      <th></th>\n",
       "      <th>count</th>\n",
       "      <th>mean</th>\n",
       "      <th>50%</th>\n",
       "      <th>25%</th>\n",
       "      <th>75%</th>\n",
       "      <th>mode</th>\n",
       "    </tr>\n",
       "  </thead>\n",
       "  <tbody>\n",
       "    <tr>\n",
       "      <th>SalePrice</th>\n",
       "      <td>1460.0</td>\n",
       "      <td>180921.19589</td>\n",
       "      <td>163000.0</td>\n",
       "      <td>129975.0</td>\n",
       "      <td>214000.0</td>\n",
       "      <td>140000</td>\n",
       "    </tr>\n",
       "  </tbody>\n",
       "</table>\n",
       "</div>"
      ],
      "text/plain": [
       "            count          mean       50%       25%       75%    mode\n",
       "SalePrice  1460.0  180921.19589  163000.0  129975.0  214000.0  140000"
      ]
     },
     "execution_count": 5,
     "metadata": {},
     "output_type": "execute_result"
    }
   ],
   "source": [
    "# ukuran pemusatan\n",
    "soal1[['count'] + ct]"
   ]
  },
  {
   "cell_type": "code",
   "execution_count": 6,
   "id": "35c0b7e9",
   "metadata": {},
   "outputs": [
    {
     "data": {
      "text/html": [
       "<div>\n",
       "<style scoped>\n",
       "    .dataframe tbody tr th:only-of-type {\n",
       "        vertical-align: middle;\n",
       "    }\n",
       "\n",
       "    .dataframe tbody tr th {\n",
       "        vertical-align: top;\n",
       "    }\n",
       "\n",
       "    .dataframe thead th {\n",
       "        text-align: right;\n",
       "    }\n",
       "</style>\n",
       "<table border=\"1\" class=\"dataframe\">\n",
       "  <thead>\n",
       "    <tr style=\"text-align: right;\">\n",
       "      <th></th>\n",
       "      <th>count</th>\n",
       "      <th>std</th>\n",
       "      <th>variance</th>\n",
       "      <th>min</th>\n",
       "      <th>max</th>\n",
       "      <th>range</th>\n",
       "      <th>IQR</th>\n",
       "    </tr>\n",
       "  </thead>\n",
       "  <tbody>\n",
       "    <tr>\n",
       "      <th>SalePrice</th>\n",
       "      <td>1460.0</td>\n",
       "      <td>79442.502883</td>\n",
       "      <td>6.311111e+09</td>\n",
       "      <td>34900.0</td>\n",
       "      <td>755000.0</td>\n",
       "      <td>720100.0</td>\n",
       "      <td>84025.0</td>\n",
       "    </tr>\n",
       "  </tbody>\n",
       "</table>\n",
       "</div>"
      ],
      "text/plain": [
       "            count           std      variance      min       max     range  \\\n",
       "SalePrice  1460.0  79442.502883  6.311111e+09  34900.0  755000.0  720100.0   \n",
       "\n",
       "               IQR  \n",
       "SalePrice  84025.0  "
      ]
     },
     "execution_count": 6,
     "metadata": {},
     "output_type": "execute_result"
    }
   ],
   "source": [
    "# ukuran penyebaran\n",
    "soal1[['count'] + disp]"
   ]
  },
  {
   "cell_type": "code",
   "execution_count": 7,
   "id": "31c4d764",
   "metadata": {},
   "outputs": [
    {
     "data": {
      "text/plain": [
       "<matplotlib.axes._subplots.AxesSubplot at 0x18e793fa320>"
      ]
     },
     "execution_count": 7,
     "metadata": {},
     "output_type": "execute_result"
    },
    {
     "data": {
      "image/png": "[encoded data removed]",
      "text/plain": [
       "<Figure size 432x288 with 1 Axes>"
      ]
     },
     "metadata": {
      "needs_background": "light"
     },
     "output_type": "display_data"
    }
   ],
   "source": [
    "sns.histplot(df1['SalePrice'])"
   ]
  },
  {
   "cell_type": "markdown",
   "id": "0b2ddf91",
   "metadata": {},
   "source": [
    "1. Data positively skewed (titik tengah lebih baik pakai median / percentile)\n",
    "2. 75% dari rumah yang dijual harganya sama atau kurang dari 214000\n",
    "3. Perbedaan harga rumah termahal dan termurah adalah sebesar 720100\n",
    "4. Harga rumah termurah 34900 termahal 755000\n",
    "5. Rata-rata harga rumah sebesar 180921.20, tetapi 50% dari rumah yang dijual harganya sama atau kurang dari 163000"
   ]
  },
  {
   "cell_type": "markdown",
   "id": "566217db",
   "metadata": {},
   "source": [
    "# Soal 2"
   ]
  },
  {
   "cell_type": "code",
   "execution_count": 8,
   "id": "17182f66",
   "metadata": {},
   "outputs": [
    {
     "data": {
      "text/html": [
       "<div>\n",
       "<style scoped>\n",
       "    .dataframe tbody tr th:only-of-type {\n",
       "        vertical-align: middle;\n",
       "    }\n",
       "\n",
       "    .dataframe tbody tr th {\n",
       "        vertical-align: top;\n",
       "    }\n",
       "\n",
       "    .dataframe thead th {\n",
       "        text-align: right;\n",
       "    }\n",
       "</style>\n",
       "<table border=\"1\" class=\"dataframe\">\n",
       "  <thead>\n",
       "    <tr style=\"text-align: right;\">\n",
       "      <th></th>\n",
       "      <th>YrSold</th>\n",
       "      <th>count</th>\n",
       "      <th>mean</th>\n",
       "      <th>50%</th>\n",
       "      <th>25%</th>\n",
       "      <th>75%</th>\n",
       "      <th>mode</th>\n",
       "      <th>std</th>\n",
       "      <th>variance</th>\n",
       "      <th>min</th>\n",
       "      <th>max</th>\n",
       "      <th>range</th>\n",
       "      <th>IQR</th>\n",
       "    </tr>\n",
       "  </thead>\n",
       "  <tbody>\n",
       "    <tr>\n",
       "      <th>0</th>\n",
       "      <td>2006</td>\n",
       "      <td>314.0</td>\n",
       "      <td>182549.458599</td>\n",
       "      <td>163995.0</td>\n",
       "      <td>131375.0</td>\n",
       "      <td>218782.5</td>\n",
       "      <td>140000</td>\n",
       "      <td>79426.838855</td>\n",
       "      <td>6.308623e+09</td>\n",
       "      <td>35311.0</td>\n",
       "      <td>625000.0</td>\n",
       "      <td>589689.0</td>\n",
       "      <td>87407.5</td>\n",
       "    </tr>\n",
       "    <tr>\n",
       "      <th>1</th>\n",
       "      <td>2007</td>\n",
       "      <td>329.0</td>\n",
       "      <td>186063.151976</td>\n",
       "      <td>167000.0</td>\n",
       "      <td>129900.0</td>\n",
       "      <td>219500.0</td>\n",
       "      <td>[129000, 144000]</td>\n",
       "      <td>85768.171410</td>\n",
       "      <td>7.356179e+09</td>\n",
       "      <td>39300.0</td>\n",
       "      <td>755000.0</td>\n",
       "      <td>715700.0</td>\n",
       "      <td>89600.0</td>\n",
       "    </tr>\n",
       "    <tr>\n",
       "      <th>2</th>\n",
       "      <td>2008</td>\n",
       "      <td>304.0</td>\n",
       "      <td>177360.838816</td>\n",
       "      <td>164000.0</td>\n",
       "      <td>131250.0</td>\n",
       "      <td>207000.0</td>\n",
       "      <td>140000</td>\n",
       "      <td>69735.610685</td>\n",
       "      <td>4.863055e+09</td>\n",
       "      <td>40000.0</td>\n",
       "      <td>446261.0</td>\n",
       "      <td>406261.0</td>\n",
       "      <td>75750.0</td>\n",
       "    </tr>\n",
       "    <tr>\n",
       "      <th>3</th>\n",
       "      <td>2009</td>\n",
       "      <td>338.0</td>\n",
       "      <td>179432.103550</td>\n",
       "      <td>162000.0</td>\n",
       "      <td>125250.0</td>\n",
       "      <td>212750.0</td>\n",
       "      <td>110000</td>\n",
       "      <td>80879.237311</td>\n",
       "      <td>6.541451e+09</td>\n",
       "      <td>34900.0</td>\n",
       "      <td>582933.0</td>\n",
       "      <td>548033.0</td>\n",
       "      <td>87500.0</td>\n",
       "    </tr>\n",
       "    <tr>\n",
       "      <th>4</th>\n",
       "      <td>2010</td>\n",
       "      <td>175.0</td>\n",
       "      <td>177393.674286</td>\n",
       "      <td>155000.0</td>\n",
       "      <td>128100.0</td>\n",
       "      <td>213250.0</td>\n",
       "      <td>[128000, 140000, 143000, 155000, 190000]</td>\n",
       "      <td>80451.280085</td>\n",
       "      <td>6.472408e+09</td>\n",
       "      <td>55000.0</td>\n",
       "      <td>611657.0</td>\n",
       "      <td>556657.0</td>\n",
       "      <td>85150.0</td>\n",
       "    </tr>\n",
       "  </tbody>\n",
       "</table>\n",
       "</div>"
      ],
      "text/plain": [
       "   YrSold  count           mean       50%       25%       75%  \\\n",
       "0    2006  314.0  182549.458599  163995.0  131375.0  218782.5   \n",
       "1    2007  329.0  186063.151976  167000.0  129900.0  219500.0   \n",
       "2    2008  304.0  177360.838816  164000.0  131250.0  207000.0   \n",
       "3    2009  338.0  179432.103550  162000.0  125250.0  212750.0   \n",
       "4    2010  175.0  177393.674286  155000.0  128100.0  213250.0   \n",
       "\n",
       "                                       mode           std      variance  \\\n",
       "0                                    140000  79426.838855  6.308623e+09   \n",
       "1                          [129000, 144000]  85768.171410  7.356179e+09   \n",
       "2                                    140000  69735.610685  4.863055e+09   \n",
       "3                                    110000  80879.237311  6.541451e+09   \n",
       "4  [128000, 140000, 143000, 155000, 190000]  80451.280085  6.472408e+09   \n",
       "\n",
       "       min       max     range      IQR  \n",
       "0  35311.0  625000.0  589689.0  87407.5  \n",
       "1  39300.0  755000.0  715700.0  89600.0  \n",
       "2  40000.0  446261.0  406261.0  75750.0  \n",
       "3  34900.0  582933.0  548033.0  87500.0  \n",
       "4  55000.0  611657.0  556657.0  85150.0  "
      ]
     },
     "execution_count": 8,
     "metadata": {},
     "output_type": "execute_result"
    }
   ],
   "source": [
    "df2 = df.copy()\n",
    "df2group = df2.groupby('YrSold')['SalePrice']\n",
    "soal2 = df2group.describe().reset_index()\n",
    "soal2['variance'] = soal2['std'] ** 2\n",
    "soal2['range'] = soal2['max'] - soal2['min']\n",
    "soal2['IQR'] = soal2['75%'] - soal2['25%']\n",
    "soal2['mode'] = df2group.agg(pd.Series.mode).values\n",
    "soal2[['YrSold','count'] + ct + disp]"
   ]
  },
  {
   "cell_type": "code",
   "execution_count": 9,
   "id": "c5fc5198",
   "metadata": {},
   "outputs": [
    {
     "data": {
      "text/html": [
       "<div>\n",
       "<style scoped>\n",
       "    .dataframe tbody tr th:only-of-type {\n",
       "        vertical-align: middle;\n",
       "    }\n",
       "\n",
       "    .dataframe tbody tr th {\n",
       "        vertical-align: top;\n",
       "    }\n",
       "\n",
       "    .dataframe thead th {\n",
       "        text-align: right;\n",
       "    }\n",
       "</style>\n",
       "<table border=\"1\" class=\"dataframe\">\n",
       "  <thead>\n",
       "    <tr style=\"text-align: right;\">\n",
       "      <th></th>\n",
       "      <th>YrSold</th>\n",
       "      <th>count</th>\n",
       "      <th>mean</th>\n",
       "      <th>50%</th>\n",
       "      <th>25%</th>\n",
       "      <th>75%</th>\n",
       "      <th>mode</th>\n",
       "    </tr>\n",
       "  </thead>\n",
       "  <tbody>\n",
       "    <tr>\n",
       "      <th>0</th>\n",
       "      <td>2006</td>\n",
       "      <td>314.0</td>\n",
       "      <td>182549.458599</td>\n",
       "      <td>163995.0</td>\n",
       "      <td>131375.0</td>\n",
       "      <td>218782.5</td>\n",
       "      <td>140000</td>\n",
       "    </tr>\n",
       "    <tr>\n",
       "      <th>1</th>\n",
       "      <td>2007</td>\n",
       "      <td>329.0</td>\n",
       "      <td>186063.151976</td>\n",
       "      <td>167000.0</td>\n",
       "      <td>129900.0</td>\n",
       "      <td>219500.0</td>\n",
       "      <td>[129000, 144000]</td>\n",
       "    </tr>\n",
       "    <tr>\n",
       "      <th>2</th>\n",
       "      <td>2008</td>\n",
       "      <td>304.0</td>\n",
       "      <td>177360.838816</td>\n",
       "      <td>164000.0</td>\n",
       "      <td>131250.0</td>\n",
       "      <td>207000.0</td>\n",
       "      <td>140000</td>\n",
       "    </tr>\n",
       "    <tr>\n",
       "      <th>3</th>\n",
       "      <td>2009</td>\n",
       "      <td>338.0</td>\n",
       "      <td>179432.103550</td>\n",
       "      <td>162000.0</td>\n",
       "      <td>125250.0</td>\n",
       "      <td>212750.0</td>\n",
       "      <td>110000</td>\n",
       "    </tr>\n",
       "    <tr>\n",
       "      <th>4</th>\n",
       "      <td>2010</td>\n",
       "      <td>175.0</td>\n",
       "      <td>177393.674286</td>\n",
       "      <td>155000.0</td>\n",
       "      <td>128100.0</td>\n",
       "      <td>213250.0</td>\n",
       "      <td>[128000, 140000, 143000, 155000, 190000]</td>\n",
       "    </tr>\n",
       "  </tbody>\n",
       "</table>\n",
       "</div>"
      ],
      "text/plain": [
       "   YrSold  count           mean       50%       25%       75%  \\\n",
       "0    2006  314.0  182549.458599  163995.0  131375.0  218782.5   \n",
       "1    2007  329.0  186063.151976  167000.0  129900.0  219500.0   \n",
       "2    2008  304.0  177360.838816  164000.0  131250.0  207000.0   \n",
       "3    2009  338.0  179432.103550  162000.0  125250.0  212750.0   \n",
       "4    2010  175.0  177393.674286  155000.0  128100.0  213250.0   \n",
       "\n",
       "                                       mode  \n",
       "0                                    140000  \n",
       "1                          [129000, 144000]  \n",
       "2                                    140000  \n",
       "3                                    110000  \n",
       "4  [128000, 140000, 143000, 155000, 190000]  "
      ]
     },
     "execution_count": 9,
     "metadata": {},
     "output_type": "execute_result"
    }
   ],
   "source": [
    "# Ukuran pemusatan\n",
    "soal2[['YrSold','count'] + ct]"
   ]
  },
  {
   "cell_type": "code",
   "execution_count": 10,
   "id": "7fed2f31",
   "metadata": {},
   "outputs": [
    {
     "data": {
      "text/html": [
       "<div>\n",
       "<style scoped>\n",
       "    .dataframe tbody tr th:only-of-type {\n",
       "        vertical-align: middle;\n",
       "    }\n",
       "\n",
       "    .dataframe tbody tr th {\n",
       "        vertical-align: top;\n",
       "    }\n",
       "\n",
       "    .dataframe thead th {\n",
       "        text-align: right;\n",
       "    }\n",
       "</style>\n",
       "<table border=\"1\" class=\"dataframe\">\n",
       "  <thead>\n",
       "    <tr style=\"text-align: right;\">\n",
       "      <th></th>\n",
       "      <th>YrSold</th>\n",
       "      <th>count</th>\n",
       "      <th>std</th>\n",
       "      <th>variance</th>\n",
       "      <th>min</th>\n",
       "      <th>max</th>\n",
       "      <th>range</th>\n",
       "      <th>IQR</th>\n",
       "    </tr>\n",
       "  </thead>\n",
       "  <tbody>\n",
       "    <tr>\n",
       "      <th>0</th>\n",
       "      <td>2006</td>\n",
       "      <td>314.0</td>\n",
       "      <td>79426.838855</td>\n",
       "      <td>6.308623e+09</td>\n",
       "      <td>35311.0</td>\n",
       "      <td>625000.0</td>\n",
       "      <td>589689.0</td>\n",
       "      <td>87407.5</td>\n",
       "    </tr>\n",
       "    <tr>\n",
       "      <th>1</th>\n",
       "      <td>2007</td>\n",
       "      <td>329.0</td>\n",
       "      <td>85768.171410</td>\n",
       "      <td>7.356179e+09</td>\n",
       "      <td>39300.0</td>\n",
       "      <td>755000.0</td>\n",
       "      <td>715700.0</td>\n",
       "      <td>89600.0</td>\n",
       "    </tr>\n",
       "    <tr>\n",
       "      <th>2</th>\n",
       "      <td>2008</td>\n",
       "      <td>304.0</td>\n",
       "      <td>69735.610685</td>\n",
       "      <td>4.863055e+09</td>\n",
       "      <td>40000.0</td>\n",
       "      <td>446261.0</td>\n",
       "      <td>406261.0</td>\n",
       "      <td>75750.0</td>\n",
       "    </tr>\n",
       "    <tr>\n",
       "      <th>3</th>\n",
       "      <td>2009</td>\n",
       "      <td>338.0</td>\n",
       "      <td>80879.237311</td>\n",
       "      <td>6.541451e+09</td>\n",
       "      <td>34900.0</td>\n",
       "      <td>582933.0</td>\n",
       "      <td>548033.0</td>\n",
       "      <td>87500.0</td>\n",
       "    </tr>\n",
       "    <tr>\n",
       "      <th>4</th>\n",
       "      <td>2010</td>\n",
       "      <td>175.0</td>\n",
       "      <td>80451.280085</td>\n",
       "      <td>6.472408e+09</td>\n",
       "      <td>55000.0</td>\n",
       "      <td>611657.0</td>\n",
       "      <td>556657.0</td>\n",
       "      <td>85150.0</td>\n",
       "    </tr>\n",
       "  </tbody>\n",
       "</table>\n",
       "</div>"
      ],
      "text/plain": [
       "   YrSold  count           std      variance      min       max     range  \\\n",
       "0    2006  314.0  79426.838855  6.308623e+09  35311.0  625000.0  589689.0   \n",
       "1    2007  329.0  85768.171410  7.356179e+09  39300.0  755000.0  715700.0   \n",
       "2    2008  304.0  69735.610685  4.863055e+09  40000.0  446261.0  406261.0   \n",
       "3    2009  338.0  80879.237311  6.541451e+09  34900.0  582933.0  548033.0   \n",
       "4    2010  175.0  80451.280085  6.472408e+09  55000.0  611657.0  556657.0   \n",
       "\n",
       "       IQR  \n",
       "0  87407.5  \n",
       "1  89600.0  \n",
       "2  75750.0  \n",
       "3  87500.0  \n",
       "4  85150.0  "
      ]
     },
     "execution_count": 10,
     "metadata": {},
     "output_type": "execute_result"
    }
   ],
   "source": [
    "# Ukuran penyebaran\n",
    "soal2[['YrSold','count'] + disp]"
   ]
  },
  {
   "cell_type": "markdown",
   "id": "b2ba8eba",
   "metadata": {},
   "source": [
    "Secara deskriptif jelaskan apakah ada perbedaan setiap tahunnya atau tidak?\n",
    "\n",
    "Dari ukuran pemusatan:\n",
    "* Rata-rata dan nilai tengah harga rumah tiap tahun berbeda. Paling tinggi di tahun 2007\n",
    "* Tahun 2007 - 2010 harga rumah cenderung menurun karena ada SubPrime crisis\n",
    "\n",
    "Dari dispersi:\n",
    "* Tahun 2006 - 2007 meningkat sebarannya, sedangkan tahun 2008 tiba-tiba menjadi sempit\n",
    "* Harga rumah paling mahal di tahun 2008 paling rendah di antara tahun lainnya"
   ]
  },
  {
   "cell_type": "markdown",
   "id": "38780150",
   "metadata": {},
   "source": [
    "# Soal 3"
   ]
  },
  {
   "cell_type": "code",
   "execution_count": 11,
   "id": "678de04b",
   "metadata": {},
   "outputs": [
    {
     "data": {
      "image/png": "[encoded data removed]",
      "text/plain": [
       "<Figure size 1152x288 with 3 Axes>"
      ]
     },
     "metadata": {
      "needs_background": "light"
     },
     "output_type": "display_data"
    }
   ],
   "source": [
    "df3 = df.copy()\n",
    "fig, axes = plt.subplots(nrows=1, ncols=3, figsize=(16, 4))\n",
    "\n",
    "g1 = df['SalePrice'].plot(kind='hist', ax = axes[0])\n",
    "g2 = sns.boxplot(data = df, x = 'SalePrice', ax = axes[1])\n",
    "g3 = sns.violinplot(data = df, y = 'SalePrice', ax = axes[2])"
   ]
  },
  {
   "cell_type": "markdown",
   "id": "0661f5d2",
   "metadata": {},
   "source": [
    "Problem: analisa menggunakan mean / median?\n",
    "\n",
    "Analisa statistik:\n",
    "- Grafik positively skewed (mean > median), terlihat juga dari ketiga grafik\n",
    "- Dari boxplot terlihat adanya outlier\n",
    "\n",
    "Intrepretasi bisnis: \"Hai tim bisnis, gini lho, jadi ini kan kita punya grafik yang beberapa datanya nilainya jauh banget dari rata-rata /  titik tengah. Nah nilai yang jauh ini namanya outlier. Ketika suatu data ada yang nilainya ekstrim gini, otomatis rata-rata terpengaruh dong, ketarik ke arah si outlier itu. Nah dalam kasus gini nih, akan lebih baik kalau kita pakai median sebagai penentu titik tengahnya, dimana median lebih tahan kalau ada data ekstrim seperti ini\""
   ]
  },
  {
   "cell_type": "markdown",
   "id": "9ed7e9ea",
   "metadata": {},
   "source": [
    "# Soal 4"
   ]
  },
  {
   "cell_type": "markdown",
   "id": "8f003213",
   "metadata": {},
   "source": [
    "Claim: Harga rumah pasti naik tiap tahunnya.\n",
    "\n",
    "Hipotesis:\n",
    "* Harga rumah berbeda tiap tahunnya\n",
    "* Harga rumah t(i+1) > harga rumah t(i)\n",
    "\n",
    "Alat uji yang digunakan:\n",
    "* ANOVA (H0: harga rumah tidak berbeda tiap tahun)\n",
    "* T-test (H0: harga rumah t(i+1) = harga rumah t(i) )"
   ]
  },
  {
   "cell_type": "code",
   "execution_count": 12,
   "id": "b53fe0cc",
   "metadata": {},
   "outputs": [
    {
     "data": {
      "image/png": "[encoded data removed]",
      "text/plain": [
       "<Figure size 432x288 with 1 Axes>"
      ]
     },
     "metadata": {
      "needs_background": "light"
     },
     "output_type": "display_data"
    }
   ],
   "source": [
    "g = df.groupby('YrSold').agg({'SalePrice': 'mean'}).plot(kind = 'barh')\n",
    "g.legend(\"\")\n",
    "g.set_title(\"House SalePrice average each year\")\n",
    "\n",
    "for p in g.patches:\n",
    "    g.annotate(f'$ {p.get_width():.2f}',\n",
    "               xy = (p.get_x() + p.get_width() / 2,\n",
    "                     p.get_y() + p.get_height() / 2,),\n",
    "               ha = 'center',\n",
    "               va = 'center',\n",
    "               color = 'white'\n",
    "              )"
   ]
  },
  {
   "cell_type": "code",
   "execution_count": 13,
   "id": "ef42bf01",
   "metadata": {},
   "outputs": [],
   "source": [
    "import scipy.stats as st"
   ]
  },
  {
   "cell_type": "code",
   "execution_count": 14,
   "id": "ede638f8",
   "metadata": {},
   "outputs": [],
   "source": [
    "df4 = df.copy()\n",
    "\n",
    "# Langkah 1\n",
    "# H0 : Rata-rata SalePrice sama untuk semua tahun\n",
    "# H1 : Rata-rata SalePrice berbeda untuk beberapa tahun\n",
    "\n",
    "# Langkah 2\n",
    "df_2006 = df4[df4['YrSold'] == 2006]\n",
    "df_2007 = df4[df4['YrSold'] == 2007]\n",
    "df_2008 = df4[df4['YrSold'] == 2008]\n",
    "df_2009 = df4[df4['YrSold'] == 2009]\n",
    "df_2010 = df4[df4['YrSold'] == 2010]"
   ]
  },
  {
   "cell_type": "code",
   "execution_count": 15,
   "id": "d1eb5b35",
   "metadata": {},
   "outputs": [],
   "source": [
    "anova = st.f_oneway(df_2006['SalePrice'], df_2007['SalePrice'], df_2008['SalePrice'], df_2009['SalePrice'], df_2010['SalePrice'])"
   ]
  },
  {
   "cell_type": "code",
   "execution_count": 16,
   "id": "f7dbd783",
   "metadata": {},
   "outputs": [
    {
     "name": "stdout",
     "output_type": "stream",
     "text": [
      "0.6300887663573457\n",
      "Insufficient Reject H0\n"
     ]
    }
   ],
   "source": [
    "pvalue = anova.pvalue\n",
    "print(pvalue)\n",
    "if pvalue >= 0.05:\n",
    "    print('Insufficient Reject H0')\n",
    "else:\n",
    "    print('Sufficient Reject H0')"
   ]
  },
  {
   "cell_type": "markdown",
   "id": "d56a555a",
   "metadata": {},
   "source": [
    "Dari pengujian pertama kita langsung mengetahui bahwa tidak ada bukti yang kuat untuk menolak H0. Artinya, tidak ada perbedaan yang signifikan dari rata-rata SalePrice (harga rumah) untuk semua tahun. Tidak naik dan tidak turun secara signifikan."
   ]
  },
  {
   "cell_type": "markdown",
   "id": "a2b3ad4a",
   "metadata": {},
   "source": [
    "# Soal 5"
   ]
  },
  {
   "cell_type": "markdown",
   "id": "85edb4c5",
   "metadata": {},
   "source": [
    "Kasus yang akan digunakan adalah membuka akun deposit untuk nasabah bank. Pada kesempatan kali ini data scientist diminta tolong untuk menganalisa hasil ab-testing suatu perusahaan bank. Apakah jumlah campaign mampu meningkatkan keinginan user untuk membuka akun deposit atau tidak?\n",
    "\n",
    "1. Untuk variabel jumlah campaign bisa dicek untuk kolom campaign\n",
    "2. untuk variabel apakah akhirnya user membuka akun atau tidak bisa menggunakan variabel y"
   ]
  },
  {
   "cell_type": "code",
   "execution_count": 17,
   "id": "3f4fd31a",
   "metadata": {},
   "outputs": [],
   "source": [
    "s5 = pd.read_csv('bank-full.csv', sep = ';')"
   ]
  },
  {
   "cell_type": "code",
   "execution_count": 18,
   "id": "d1dec929",
   "metadata": {},
   "outputs": [
    {
     "data": {
      "text/html": [
       "<div>\n",
       "<style scoped>\n",
       "    .dataframe tbody tr th:only-of-type {\n",
       "        vertical-align: middle;\n",
       "    }\n",
       "\n",
       "    .dataframe tbody tr th {\n",
       "        vertical-align: top;\n",
       "    }\n",
       "\n",
       "    .dataframe thead th {\n",
       "        text-align: right;\n",
       "    }\n",
       "</style>\n",
       "<table border=\"1\" class=\"dataframe\">\n",
       "  <thead>\n",
       "    <tr style=\"text-align: right;\">\n",
       "      <th></th>\n",
       "      <th>age</th>\n",
       "      <th>job</th>\n",
       "      <th>marital</th>\n",
       "      <th>education</th>\n",
       "      <th>default</th>\n",
       "      <th>balance</th>\n",
       "      <th>housing</th>\n",
       "      <th>loan</th>\n",
       "      <th>contact</th>\n",
       "      <th>day</th>\n",
       "      <th>month</th>\n",
       "      <th>duration</th>\n",
       "      <th>campaign</th>\n",
       "      <th>pdays</th>\n",
       "      <th>previous</th>\n",
       "      <th>poutcome</th>\n",
       "      <th>y</th>\n",
       "    </tr>\n",
       "  </thead>\n",
       "  <tbody>\n",
       "    <tr>\n",
       "      <th>0</th>\n",
       "      <td>58</td>\n",
       "      <td>management</td>\n",
       "      <td>married</td>\n",
       "      <td>tertiary</td>\n",
       "      <td>no</td>\n",
       "      <td>2143</td>\n",
       "      <td>yes</td>\n",
       "      <td>no</td>\n",
       "      <td>unknown</td>\n",
       "      <td>5</td>\n",
       "      <td>may</td>\n",
       "      <td>261</td>\n",
       "      <td>1</td>\n",
       "      <td>-1</td>\n",
       "      <td>0</td>\n",
       "      <td>unknown</td>\n",
       "      <td>no</td>\n",
       "    </tr>\n",
       "    <tr>\n",
       "      <th>1</th>\n",
       "      <td>44</td>\n",
       "      <td>technician</td>\n",
       "      <td>single</td>\n",
       "      <td>secondary</td>\n",
       "      <td>no</td>\n",
       "      <td>29</td>\n",
       "      <td>yes</td>\n",
       "      <td>no</td>\n",
       "      <td>unknown</td>\n",
       "      <td>5</td>\n",
       "      <td>may</td>\n",
       "      <td>151</td>\n",
       "      <td>1</td>\n",
       "      <td>-1</td>\n",
       "      <td>0</td>\n",
       "      <td>unknown</td>\n",
       "      <td>no</td>\n",
       "    </tr>\n",
       "    <tr>\n",
       "      <th>2</th>\n",
       "      <td>33</td>\n",
       "      <td>entrepreneur</td>\n",
       "      <td>married</td>\n",
       "      <td>secondary</td>\n",
       "      <td>no</td>\n",
       "      <td>2</td>\n",
       "      <td>yes</td>\n",
       "      <td>yes</td>\n",
       "      <td>unknown</td>\n",
       "      <td>5</td>\n",
       "      <td>may</td>\n",
       "      <td>76</td>\n",
       "      <td>1</td>\n",
       "      <td>-1</td>\n",
       "      <td>0</td>\n",
       "      <td>unknown</td>\n",
       "      <td>no</td>\n",
       "    </tr>\n",
       "    <tr>\n",
       "      <th>3</th>\n",
       "      <td>47</td>\n",
       "      <td>blue-collar</td>\n",
       "      <td>married</td>\n",
       "      <td>unknown</td>\n",
       "      <td>no</td>\n",
       "      <td>1506</td>\n",
       "      <td>yes</td>\n",
       "      <td>no</td>\n",
       "      <td>unknown</td>\n",
       "      <td>5</td>\n",
       "      <td>may</td>\n",
       "      <td>92</td>\n",
       "      <td>1</td>\n",
       "      <td>-1</td>\n",
       "      <td>0</td>\n",
       "      <td>unknown</td>\n",
       "      <td>no</td>\n",
       "    </tr>\n",
       "    <tr>\n",
       "      <th>4</th>\n",
       "      <td>33</td>\n",
       "      <td>unknown</td>\n",
       "      <td>single</td>\n",
       "      <td>unknown</td>\n",
       "      <td>no</td>\n",
       "      <td>1</td>\n",
       "      <td>no</td>\n",
       "      <td>no</td>\n",
       "      <td>unknown</td>\n",
       "      <td>5</td>\n",
       "      <td>may</td>\n",
       "      <td>198</td>\n",
       "      <td>1</td>\n",
       "      <td>-1</td>\n",
       "      <td>0</td>\n",
       "      <td>unknown</td>\n",
       "      <td>no</td>\n",
       "    </tr>\n",
       "  </tbody>\n",
       "</table>\n",
       "</div>"
      ],
      "text/plain": [
       "   age           job  marital  education default  balance housing loan  \\\n",
       "0   58    management  married   tertiary      no     2143     yes   no   \n",
       "1   44    technician   single  secondary      no       29     yes   no   \n",
       "2   33  entrepreneur  married  secondary      no        2     yes  yes   \n",
       "3   47   blue-collar  married    unknown      no     1506     yes   no   \n",
       "4   33       unknown   single    unknown      no        1      no   no   \n",
       "\n",
       "   contact  day month  duration  campaign  pdays  previous poutcome   y  \n",
       "0  unknown    5   may       261         1     -1         0  unknown  no  \n",
       "1  unknown    5   may       151         1     -1         0  unknown  no  \n",
       "2  unknown    5   may        76         1     -1         0  unknown  no  \n",
       "3  unknown    5   may        92         1     -1         0  unknown  no  \n",
       "4  unknown    5   may       198         1     -1         0  unknown  no  "
      ]
     },
     "execution_count": 18,
     "metadata": {},
     "output_type": "execute_result"
    }
   ],
   "source": [
    "s5.head()"
   ]
  },
  {
   "cell_type": "code",
   "execution_count": 19,
   "id": "4ca6ce8a",
   "metadata": {},
   "outputs": [
    {
     "data": {
      "text/plain": [
       "<matplotlib.axes._subplots.AxesSubplot at 0x18e7f9f0d30>"
      ]
     },
     "execution_count": 19,
     "metadata": {},
     "output_type": "execute_result"
    },
    {
     "data": {
      "image/png": "[encoded data removed]",
      "text/plain": [
       "<Figure size 432x288 with 1 Axes>"
      ]
     },
     "metadata": {
      "needs_background": "light"
     },
     "output_type": "display_data"
    }
   ],
   "source": [
    "sns.boxplot(data = s5, x = 'campaign', y = 'y')"
   ]
  },
  {
   "cell_type": "code",
   "execution_count": 20,
   "id": "5b80bfe4",
   "metadata": {},
   "outputs": [],
   "source": [
    "s5['y_bool'] = s5['y'].apply(lambda x: 1 if x == 'yes' else 0)"
   ]
  },
  {
   "cell_type": "code",
   "execution_count": 21,
   "id": "6180bcb8",
   "metadata": {},
   "outputs": [],
   "source": [
    "# Durasi 1 tahun\n",
    "s5x = s5[s5['duration'] <= 365].groupby('campaign').agg({'y_bool': ['sum', 'count']}).reset_index()\n",
    "s5x.columns = ['campaign', 'yes', 'total']\n",
    "s5x['cr'] = s5x['yes'] / s5x['total']"
   ]
  },
  {
   "cell_type": "code",
   "execution_count": 22,
   "id": "e82102b1",
   "metadata": {},
   "outputs": [
    {
     "data": {
      "text/plain": [
       "Text(0, 0.5, 'conversion rate')"
      ]
     },
     "execution_count": 22,
     "metadata": {},
     "output_type": "execute_result"
    },
    {
     "data": {
      "image/png": "[encoded data removed]",
      "text/plain": [
       "<Figure size 720x432 with 1 Axes>"
      ]
     },
     "metadata": {
      "needs_background": "light"
     },
     "output_type": "display_data"
    }
   ],
   "source": [
    "fig = plt.figure(figsize = (10,6))\n",
    "g = sns.barplot(data = s5x, x = 'campaign', y = 'cr')\n",
    "g.set_xlabel('total campaign')\n",
    "g.set_ylabel('conversion rate')"
   ]
  },
  {
   "cell_type": "markdown",
   "id": "18dd437a",
   "metadata": {},
   "source": [
    "Dari data di atas, terlihat bahwa dalam 1 tahun user dapat menerima hingga 63 campaign berbeda. Terlihat bahwa conversion rate dari user yang menerima lebih dari 21 jenis campaign dalam satu tahun memiliki conversion rate yang bernilai 0."
   ]
  },
  {
   "cell_type": "code",
   "execution_count": 23,
   "id": "5b2f3f17",
   "metadata": {},
   "outputs": [
    {
     "data": {
      "text/html": [
       "<div>\n",
       "<style scoped>\n",
       "    .dataframe tbody tr th:only-of-type {\n",
       "        vertical-align: middle;\n",
       "    }\n",
       "\n",
       "    .dataframe tbody tr th {\n",
       "        vertical-align: top;\n",
       "    }\n",
       "\n",
       "    .dataframe thead th {\n",
       "        text-align: right;\n",
       "    }\n",
       "</style>\n",
       "<table border=\"1\" class=\"dataframe\">\n",
       "  <thead>\n",
       "    <tr style=\"text-align: right;\">\n",
       "      <th></th>\n",
       "      <th>count</th>\n",
       "      <th>mean</th>\n",
       "      <th>std</th>\n",
       "      <th>min</th>\n",
       "      <th>25%</th>\n",
       "      <th>50%</th>\n",
       "      <th>75%</th>\n",
       "      <th>max</th>\n",
       "    </tr>\n",
       "  </thead>\n",
       "  <tbody>\n",
       "    <tr>\n",
       "      <th>campaign</th>\n",
       "      <td>36076.0</td>\n",
       "      <td>2.843303</td>\n",
       "      <td>3.264871</td>\n",
       "      <td>1.0</td>\n",
       "      <td>1.0</td>\n",
       "      <td>2.0</td>\n",
       "      <td>3.0</td>\n",
       "      <td>63.0</td>\n",
       "    </tr>\n",
       "  </tbody>\n",
       "</table>\n",
       "</div>"
      ],
      "text/plain": [
       "            count      mean       std  min  25%  50%  75%   max\n",
       "campaign  36076.0  2.843303  3.264871  1.0  1.0  2.0  3.0  63.0"
      ]
     },
     "execution_count": 23,
     "metadata": {},
     "output_type": "execute_result"
    }
   ],
   "source": [
    "# Filter durasi 1 tahun, supaya eksperimen tidak terlalu lama-lama\n",
    "df_f = s5[s5['duration'] <= 365]\n",
    "df_f['campaign'].describe().to_frame().T"
   ]
  },
  {
   "cell_type": "code",
   "execution_count": 24,
   "id": "cff6a688",
   "metadata": {},
   "outputs": [
    {
     "name": "stdout",
     "output_type": "stream",
     "text": [
      "(13980, 18)\n",
      "(22096, 18)\n"
     ]
    }
   ],
   "source": [
    "df_single = df_f[df_f['campaign'] == 1]\n",
    "df_multiple = df_f[df_f['campaign'] > 1]\n",
    "print(df_single.shape)\n",
    "print(df_multiple.shape)"
   ]
  },
  {
   "cell_type": "markdown",
   "id": "45901621",
   "metadata": {},
   "source": [
    "**Pemahaman konsep A/B Testing**\n",
    "\n",
    "* *Apa nama experimentnya?* \n",
    "    * \"AB Test: Pengaruh Single Campaign (A) vs Multiple Campaign (B) Terhadap Keinginan Membuka Rekening Deposit Baru\"\n",
    "* *Definisikan Hipotesis?* \n",
    "    * Single campaign lebih menarik keinginan user untuk membuka akun deposit\n",
    "* *Siapa participant-nya?* \n",
    "    * Nasabah bank yang belum membuka akun deposit\n",
    "* *Variabel yang akan diuji apa?* \n",
    "    * Frekuensi campaign?\n",
    "* *Metrics apa yang akan digunakan?* \n",
    "    * Conversion rate single vs multiple campaign\n",
    "    * Conversion rate = rasio konsumen yang akhirnya buka akun dibandingkan jumlah awal\n",
    "* *Berapa sample size dan durasi experiment?* \n",
    "    * 10000 nasabah, 1 year"
   ]
  },
  {
   "cell_type": "code",
   "execution_count": 25,
   "id": "c4e006d4",
   "metadata": {},
   "outputs": [],
   "source": [
    "df_single_sampled = df_single.sample(n=10000, random_state = 42)\n",
    "df_mult_sampled = df_multiple.sample(n=10000, random_state = 42)"
   ]
  },
  {
   "cell_type": "code",
   "execution_count": 26,
   "id": "e389b7bd",
   "metadata": {},
   "outputs": [
    {
     "data": {
      "text/html": [
       "<div>\n",
       "<style scoped>\n",
       "    .dataframe tbody tr th:only-of-type {\n",
       "        vertical-align: middle;\n",
       "    }\n",
       "\n",
       "    .dataframe tbody tr th {\n",
       "        vertical-align: top;\n",
       "    }\n",
       "\n",
       "    .dataframe thead th {\n",
       "        text-align: right;\n",
       "    }\n",
       "</style>\n",
       "<table border=\"1\" class=\"dataframe\">\n",
       "  <thead>\n",
       "    <tr style=\"text-align: right;\">\n",
       "      <th></th>\n",
       "      <th>age</th>\n",
       "      <th>job</th>\n",
       "      <th>marital</th>\n",
       "      <th>education</th>\n",
       "      <th>default</th>\n",
       "      <th>balance</th>\n",
       "      <th>housing</th>\n",
       "      <th>loan</th>\n",
       "      <th>contact</th>\n",
       "      <th>day</th>\n",
       "      <th>month</th>\n",
       "      <th>duration</th>\n",
       "      <th>campaign</th>\n",
       "      <th>pdays</th>\n",
       "      <th>previous</th>\n",
       "      <th>poutcome</th>\n",
       "      <th>y</th>\n",
       "      <th>y_bool</th>\n",
       "    </tr>\n",
       "  </thead>\n",
       "  <tbody>\n",
       "    <tr>\n",
       "      <th>44684</th>\n",
       "      <td>22</td>\n",
       "      <td>student</td>\n",
       "      <td>single</td>\n",
       "      <td>secondary</td>\n",
       "      <td>no</td>\n",
       "      <td>249</td>\n",
       "      <td>no</td>\n",
       "      <td>no</td>\n",
       "      <td>unknown</td>\n",
       "      <td>5</td>\n",
       "      <td>sep</td>\n",
       "      <td>11</td>\n",
       "      <td>1</td>\n",
       "      <td>-1</td>\n",
       "      <td>0</td>\n",
       "      <td>unknown</td>\n",
       "      <td>no</td>\n",
       "      <td>0</td>\n",
       "    </tr>\n",
       "    <tr>\n",
       "      <th>41197</th>\n",
       "      <td>73</td>\n",
       "      <td>retired</td>\n",
       "      <td>married</td>\n",
       "      <td>unknown</td>\n",
       "      <td>no</td>\n",
       "      <td>519</td>\n",
       "      <td>no</td>\n",
       "      <td>no</td>\n",
       "      <td>telephone</td>\n",
       "      <td>20</td>\n",
       "      <td>aug</td>\n",
       "      <td>91</td>\n",
       "      <td>1</td>\n",
       "      <td>-1</td>\n",
       "      <td>0</td>\n",
       "      <td>unknown</td>\n",
       "      <td>no</td>\n",
       "      <td>0</td>\n",
       "    </tr>\n",
       "    <tr>\n",
       "      <th>24761</th>\n",
       "      <td>42</td>\n",
       "      <td>entrepreneur</td>\n",
       "      <td>married</td>\n",
       "      <td>tertiary</td>\n",
       "      <td>no</td>\n",
       "      <td>2249</td>\n",
       "      <td>yes</td>\n",
       "      <td>no</td>\n",
       "      <td>telephone</td>\n",
       "      <td>18</td>\n",
       "      <td>nov</td>\n",
       "      <td>228</td>\n",
       "      <td>1</td>\n",
       "      <td>125</td>\n",
       "      <td>5</td>\n",
       "      <td>failure</td>\n",
       "      <td>no</td>\n",
       "      <td>0</td>\n",
       "    </tr>\n",
       "    <tr>\n",
       "      <th>8785</th>\n",
       "      <td>27</td>\n",
       "      <td>management</td>\n",
       "      <td>single</td>\n",
       "      <td>tertiary</td>\n",
       "      <td>no</td>\n",
       "      <td>648</td>\n",
       "      <td>yes</td>\n",
       "      <td>yes</td>\n",
       "      <td>unknown</td>\n",
       "      <td>4</td>\n",
       "      <td>jun</td>\n",
       "      <td>174</td>\n",
       "      <td>1</td>\n",
       "      <td>-1</td>\n",
       "      <td>0</td>\n",
       "      <td>unknown</td>\n",
       "      <td>no</td>\n",
       "      <td>0</td>\n",
       "    </tr>\n",
       "    <tr>\n",
       "      <th>10556</th>\n",
       "      <td>59</td>\n",
       "      <td>blue-collar</td>\n",
       "      <td>married</td>\n",
       "      <td>secondary</td>\n",
       "      <td>no</td>\n",
       "      <td>969</td>\n",
       "      <td>no</td>\n",
       "      <td>no</td>\n",
       "      <td>unknown</td>\n",
       "      <td>16</td>\n",
       "      <td>jun</td>\n",
       "      <td>270</td>\n",
       "      <td>1</td>\n",
       "      <td>-1</td>\n",
       "      <td>0</td>\n",
       "      <td>unknown</td>\n",
       "      <td>no</td>\n",
       "      <td>0</td>\n",
       "    </tr>\n",
       "  </tbody>\n",
       "</table>\n",
       "</div>"
      ],
      "text/plain": [
       "       age           job  marital  education default  balance housing loan  \\\n",
       "44684   22       student   single  secondary      no      249      no   no   \n",
       "41197   73       retired  married    unknown      no      519      no   no   \n",
       "24761   42  entrepreneur  married   tertiary      no     2249     yes   no   \n",
       "8785    27    management   single   tertiary      no      648     yes  yes   \n",
       "10556   59   blue-collar  married  secondary      no      969      no   no   \n",
       "\n",
       "         contact  day month  duration  campaign  pdays  previous poutcome   y  \\\n",
       "44684    unknown    5   sep        11         1     -1         0  unknown  no   \n",
       "41197  telephone   20   aug        91         1     -1         0  unknown  no   \n",
       "24761  telephone   18   nov       228         1    125         5  failure  no   \n",
       "8785     unknown    4   jun       174         1     -1         0  unknown  no   \n",
       "10556    unknown   16   jun       270         1     -1         0  unknown  no   \n",
       "\n",
       "       y_bool  \n",
       "44684       0  \n",
       "41197       0  \n",
       "24761       0  \n",
       "8785        0  \n",
       "10556       0  "
      ]
     },
     "execution_count": 26,
     "metadata": {},
     "output_type": "execute_result"
    }
   ],
   "source": [
    "df_single_sampled.head()"
   ]
  },
  {
   "cell_type": "markdown",
   "id": "05293352",
   "metadata": {},
   "source": [
    "**Pengujian Hipotesis**\n",
    "\n",
    "* *Penentuan hipotesis*\n",
    "    * H0: single campaign and multiple campaign have same conversion rate\n",
    "    * H1: single campaign and multiple campaign do not have same conversion rate\n",
    "* *Pengujian yang digunakan*\n",
    "    * proportions_ztest\n",
    "* *Deteksi asumsi beserta cara penanganannya*\n",
    "    * proportion z-test assumption:\n",
    "        * \"Sample size is large enough for z to be approximately normally distributed\" -> each 10000 sample\n",
    "        * \"Group 1 sample is a simple random sample (SRS) from population 1, group 2 sample is an independent SRS from population 2. That is, within and between groups, observations are independent of one another\" -> Yes, filtered that already. Population 1 campaign = 1, population 2 campaign > 1. Then sampled randomly between each group.\n",
    "* *Hasil pengujian hipotesis*\n",
    "    * Below\n",
    "* *Kesimpulan dan interpretasi*\n",
    "    * Below"
   ]
  },
  {
   "cell_type": "code",
   "execution_count": 27,
   "id": "c9707392",
   "metadata": {},
   "outputs": [
    {
     "name": "stdout",
     "output_type": "stream",
     "text": [
      "911\n",
      "434\n"
     ]
    }
   ],
   "source": [
    "n_success_control = df_single_sampled['y_bool'].sum()\n",
    "n_success_treatment = df_mult_sampled['y_bool'].sum()\n",
    "\n",
    "n_obs_control = df_single_sampled['y_bool'].count()\n",
    "n_obs_treatment = df_mult_sampled['y_bool'].count()\n",
    "print(n_success_control)\n",
    "print(n_success_treatment)"
   ]
  },
  {
   "cell_type": "code",
   "execution_count": 28,
   "id": "871db2a9",
   "metadata": {},
   "outputs": [
    {
     "name": "stdout",
     "output_type": "stream",
     "text": [
      "Conversion Rate from Control : 0.0911\n",
      "Conversion Rate from Treatment : 0.0434\n"
     ]
    }
   ],
   "source": [
    "control_conversion_rate = n_success_control/n_obs_control\n",
    "treatment_conversion_rate = n_success_treatment/n_obs_treatment\n",
    "print('Conversion Rate from Control : {0:0.4f}'.format(control_conversion_rate))\n",
    "print('Conversion Rate from Treatment : {0:0.4f}'.format(treatment_conversion_rate))"
   ]
  },
  {
   "cell_type": "code",
   "execution_count": 29,
   "id": "99ea1e1e",
   "metadata": {},
   "outputs": [
    {
     "data": {
      "text/plain": [
       "(0, 0.1)"
      ]
     },
     "execution_count": 29,
     "metadata": {},
     "output_type": "execute_result"
    },
    {
     "data": {
      "image/png": "[encoded data removed]",
      "text/plain": [
       "<Figure size 432x288 with 1 Axes>"
      ]
     },
     "metadata": {
      "needs_background": "light"
     },
     "output_type": "display_data"
    }
   ],
   "source": [
    "x = ['single (control)','multiple (treatment)']\n",
    "value = [control_conversion_rate,treatment_conversion_rate]\n",
    "plt.bar(x,value)\n",
    "\n",
    "plt.ylim(0,0.10)"
   ]
  },
  {
   "cell_type": "markdown",
   "id": "8524e7ec",
   "metadata": {},
   "source": [
    "Okay, so, based on the chart conversion rate of single campaign is higher than multiple campaign.\n",
    "\n",
    "Is the difference significant? We will do the hypothesis testing using proportions ztest"
   ]
  },
  {
   "cell_type": "markdown",
   "id": "de3c798d",
   "metadata": {},
   "source": [
    "**Hypothesis Testing**"
   ]
  },
  {
   "cell_type": "code",
   "execution_count": 30,
   "id": "af373da1",
   "metadata": {},
   "outputs": [
    {
     "name": "stderr",
     "output_type": "stream",
     "text": [
      "C:\\Users\\Asif\\Anaconda3\\lib\\site-packages\\statsmodels\\tools\\_testing.py:19: FutureWarning: pandas.util.testing is deprecated. Use the functions in the public API at pandas.testing instead.\n",
      "  import pandas.util.testing as tm\n"
     ]
    }
   ],
   "source": [
    "# H0: single campaign and multiple campaign have same conversion rate\n",
    "# H1: single campaign and multiple campaign do not have same conversion rate\n",
    "\n",
    "import statsmodels.stats.proportion as sp"
   ]
  },
  {
   "cell_type": "code",
   "execution_count": 31,
   "id": "b33d182f",
   "metadata": {},
   "outputs": [
    {
     "name": "stdout",
     "output_type": "stream",
     "text": [
      "P-Value : 0.0000\n",
      "Sufficient to reject H0\n"
     ]
    }
   ],
   "source": [
    "## making array\n",
    "success = np.array([n_success_control,n_success_treatment])\n",
    "obs = np.array([n_obs_control,n_obs_treatment])\n",
    "\n",
    "stats,pvalue = sp.proportions_ztest(success,obs)\n",
    "\n",
    "print('P-Value : {0:0.4f}'.format(pvalue))\n",
    "if pvalue >= 0.05:\n",
    "    print('Insufficient to reject H0')\n",
    "else :\n",
    "    print('Sufficient to reject H0')"
   ]
  },
  {
   "cell_type": "markdown",
   "id": "cfae9dea",
   "metadata": {},
   "source": [
    "**Kesimpulan dan interpretasi**"
   ]
  },
  {
   "cell_type": "markdown",
   "id": "d48c09e6",
   "metadata": {},
   "source": [
    "Oke, jadi setelah dilakukan uji hipotesis pada 20000 nasabah dalam eksperimen yang berdurasi 1 tahun, terlihat bahwa nilai P value di bawah 0.05, artinya terdapat cukup bukti untuk menolak H0.\n",
    "\n",
    "Artinya terdapat perbedaan yang signifikan dari variabel kontrol dan variabel treatment. Dari grafik terlihat bahwa conversion rate single campaign lebih besar dibandingkan conversion rate multiple campaign. Artinya, single campaign lebih baik untuk mengajak user yang belum menggunakan deposit untuk menggunakan deposit dibandingkan multiple campaign.\n",
    "\n",
    "**Contoh penerapan dalam bisnis bagaimana?** Single campaign tidak berarti hanya satu aktivitas. Satu campaign bisa berisi banyak aktivitas marketing yang saling berhubungan, terfokus pada tema campaign tersebut. Single campaign cenderung lebih fokus pada satu campaign, sehingga campaign tersebut lebih melekat pada pengguna. Contohnya misal perusahaan yang fokus pada campaign tanggal unik (1-1,2-2,3-3) dst, atau perusahaan yang fokus pada campaign PayDay (tanggal gajian). Perusahaan yang cenderung fokus pada satu campaign, akan lebih melekat pada pengguna, daripada perusahaan menggabungkan banyak campaign, karena multiple campaign membuat ciri khas perusahaan sulit didapatkan oleh pengguna, sehingga tidak terlihat apa yang menjadi differentiator dari perusahaan multiple campaign tersebut."
   ]
  }
 ],
 "metadata": {
  "kernelspec": {
   "display_name": "Python 3",
   "language": "python",
   "name": "python3"
  },
  "language_info": {
   "codemirror_mode": {
    "name": "ipython",
    "version": 3
   },
   "file_extension": ".py",
   "mimetype": "text/x-python",
   "name": "python",
   "nbconvert_exporter": "python",
   "pygments_lexer": "ipython3",
   "version": "3.7.3"
  }
 },
 "nbformat": 4,
 "nbformat_minor": 5
}
