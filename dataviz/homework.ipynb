{
 "cells": [
  {
   "cell_type": "markdown",
   "id": "c600e5e5",
   "metadata": {},
   "source": [
    "Nama: Almas Rausan Fikri"
   ]
  },
  {
   "cell_type": "code",
   "execution_count": 1,
   "id": "2ed0ddb2",
   "metadata": {},
   "outputs": [],
   "source": [
    "import pandas as pd\n",
    "import numpy as np\n",
    "import matplotlib.pyplot as plt\n",
    "import seaborn as sns\n",
    "import matplotlib.style as style\n",
    "import matplotlib.ticker as mtick\n",
    "\n",
    "style.use('fivethirtyeight')"
   ]
  },
  {
   "cell_type": "code",
   "execution_count": 2,
   "id": "f026cc60",
   "metadata": {},
   "outputs": [],
   "source": [
    "df = pd.read_csv('telco.csv')"
   ]
  },
  {
   "cell_type": "code",
   "execution_count": 3,
   "id": "0fc7a74a",
   "metadata": {},
   "outputs": [
    {
     "data": {
      "text/html": [
       "<div>\n",
       "<style scoped>\n",
       "    .dataframe tbody tr th:only-of-type {\n",
       "        vertical-align: middle;\n",
       "    }\n",
       "\n",
       "    .dataframe tbody tr th {\n",
       "        vertical-align: top;\n",
       "    }\n",
       "\n",
       "    .dataframe thead th {\n",
       "        text-align: right;\n",
       "    }\n",
       "</style>\n",
       "<table border=\"1\" class=\"dataframe\">\n",
       "  <thead>\n",
       "    <tr style=\"text-align: right;\">\n",
       "      <th></th>\n",
       "      <th>customerID</th>\n",
       "      <th>gender</th>\n",
       "      <th>SeniorCitizen</th>\n",
       "      <th>Partner</th>\n",
       "      <th>Dependents</th>\n",
       "      <th>tenure</th>\n",
       "      <th>PhoneService</th>\n",
       "      <th>MultipleLines</th>\n",
       "      <th>InternetService</th>\n",
       "      <th>OnlineSecurity</th>\n",
       "      <th>...</th>\n",
       "      <th>DeviceProtection</th>\n",
       "      <th>TechSupport</th>\n",
       "      <th>StreamingTV</th>\n",
       "      <th>StreamingMovies</th>\n",
       "      <th>Contract</th>\n",
       "      <th>PaperlessBilling</th>\n",
       "      <th>PaymentMethod</th>\n",
       "      <th>MonthlyCharges</th>\n",
       "      <th>TotalCharges</th>\n",
       "      <th>Churn</th>\n",
       "    </tr>\n",
       "  </thead>\n",
       "  <tbody>\n",
       "    <tr>\n",
       "      <th>0</th>\n",
       "      <td>7590-VHVEG</td>\n",
       "      <td>Female</td>\n",
       "      <td>0</td>\n",
       "      <td>Yes</td>\n",
       "      <td>No</td>\n",
       "      <td>1</td>\n",
       "      <td>No</td>\n",
       "      <td>No phone service</td>\n",
       "      <td>DSL</td>\n",
       "      <td>No</td>\n",
       "      <td>...</td>\n",
       "      <td>No</td>\n",
       "      <td>No</td>\n",
       "      <td>No</td>\n",
       "      <td>No</td>\n",
       "      <td>Month-to-month</td>\n",
       "      <td>Yes</td>\n",
       "      <td>Electronic check</td>\n",
       "      <td>29.85</td>\n",
       "      <td>29.85</td>\n",
       "      <td>No</td>\n",
       "    </tr>\n",
       "    <tr>\n",
       "      <th>1</th>\n",
       "      <td>5575-GNVDE</td>\n",
       "      <td>Male</td>\n",
       "      <td>0</td>\n",
       "      <td>No</td>\n",
       "      <td>No</td>\n",
       "      <td>34</td>\n",
       "      <td>Yes</td>\n",
       "      <td>No</td>\n",
       "      <td>DSL</td>\n",
       "      <td>Yes</td>\n",
       "      <td>...</td>\n",
       "      <td>Yes</td>\n",
       "      <td>No</td>\n",
       "      <td>No</td>\n",
       "      <td>No</td>\n",
       "      <td>One year</td>\n",
       "      <td>No</td>\n",
       "      <td>Mailed check</td>\n",
       "      <td>56.95</td>\n",
       "      <td>1889.5</td>\n",
       "      <td>No</td>\n",
       "    </tr>\n",
       "    <tr>\n",
       "      <th>2</th>\n",
       "      <td>3668-QPYBK</td>\n",
       "      <td>Male</td>\n",
       "      <td>0</td>\n",
       "      <td>No</td>\n",
       "      <td>No</td>\n",
       "      <td>2</td>\n",
       "      <td>Yes</td>\n",
       "      <td>No</td>\n",
       "      <td>DSL</td>\n",
       "      <td>Yes</td>\n",
       "      <td>...</td>\n",
       "      <td>No</td>\n",
       "      <td>No</td>\n",
       "      <td>No</td>\n",
       "      <td>No</td>\n",
       "      <td>Month-to-month</td>\n",
       "      <td>Yes</td>\n",
       "      <td>Mailed check</td>\n",
       "      <td>53.85</td>\n",
       "      <td>108.15</td>\n",
       "      <td>Yes</td>\n",
       "    </tr>\n",
       "    <tr>\n",
       "      <th>3</th>\n",
       "      <td>7795-CFOCW</td>\n",
       "      <td>Male</td>\n",
       "      <td>0</td>\n",
       "      <td>No</td>\n",
       "      <td>No</td>\n",
       "      <td>45</td>\n",
       "      <td>No</td>\n",
       "      <td>No phone service</td>\n",
       "      <td>DSL</td>\n",
       "      <td>Yes</td>\n",
       "      <td>...</td>\n",
       "      <td>Yes</td>\n",
       "      <td>Yes</td>\n",
       "      <td>No</td>\n",
       "      <td>No</td>\n",
       "      <td>One year</td>\n",
       "      <td>No</td>\n",
       "      <td>Bank transfer (automatic)</td>\n",
       "      <td>42.30</td>\n",
       "      <td>1840.75</td>\n",
       "      <td>No</td>\n",
       "    </tr>\n",
       "    <tr>\n",
       "      <th>4</th>\n",
       "      <td>9237-HQITU</td>\n",
       "      <td>Female</td>\n",
       "      <td>0</td>\n",
       "      <td>No</td>\n",
       "      <td>No</td>\n",
       "      <td>2</td>\n",
       "      <td>Yes</td>\n",
       "      <td>No</td>\n",
       "      <td>Fiber optic</td>\n",
       "      <td>No</td>\n",
       "      <td>...</td>\n",
       "      <td>No</td>\n",
       "      <td>No</td>\n",
       "      <td>No</td>\n",
       "      <td>No</td>\n",
       "      <td>Month-to-month</td>\n",
       "      <td>Yes</td>\n",
       "      <td>Electronic check</td>\n",
       "      <td>70.70</td>\n",
       "      <td>151.65</td>\n",
       "      <td>Yes</td>\n",
       "    </tr>\n",
       "  </tbody>\n",
       "</table>\n",
       "<p>5 rows × 21 columns</p>\n",
       "</div>"
      ],
      "text/plain": [
       "   customerID  gender  SeniorCitizen Partner Dependents  tenure PhoneService  \\\n",
       "0  7590-VHVEG  Female              0     Yes         No       1           No   \n",
       "1  5575-GNVDE    Male              0      No         No      34          Yes   \n",
       "2  3668-QPYBK    Male              0      No         No       2          Yes   \n",
       "3  7795-CFOCW    Male              0      No         No      45           No   \n",
       "4  9237-HQITU  Female              0      No         No       2          Yes   \n",
       "\n",
       "      MultipleLines InternetService OnlineSecurity  ... DeviceProtection  \\\n",
       "0  No phone service             DSL             No  ...               No   \n",
       "1                No             DSL            Yes  ...              Yes   \n",
       "2                No             DSL            Yes  ...               No   \n",
       "3  No phone service             DSL            Yes  ...              Yes   \n",
       "4                No     Fiber optic             No  ...               No   \n",
       "\n",
       "  TechSupport StreamingTV StreamingMovies        Contract PaperlessBilling  \\\n",
       "0          No          No              No  Month-to-month              Yes   \n",
       "1          No          No              No        One year               No   \n",
       "2          No          No              No  Month-to-month              Yes   \n",
       "3         Yes          No              No        One year               No   \n",
       "4          No          No              No  Month-to-month              Yes   \n",
       "\n",
       "               PaymentMethod MonthlyCharges  TotalCharges Churn  \n",
       "0           Electronic check          29.85         29.85    No  \n",
       "1               Mailed check          56.95        1889.5    No  \n",
       "2               Mailed check          53.85        108.15   Yes  \n",
       "3  Bank transfer (automatic)          42.30       1840.75    No  \n",
       "4           Electronic check          70.70        151.65   Yes  \n",
       "\n",
       "[5 rows x 21 columns]"
      ]
     },
     "execution_count": 3,
     "metadata": {},
     "output_type": "execute_result"
    }
   ],
   "source": [
    "df.head()"
   ]
  },
  {
   "cell_type": "code",
   "execution_count": 4,
   "id": "7e06e217",
   "metadata": {},
   "outputs": [
    {
     "name": "stdout",
     "output_type": "stream",
     "text": [
      "<class 'pandas.core.frame.DataFrame'>\n",
      "RangeIndex: 7043 entries, 0 to 7042\n",
      "Data columns (total 21 columns):\n",
      " #   Column            Non-Null Count  Dtype  \n",
      "---  ------            --------------  -----  \n",
      " 0   customerID        7043 non-null   object \n",
      " 1   gender            7043 non-null   object \n",
      " 2   SeniorCitizen     7043 non-null   int64  \n",
      " 3   Partner           7043 non-null   object \n",
      " 4   Dependents        7043 non-null   object \n",
      " 5   tenure            7043 non-null   int64  \n",
      " 6   PhoneService      7043 non-null   object \n",
      " 7   MultipleLines     7043 non-null   object \n",
      " 8   InternetService   7043 non-null   object \n",
      " 9   OnlineSecurity    7043 non-null   object \n",
      " 10  OnlineBackup      7043 non-null   object \n",
      " 11  DeviceProtection  7043 non-null   object \n",
      " 12  TechSupport       7043 non-null   object \n",
      " 13  StreamingTV       7043 non-null   object \n",
      " 14  StreamingMovies   7043 non-null   object \n",
      " 15  Contract          7043 non-null   object \n",
      " 16  PaperlessBilling  7043 non-null   object \n",
      " 17  PaymentMethod     7043 non-null   object \n",
      " 18  MonthlyCharges    7043 non-null   float64\n",
      " 19  TotalCharges      7043 non-null   object \n",
      " 20  Churn             7043 non-null   object \n",
      "dtypes: float64(1), int64(2), object(18)\n",
      "memory usage: 1.1+ MB\n"
     ]
    }
   ],
   "source": [
    "df.info()"
   ]
  },
  {
   "cell_type": "markdown",
   "id": "0fa8579f",
   "metadata": {},
   "source": [
    "# Daftar Isi\n",
    "\n",
    "* [Daftar Isi](#Daftar-Isi)\n",
    "* [Soal 1](#Soal-1)\n",
    "* [Soal 2](#Soal-2)\n",
    "* [Soal 3](#Soal-3)\n",
    "* [Soal 4](#Soal-4)\n",
    "* [Soal 5](#Soal-5)\n",
    "* [Soal 6](#Soal-6)\n",
    "* [Soal 7](#Soal-7)"
   ]
  },
  {
   "cell_type": "markdown",
   "id": "1da332bb",
   "metadata": {},
   "source": [
    "# Soal 1"
   ]
  },
  {
   "cell_type": "code",
   "execution_count": 5,
   "id": "e4b3e4ac",
   "metadata": {},
   "outputs": [
    {
     "data": {
      "image/png": "[encoded data removed]",
      "text/plain": [
       "<Figure size 432x288 with 1 Axes>"
      ]
     },
     "metadata": {
      "needs_background": "light"
     },
     "output_type": "display_data"
    }
   ],
   "source": [
    "df1 = df.copy()\n",
    "g = df1.groupby('PaymentMethod').agg({'MonthlyCharges': 'mean'}).plot(kind = 'barh')\n",
    "g.legend(\"\")\n",
    "g.set_xlabel(\"Monthly Charges Average\")\n",
    "\n",
    "for p in g.patches:\n",
    "    g.annotate(f'$ {p.get_width():.2f}',\n",
    "               xy = (p.get_x() + p.get_width() / 2,\n",
    "                     p.get_y() + p.get_height() / 2,),\n",
    "               ha = 'center',\n",
    "               va = 'center',\n",
    "               color = 'white'\n",
    "              )"
   ]
  },
  {
   "cell_type": "markdown",
   "id": "dd508e6e",
   "metadata": {},
   "source": [
    "Rata-rata biaya bulanan untuk electronic check lebih tinggi dibandingkan lainnya, sedangkan mailed check yang paling rendah."
   ]
  },
  {
   "cell_type": "markdown",
   "id": "55109d1e",
   "metadata": {},
   "source": [
    "# Soal 2"
   ]
  },
  {
   "cell_type": "code",
   "execution_count": 6,
   "id": "4b2d5f38",
   "metadata": {},
   "outputs": [
    {
     "data": {
      "text/html": [
       "<div>\n",
       "<style scoped>\n",
       "    .dataframe tbody tr th:only-of-type {\n",
       "        vertical-align: middle;\n",
       "    }\n",
       "\n",
       "    .dataframe tbody tr th {\n",
       "        vertical-align: top;\n",
       "    }\n",
       "\n",
       "    .dataframe thead th {\n",
       "        text-align: right;\n",
       "    }\n",
       "</style>\n",
       "<table border=\"1\" class=\"dataframe\">\n",
       "  <thead>\n",
       "    <tr style=\"text-align: right;\">\n",
       "      <th></th>\n",
       "      <th>tenure</th>\n",
       "      <th>tenure_group</th>\n",
       "    </tr>\n",
       "  </thead>\n",
       "  <tbody>\n",
       "    <tr>\n",
       "      <th>0</th>\n",
       "      <td>1</td>\n",
       "      <td>Low</td>\n",
       "    </tr>\n",
       "    <tr>\n",
       "      <th>1</th>\n",
       "      <td>34</td>\n",
       "      <td>Medium</td>\n",
       "    </tr>\n",
       "    <tr>\n",
       "      <th>2</th>\n",
       "      <td>2</td>\n",
       "      <td>Low</td>\n",
       "    </tr>\n",
       "    <tr>\n",
       "      <th>3</th>\n",
       "      <td>45</td>\n",
       "      <td>High</td>\n",
       "    </tr>\n",
       "    <tr>\n",
       "      <th>4</th>\n",
       "      <td>2</td>\n",
       "      <td>Low</td>\n",
       "    </tr>\n",
       "  </tbody>\n",
       "</table>\n",
       "</div>"
      ],
      "text/plain": [
       "   tenure tenure_group\n",
       "0       1          Low\n",
       "1      34       Medium\n",
       "2       2          Low\n",
       "3      45         High\n",
       "4       2          Low"
      ]
     },
     "execution_count": 6,
     "metadata": {},
     "output_type": "execute_result"
    }
   ],
   "source": [
    "df2 = df.copy()\n",
    "df2['tenure_group'] = pd.cut(x = df2['tenure'], bins = [-np.inf,20,40,np.inf], labels = ['Low', 'Medium', 'High'])\n",
    "df2[['tenure', 'tenure_group']].head()"
   ]
  },
  {
   "cell_type": "code",
   "execution_count": 7,
   "id": "8bd9455e",
   "metadata": {},
   "outputs": [
    {
     "data": {
      "text/plain": [
       "False"
      ]
     },
     "execution_count": 7,
     "metadata": {},
     "output_type": "execute_result"
    }
   ],
   "source": [
    "df2['customerID'].duplicated().any()"
   ]
  },
  {
   "cell_type": "code",
   "execution_count": 8,
   "id": "69d4b8f7",
   "metadata": {},
   "outputs": [
    {
     "data": {
      "image/png": "[encoded data removed]",
      "text/plain": [
       "<Figure size 432x288 with 1 Axes>"
      ]
     },
     "metadata": {
      "needs_background": "light"
     },
     "output_type": "display_data"
    }
   ],
   "source": [
    "g = df2.groupby('tenure_group').agg({'customerID' : 'nunique'}).plot(kind = 'barh')\n",
    "g.set_ylabel('')\n",
    "g.legend('')\n",
    "g.set_title(\"Tenure Group Count\")\n",
    "\n",
    "for p in g.patches:\n",
    "    g.annotate(format(p.get_width(), '0'),\n",
    "               xy = (p.get_x() + p.get_width() / 2,\n",
    "                     p.get_y() + p.get_height() / 2,),\n",
    "               ha = 'center',\n",
    "               va = 'center',\n",
    "               color = 'white'\n",
    "              )"
   ]
  },
  {
   "cell_type": "markdown",
   "id": "562952a6",
   "metadata": {},
   "source": [
    "Tenure group Low yang paling tinggi, medium paling rendah (countnya)"
   ]
  },
  {
   "cell_type": "markdown",
   "id": "553e8fa8",
   "metadata": {},
   "source": [
    "# Soal 3"
   ]
  },
  {
   "cell_type": "markdown",
   "id": "5db462b3",
   "metadata": {},
   "source": [
    "Apakah warga senior banyak yang menggunakan layanan telepon?"
   ]
  },
  {
   "cell_type": "code",
   "execution_count": 9,
   "id": "b803d83d",
   "metadata": {},
   "outputs": [
    {
     "data": {
      "text/plain": [
       "array([0, 1], dtype=int64)"
      ]
     },
     "execution_count": 9,
     "metadata": {},
     "output_type": "execute_result"
    }
   ],
   "source": [
    "df3 = df.copy()\n",
    "df3['SeniorCitizen'].unique()"
   ]
  },
  {
   "cell_type": "code",
   "execution_count": 10,
   "id": "d909f747",
   "metadata": {},
   "outputs": [
    {
     "data": {
      "text/plain": [
       "array(['No', 'Yes'], dtype=object)"
      ]
     },
     "execution_count": 10,
     "metadata": {},
     "output_type": "execute_result"
    }
   ],
   "source": [
    "df3['PhoneService'].unique()"
   ]
  },
  {
   "cell_type": "code",
   "execution_count": 11,
   "id": "d91f3675",
   "metadata": {},
   "outputs": [
    {
     "data": {
      "text/html": [
       "<div>\n",
       "<style scoped>\n",
       "    .dataframe tbody tr th:only-of-type {\n",
       "        vertical-align: middle;\n",
       "    }\n",
       "\n",
       "    .dataframe tbody tr th {\n",
       "        vertical-align: top;\n",
       "    }\n",
       "\n",
       "    .dataframe thead th {\n",
       "        text-align: right;\n",
       "    }\n",
       "</style>\n",
       "<table border=\"1\" class=\"dataframe\">\n",
       "  <thead>\n",
       "    <tr style=\"text-align: right;\">\n",
       "      <th></th>\n",
       "      <th>SeniorCitizen</th>\n",
       "      <th>PhoneService</th>\n",
       "      <th>ConsumerCount</th>\n",
       "      <th>TotalSeniorityBased</th>\n",
       "      <th>percent</th>\n",
       "    </tr>\n",
       "  </thead>\n",
       "  <tbody>\n",
       "    <tr>\n",
       "      <th>0</th>\n",
       "      <td>Youngster</td>\n",
       "      <td>No</td>\n",
       "      <td>578</td>\n",
       "      <td>5901</td>\n",
       "      <td>0.097950</td>\n",
       "    </tr>\n",
       "    <tr>\n",
       "      <th>1</th>\n",
       "      <td>Youngster</td>\n",
       "      <td>Yes</td>\n",
       "      <td>5323</td>\n",
       "      <td>5901</td>\n",
       "      <td>0.902050</td>\n",
       "    </tr>\n",
       "    <tr>\n",
       "      <th>2</th>\n",
       "      <td>Senior Citizen</td>\n",
       "      <td>No</td>\n",
       "      <td>104</td>\n",
       "      <td>1142</td>\n",
       "      <td>0.091068</td>\n",
       "    </tr>\n",
       "    <tr>\n",
       "      <th>3</th>\n",
       "      <td>Senior Citizen</td>\n",
       "      <td>Yes</td>\n",
       "      <td>1038</td>\n",
       "      <td>1142</td>\n",
       "      <td>0.908932</td>\n",
       "    </tr>\n",
       "  </tbody>\n",
       "</table>\n",
       "</div>"
      ],
      "text/plain": [
       "    SeniorCitizen PhoneService  ConsumerCount  TotalSeniorityBased   percent\n",
       "0       Youngster           No            578                 5901  0.097950\n",
       "1       Youngster          Yes           5323                 5901  0.902050\n",
       "2  Senior Citizen           No            104                 1142  0.091068\n",
       "3  Senior Citizen          Yes           1038                 1142  0.908932"
      ]
     },
     "execution_count": 11,
     "metadata": {},
     "output_type": "execute_result"
    }
   ],
   "source": [
    "df3x = (df.groupby(['SeniorCitizen', 'PhoneService'])\n",
    "        .agg({'customerID': 'nunique'})\n",
    "        .reset_index()\n",
    "       )\n",
    "df3x = df3x.merge(df3x.groupby('SeniorCitizen').agg({'customerID': 'sum'}).reset_index(), on='SeniorCitizen')\n",
    "df3x.columns = ['SeniorCitizen', 'PhoneService', 'ConsumerCount', 'TotalSeniorityBased']\n",
    "df3x['percent'] = df3x['ConsumerCount'] / df3x['TotalSeniorityBased']\n",
    "df3x['SeniorCitizen'] = df3x['SeniorCitizen'].apply(lambda x: 'Senior Citizen' if x == 1 else 'Youngster')\n",
    "df3x"
   ]
  },
  {
   "cell_type": "code",
   "execution_count": 12,
   "id": "793d0f34",
   "metadata": {},
   "outputs": [
    {
     "data": {
      "image/png": "[encoded data removed]",
      "text/plain": [
       "<Figure size 432x288 with 1 Axes>"
      ]
     },
     "metadata": {
      "needs_background": "light"
     },
     "output_type": "display_data"
    }
   ],
   "source": [
    "g = sns.barplot(data = df3x, x = 'SeniorCitizen', y = 'percent', hue = 'PhoneService')\n",
    "g.yaxis.set_major_formatter(mtick.PercentFormatter(1.0))\n",
    "g.set_title(\"Did the senior citizen use Phone Service?\")\n",
    "g.set_ylabel('')\n",
    "g.set_xlabel('')\n",
    "plt.ylim(0,1)\n",
    "\n",
    "for p in g.patches:\n",
    "    g.annotate(format(p.get_height(), '.2%'),\n",
    "               xy = (p.get_x() + p.get_width() / 2, p.get_height()), \n",
    "               ha = 'center', \n",
    "               va = 'center',\n",
    "               xytext=(0, 8),\n",
    "               textcoords='offset points')"
   ]
  },
  {
   "cell_type": "markdown",
   "id": "3db48f54",
   "metadata": {},
   "source": [
    "Apakah warga senior banyak yang menggunakan layanan telepon?\n",
    "\n",
    "Banyak, tapi youngster hanya kalah sedikit."
   ]
  },
  {
   "cell_type": "markdown",
   "id": "09a26655",
   "metadata": {},
   "source": [
    "# Soal 4"
   ]
  },
  {
   "cell_type": "markdown",
   "id": "cec968c0",
   "metadata": {},
   "source": [
    "Bagaimana distribusi dari total biaya?"
   ]
  },
  {
   "cell_type": "code",
   "execution_count": 13,
   "id": "c0c209d2",
   "metadata": {},
   "outputs": [],
   "source": [
    "df4 = df.copy()"
   ]
  },
  {
   "cell_type": "code",
   "execution_count": 14,
   "id": "8158ec26",
   "metadata": {},
   "outputs": [],
   "source": [
    "def tofloat(x):\n",
    "    try:\n",
    "        result = float(x)\n",
    "    except:\n",
    "        result = 'error'\n",
    "    return result"
   ]
  },
  {
   "cell_type": "code",
   "execution_count": 15,
   "id": "94f5a0f0",
   "metadata": {},
   "outputs": [],
   "source": [
    "TotalChargesFloat = df4['TotalCharges'].apply(tofloat)"
   ]
  },
  {
   "cell_type": "code",
   "execution_count": 16,
   "id": "94140cfd",
   "metadata": {},
   "outputs": [
    {
     "data": {
      "text/plain": [
       "488      \n",
       "753      \n",
       "936      \n",
       "1082     \n",
       "1340     \n",
       "3331     \n",
       "3826     \n",
       "4380     \n",
       "5218     \n",
       "6670     \n",
       "6754     \n",
       "Name: TotalCharges, dtype: object"
      ]
     },
     "execution_count": 16,
     "metadata": {},
     "output_type": "execute_result"
    }
   ],
   "source": [
    "df4['TotalCharges'][TotalChargesFloat == 'error']"
   ]
  },
  {
   "cell_type": "markdown",
   "id": "aa2cbf57",
   "metadata": {},
   "source": [
    "> Ternyata ada TotalCharges yang isinya cuma \" \""
   ]
  },
  {
   "cell_type": "code",
   "execution_count": 17,
   "id": "6e6dc962",
   "metadata": {},
   "outputs": [],
   "source": [
    "TotalChargesFloat = TotalChargesFloat[TotalChargesFloat != 'error'].astype(float)"
   ]
  },
  {
   "cell_type": "code",
   "execution_count": 18,
   "id": "ba0f70cd",
   "metadata": {},
   "outputs": [
    {
     "data": {
      "text/plain": [
       "Text(0.5, 0.98, 'Total Charges Distribution')"
      ]
     },
     "execution_count": 18,
     "metadata": {},
     "output_type": "execute_result"
    },
    {
     "data": {
      "image/png": "[encoded data removed]",
      "text/plain": [
       "<Figure size 1080x288 with 3 Axes>"
      ]
     },
     "metadata": {
      "needs_background": "light"
     },
     "output_type": "display_data"
    }
   ],
   "source": [
    "fig, axes = plt.subplots(nrows=1, ncols=3, figsize=(15, 4))\n",
    "\n",
    "g1 = TotalChargesFloat.plot(kind='hist', ax = axes[0])\n",
    "g2 = TotalChargesFloat.plot(kind='box', ax = axes[1])\n",
    "g3 = sns.violinplot(data = TotalChargesFloat, ax = axes[2])\n",
    "\n",
    "g1.set_xlabel('Total Charges')\n",
    "g2.set_ylabel(\"Total Charges\")\n",
    "g3.set_ylabel('Total Charges')\n",
    "g3.set_xlabel('Total Charges Distribution')\n",
    "plt.suptitle(\"Total Charges Distribution\")"
   ]
  },
  {
   "cell_type": "code",
   "execution_count": 19,
   "id": "8c2860be",
   "metadata": {},
   "outputs": [
    {
     "data": {
      "text/html": [
       "<div>\n",
       "<style scoped>\n",
       "    .dataframe tbody tr th:only-of-type {\n",
       "        vertical-align: middle;\n",
       "    }\n",
       "\n",
       "    .dataframe tbody tr th {\n",
       "        vertical-align: top;\n",
       "    }\n",
       "\n",
       "    .dataframe thead th {\n",
       "        text-align: right;\n",
       "    }\n",
       "</style>\n",
       "<table border=\"1\" class=\"dataframe\">\n",
       "  <thead>\n",
       "    <tr style=\"text-align: right;\">\n",
       "      <th></th>\n",
       "      <th>count</th>\n",
       "      <th>mean</th>\n",
       "      <th>std</th>\n",
       "      <th>min</th>\n",
       "      <th>25%</th>\n",
       "      <th>50%</th>\n",
       "      <th>75%</th>\n",
       "      <th>max</th>\n",
       "    </tr>\n",
       "  </thead>\n",
       "  <tbody>\n",
       "    <tr>\n",
       "      <th>TotalCharges</th>\n",
       "      <td>7032.0</td>\n",
       "      <td>2283.300441</td>\n",
       "      <td>2266.771362</td>\n",
       "      <td>18.8</td>\n",
       "      <td>401.45</td>\n",
       "      <td>1397.475</td>\n",
       "      <td>3794.7375</td>\n",
       "      <td>8684.8</td>\n",
       "    </tr>\n",
       "  </tbody>\n",
       "</table>\n",
       "</div>"
      ],
      "text/plain": [
       "               count         mean          std   min     25%       50%  \\\n",
       "TotalCharges  7032.0  2283.300441  2266.771362  18.8  401.45  1397.475   \n",
       "\n",
       "                    75%     max  \n",
       "TotalCharges  3794.7375  8684.8  "
      ]
     },
     "execution_count": 19,
     "metadata": {},
     "output_type": "execute_result"
    }
   ],
   "source": [
    "TotalChargesFloat.describe().to_frame().T"
   ]
  },
  {
   "cell_type": "markdown",
   "id": "e0bf3484",
   "metadata": {},
   "source": [
    "* Distribusinya skew ke kiri / positively skewed berdasarkan:\n",
    "    * hisotgram, boxplot, violinplot\n",
    "    * mean > median\n",
    "* Median = 1397.475, mean = 2283.30.."
   ]
  },
  {
   "cell_type": "markdown",
   "id": "191f3e62",
   "metadata": {},
   "source": [
    "# Soal 5"
   ]
  },
  {
   "cell_type": "markdown",
   "id": "4a0a9b57",
   "metadata": {},
   "source": [
    "Apakah pelanggan yang memiliki biaya bulanan lebih tinggi akan cenderung untuk berhenti berlangganan (churn)?"
   ]
  },
  {
   "cell_type": "code",
   "execution_count": 20,
   "id": "96adb806",
   "metadata": {},
   "outputs": [],
   "source": [
    "df5 = df.copy()"
   ]
  },
  {
   "cell_type": "code",
   "execution_count": 21,
   "id": "07bfe498",
   "metadata": {},
   "outputs": [
    {
     "data": {
      "text/plain": [
       "<matplotlib.axes._subplots.AxesSubplot at 0x1e857c45c50>"
      ]
     },
     "execution_count": 21,
     "metadata": {},
     "output_type": "execute_result"
    },
    {
     "data": {
      "image/png": "[encoded data removed]",
      "text/plain": [
       "<Figure size 432x288 with 1 Axes>"
      ]
     },
     "metadata": {
      "needs_background": "light"
     },
     "output_type": "display_data"
    }
   ],
   "source": [
    "sns.boxplot(data = df5, x = 'MonthlyCharges', y='Churn')"
   ]
  },
  {
   "cell_type": "markdown",
   "id": "ae7271fb",
   "metadata": {},
   "source": [
    "Iya, yang churn cenderung biaya bulanannya lebih tinggi."
   ]
  },
  {
   "cell_type": "markdown",
   "id": "0895d725",
   "metadata": {},
   "source": [
    "# Soal 6"
   ]
  },
  {
   "cell_type": "markdown",
   "id": "89a272d9",
   "metadata": {},
   "source": [
    "Bagaimana pengaruh memiliki pasangan & tanggungan terhadap tingkat churn pelanggan?"
   ]
  },
  {
   "cell_type": "code",
   "execution_count": 22,
   "id": "cdf58219",
   "metadata": {},
   "outputs": [],
   "source": [
    "df6 = df.copy()"
   ]
  },
  {
   "cell_type": "code",
   "execution_count": 23,
   "id": "4f1cdede",
   "metadata": {},
   "outputs": [
    {
     "data": {
      "text/plain": [
       "array(['Yes', 'No'], dtype=object)"
      ]
     },
     "execution_count": 23,
     "metadata": {},
     "output_type": "execute_result"
    }
   ],
   "source": [
    "df6['Partner'].unique()"
   ]
  },
  {
   "cell_type": "code",
   "execution_count": 24,
   "id": "58271bf9",
   "metadata": {},
   "outputs": [
    {
     "data": {
      "text/plain": [
       "array(['No', 'Yes'], dtype=object)"
      ]
     },
     "execution_count": 24,
     "metadata": {},
     "output_type": "execute_result"
    }
   ],
   "source": [
    "df6['Dependents'].unique()"
   ]
  },
  {
   "cell_type": "code",
   "execution_count": 25,
   "id": "3685c98a",
   "metadata": {},
   "outputs": [],
   "source": [
    "df6['PartnerBool'] = (df6['Partner'] == 'Yes')\n",
    "df6['DependentsBool'] = (df6['Dependents'] == 'Yes')"
   ]
  },
  {
   "cell_type": "markdown",
   "id": "6cf375aa",
   "metadata": {},
   "source": [
    "Gabungkan data yang menunjukan pelanggan memiliki pasangan dan/atau tanggungan.\n",
    "* i. Memiliki pasangan dan tanggungan\n",
    "* ii. Memiliki pasangan dan tidak memiliki tanggungan\n",
    "* iii. Tidak memiliki pasangan, namun memiliki tanggungan\n",
    "* iv. Tidak memiliki pasangan dan tanggungan"
   ]
  },
  {
   "cell_type": "code",
   "execution_count": 26,
   "id": "904a8e58",
   "metadata": {},
   "outputs": [],
   "source": [
    "df6['PartnerDependants'] = np.where(df6['PartnerBool'],\n",
    "                                np.where(df6['DependentsBool'], 'i', 'ii'),\n",
    "                                np.where(df6['DependentsBool'], 'iii', 'iv'))"
   ]
  },
  {
   "cell_type": "code",
   "execution_count": 27,
   "id": "3b116875",
   "metadata": {},
   "outputs": [
    {
     "data": {
      "image/png": "[encoded data removed]",
      "text/plain": [
       "<Figure size 432x288 with 1 Axes>"
      ]
     },
     "metadata": {
      "needs_background": "light"
     },
     "output_type": "display_data"
    }
   ],
   "source": [
    "g = df6.groupby('PartnerDependants')['Churn'].value_counts(normalize=True).unstack('Churn').plot(kind='barh', stacked=True)\n",
    "g.xaxis.set_major_formatter(mtick.PercentFormatter(1.0))\n",
    "g.set_ylabel('Partner Dependants Group')\n",
    "g.legend(loc='center', title = \"Churn?\")\n",
    "\n",
    "for p in g.patches:\n",
    "    g.annotate(format(p.get_width(), '.2%'),\n",
    "               xy = (p.get_x() + p.get_width() / 2,\n",
    "                     p.get_y() + p.get_height() / 2,),\n",
    "               ha = 'center',\n",
    "               va = 'center',\n",
    "               color = 'white'\n",
    "              )"
   ]
  },
  {
   "cell_type": "markdown",
   "id": "849207f4",
   "metadata": {},
   "source": [
    "Dari sisi punya tanggungan:\n",
    "* Punya tanggungan jadi lebih tidak churn ketimbang yang tidak punya. \n",
    "    * i > ii \n",
    "    * iii > iv\n",
    "\n",
    "Dari sisi pasangan:\n",
    "* Punya pasangan jadi lebih tidak churn ketimbang tidak punya.\n",
    "    * i > iii\n",
    "    * ii > iv"
   ]
  },
  {
   "cell_type": "markdown",
   "id": "09d0b9dc",
   "metadata": {},
   "source": [
    "# Soal 7"
   ]
  },
  {
   "cell_type": "markdown",
   "id": "5a7afa71",
   "metadata": {},
   "source": [
    "Buatlah satu insight dari data telco customer, dan sertakan storyline pada visualisasi tersebut dengan hanya memanfaatkan atribut metode pembayaran, jumlah pelanggan, dan churn!"
   ]
  },
  {
   "cell_type": "code",
   "execution_count": 28,
   "id": "51f879b1",
   "metadata": {},
   "outputs": [],
   "source": [
    "df7 = df.copy()"
   ]
  },
  {
   "cell_type": "code",
   "execution_count": 29,
   "id": "e3e87fc6",
   "metadata": {},
   "outputs": [
    {
     "data": {
      "text/html": [
       "<div>\n",
       "<style scoped>\n",
       "    .dataframe tbody tr th:only-of-type {\n",
       "        vertical-align: middle;\n",
       "    }\n",
       "\n",
       "    .dataframe tbody tr th {\n",
       "        vertical-align: top;\n",
       "    }\n",
       "\n",
       "    .dataframe thead th {\n",
       "        text-align: right;\n",
       "    }\n",
       "</style>\n",
       "<table border=\"1\" class=\"dataframe\">\n",
       "  <thead>\n",
       "    <tr style=\"text-align: right;\">\n",
       "      <th></th>\n",
       "      <th>customerID</th>\n",
       "      <th>PaymentMethod</th>\n",
       "      <th>Churn</th>\n",
       "    </tr>\n",
       "  </thead>\n",
       "  <tbody>\n",
       "    <tr>\n",
       "      <th>0</th>\n",
       "      <td>7590-VHVEG</td>\n",
       "      <td>Electronic check</td>\n",
       "      <td>No</td>\n",
       "    </tr>\n",
       "    <tr>\n",
       "      <th>1</th>\n",
       "      <td>5575-GNVDE</td>\n",
       "      <td>Mailed check</td>\n",
       "      <td>No</td>\n",
       "    </tr>\n",
       "    <tr>\n",
       "      <th>2</th>\n",
       "      <td>3668-QPYBK</td>\n",
       "      <td>Mailed check</td>\n",
       "      <td>Yes</td>\n",
       "    </tr>\n",
       "    <tr>\n",
       "      <th>3</th>\n",
       "      <td>7795-CFOCW</td>\n",
       "      <td>Bank transfer (automatic)</td>\n",
       "      <td>No</td>\n",
       "    </tr>\n",
       "    <tr>\n",
       "      <th>4</th>\n",
       "      <td>9237-HQITU</td>\n",
       "      <td>Electronic check</td>\n",
       "      <td>Yes</td>\n",
       "    </tr>\n",
       "  </tbody>\n",
       "</table>\n",
       "</div>"
      ],
      "text/plain": [
       "   customerID              PaymentMethod Churn\n",
       "0  7590-VHVEG           Electronic check    No\n",
       "1  5575-GNVDE               Mailed check    No\n",
       "2  3668-QPYBK               Mailed check   Yes\n",
       "3  7795-CFOCW  Bank transfer (automatic)    No\n",
       "4  9237-HQITU           Electronic check   Yes"
      ]
     },
     "execution_count": 29,
     "metadata": {},
     "output_type": "execute_result"
    }
   ],
   "source": [
    "df7[['customerID', 'PaymentMethod', 'Churn']].head()"
   ]
  },
  {
   "cell_type": "code",
   "execution_count": 30,
   "id": "5b8a62a4",
   "metadata": {},
   "outputs": [
    {
     "data": {
      "text/plain": [
       "array(['Electronic check', 'Mailed check', 'Bank transfer (automatic)',\n",
       "       'Credit card (automatic)'], dtype=object)"
      ]
     },
     "execution_count": 30,
     "metadata": {},
     "output_type": "execute_result"
    }
   ],
   "source": [
    "df7.PaymentMethod.unique()"
   ]
  },
  {
   "cell_type": "code",
   "execution_count": 31,
   "id": "ca6ab788",
   "metadata": {},
   "outputs": [
    {
     "data": {
      "text/plain": [
       "Text(-0.5, 1450, 'Jumlah pengguna berdasarkan metode pembayaran, lalu dilihat lagi berdasarkan kondisi churn atau tidaknya.\\nDapat dilihat bahwa pada metode pembayaran \"Electronic Check\" jumlah churnnya sangat njomplang')"
      ]
     },
     "execution_count": 31,
     "metadata": {},
     "output_type": "execute_result"
    },
    {
     "data": {
      "image/png": "[encoded data removed]",
      "text/plain": [
       "<Figure size 1008x432 with 1 Axes>"
      ]
     },
     "metadata": {
      "needs_background": "light"
     },
     "output_type": "display_data"
    }
   ],
   "source": [
    "fig = plt.figure(figsize = (14,6))\n",
    "\n",
    "g = sns.countplot(\n",
    "    data = df7,\n",
    "    x = 'PaymentMethod',\n",
    "    hue = 'Churn',\n",
    "    palette=\"Spectral\"\n",
    ")\n",
    "\n",
    "g.set_ylabel('Consumer Count')\n",
    "\n",
    "for p in g.patches:\n",
    "    g.annotate(format(p.get_height(), '0'), \n",
    "               xy = (p.get_x() + p.get_width() / 2., p.get_height()), \n",
    "               ha = 'center', \n",
    "               va = 'center',\n",
    "               size = 11.5,\n",
    "               xytext = (0, 10), \n",
    "               textcoords = 'offset points')\n",
    "    \n",
    "g.text(x= -0.5, y = 1600, \n",
    "       s = \"Electronic check is a bad news!\",\n",
    "       fontsize = 20, weight = 'bold', alpha = .75)\n",
    "\n",
    "g.text(x = -0.5, y = 1450,\n",
    "       s = 'Jumlah pengguna berdasarkan metode pembayaran, lalu dilihat lagi berdasarkan kondisi churn atau tidaknya.\\nDapat dilihat bahwa pada metode pembayaran \"Electronic Check\" jumlah churnnya sangat njomplang',\n",
    "       fontsize = 12, alpha = .85)"
   ]
  }
 ],
 "metadata": {
  "kernelspec": {
   "display_name": "Python 3",
   "language": "python",
   "name": "python3"
  },
  "language_info": {
   "codemirror_mode": {
    "name": "ipython",
    "version": 3
   },
   "file_extension": ".py",
   "mimetype": "text/x-python",
   "name": "python",
   "nbconvert_exporter": "python",
   "pygments_lexer": "ipython3",
   "version": "3.7.3"
  }
 },
 "nbformat": 4,
 "nbformat_minor": 5
}
