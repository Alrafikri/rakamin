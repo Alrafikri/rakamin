{
 "cells": [
  {
   "cell_type": "markdown",
   "metadata": {},
   "source": [
    "[# Jump To Model Implementation](#How-the-model-can-be-used?)\n",
    "\n",
    "Data: https://www.kaggle.com/datasets/susant4learning/holiday-package-purchase-prediction\n",
    "\n",
    "Stakeholder: **Trav#loka, Tik#t.com** or other travel company startup\n",
    "\n",
    "Anyway, the problem can be as straightforward as predicting if a consumer will take the product or not, or we can make it a little bit more complex, as \"will the consumer take the product, **after** a marketing pitch?\". So it's basically a bayesian probability. Not only P(take product) but P(take product | marketing pitch)."
   ]
  },
  {
   "cell_type": "code",
   "execution_count": 1,
   "metadata": {
    "_cell_guid": "b1076dfc-b9ad-4769-8c92-a6c4dae69d19",
    "_uuid": "8f2839f25d086af736a60e9eeb907d3b93b6e0e5",
    "execution": {
     "iopub.execute_input": "2022-07-28T06:30:54.098863Z",
     "iopub.status.busy": "2022-07-28T06:30:54.098351Z",
     "iopub.status.idle": "2022-07-28T06:30:54.107566Z",
     "shell.execute_reply": "2022-07-28T06:30:54.106348Z",
     "shell.execute_reply.started": "2022-07-28T06:30:54.098828Z"
    }
   },
   "outputs": [],
   "source": [
    "import pandas as pd\n",
    "import numpy as np\n",
    "import seaborn as sns\n",
    "import matplotlib.pyplot as plt\n",
    "import matplotlib.style as style\n",
    "import matplotlib.ticker as mtick\n",
    "from sklearn.model_selection import train_test_split, RepeatedStratifiedKFold, cross_val_score\n",
    "from sklearn.linear_model import LogisticRegression\n",
    "from sklearn.ensemble import RandomForestClassifier\n",
    "from sklearn.metrics import roc_curve, roc_auc_score, confusion_matrix, precision_recall_curve, auc, classification_report\n",
    "from sklearn.pipeline import Pipeline\n",
    "from scipy.stats import chi2_contingency\n",
    "from sklearn.feature_selection import f_classif\n",
    "from sklearn.metrics import ConfusionMatrixDisplay\n",
    "\n",
    "style.use('fivethirtyeight')"
   ]
  },
  {
   "cell_type": "code",
   "execution_count": 2,
   "metadata": {
    "execution": {
     "iopub.execute_input": "2022-07-28T06:30:54.116052Z",
     "iopub.status.busy": "2022-07-28T06:30:54.114142Z",
     "iopub.status.idle": "2022-07-28T06:30:54.166015Z",
     "shell.execute_reply": "2022-07-28T06:30:54.164826Z",
     "shell.execute_reply.started": "2022-07-28T06:30:54.116009Z"
    }
   },
   "outputs": [
    {
     "data": {
      "text/html": [
       "<div>\n",
       "<style scoped>\n",
       "    .dataframe tbody tr th:only-of-type {\n",
       "        vertical-align: middle;\n",
       "    }\n",
       "\n",
       "    .dataframe tbody tr th {\n",
       "        vertical-align: top;\n",
       "    }\n",
       "\n",
       "    .dataframe thead th {\n",
       "        text-align: right;\n",
       "    }\n",
       "</style>\n",
       "<table border=\"1\" class=\"dataframe\">\n",
       "  <thead>\n",
       "    <tr style=\"text-align: right;\">\n",
       "      <th></th>\n",
       "      <th>CustomerID</th>\n",
       "      <th>ProdTaken</th>\n",
       "      <th>Age</th>\n",
       "      <th>TypeofContact</th>\n",
       "      <th>CityTier</th>\n",
       "      <th>DurationOfPitch</th>\n",
       "      <th>Occupation</th>\n",
       "      <th>Gender</th>\n",
       "      <th>NumberOfPersonVisiting</th>\n",
       "      <th>NumberOfFollowups</th>\n",
       "      <th>ProductPitched</th>\n",
       "      <th>PreferredPropertyStar</th>\n",
       "      <th>MaritalStatus</th>\n",
       "      <th>NumberOfTrips</th>\n",
       "      <th>Passport</th>\n",
       "      <th>PitchSatisfactionScore</th>\n",
       "      <th>OwnCar</th>\n",
       "      <th>NumberOfChildrenVisiting</th>\n",
       "      <th>Designation</th>\n",
       "      <th>MonthlyIncome</th>\n",
       "    </tr>\n",
       "  </thead>\n",
       "  <tbody>\n",
       "    <tr>\n",
       "      <th>0</th>\n",
       "      <td>200000</td>\n",
       "      <td>1</td>\n",
       "      <td>41.0</td>\n",
       "      <td>Self Enquiry</td>\n",
       "      <td>3</td>\n",
       "      <td>6.0</td>\n",
       "      <td>Salaried</td>\n",
       "      <td>Female</td>\n",
       "      <td>3</td>\n",
       "      <td>3.0</td>\n",
       "      <td>Deluxe</td>\n",
       "      <td>3.0</td>\n",
       "      <td>Single</td>\n",
       "      <td>1.0</td>\n",
       "      <td>1</td>\n",
       "      <td>2</td>\n",
       "      <td>1</td>\n",
       "      <td>0.0</td>\n",
       "      <td>Manager</td>\n",
       "      <td>20993.0</td>\n",
       "    </tr>\n",
       "    <tr>\n",
       "      <th>1</th>\n",
       "      <td>200001</td>\n",
       "      <td>0</td>\n",
       "      <td>49.0</td>\n",
       "      <td>Company Invited</td>\n",
       "      <td>1</td>\n",
       "      <td>14.0</td>\n",
       "      <td>Salaried</td>\n",
       "      <td>Male</td>\n",
       "      <td>3</td>\n",
       "      <td>4.0</td>\n",
       "      <td>Deluxe</td>\n",
       "      <td>4.0</td>\n",
       "      <td>Divorced</td>\n",
       "      <td>2.0</td>\n",
       "      <td>0</td>\n",
       "      <td>3</td>\n",
       "      <td>1</td>\n",
       "      <td>2.0</td>\n",
       "      <td>Manager</td>\n",
       "      <td>20130.0</td>\n",
       "    </tr>\n",
       "    <tr>\n",
       "      <th>2</th>\n",
       "      <td>200002</td>\n",
       "      <td>1</td>\n",
       "      <td>37.0</td>\n",
       "      <td>Self Enquiry</td>\n",
       "      <td>1</td>\n",
       "      <td>8.0</td>\n",
       "      <td>Free Lancer</td>\n",
       "      <td>Male</td>\n",
       "      <td>3</td>\n",
       "      <td>4.0</td>\n",
       "      <td>Basic</td>\n",
       "      <td>3.0</td>\n",
       "      <td>Single</td>\n",
       "      <td>7.0</td>\n",
       "      <td>1</td>\n",
       "      <td>3</td>\n",
       "      <td>0</td>\n",
       "      <td>0.0</td>\n",
       "      <td>Executive</td>\n",
       "      <td>17090.0</td>\n",
       "    </tr>\n",
       "    <tr>\n",
       "      <th>3</th>\n",
       "      <td>200003</td>\n",
       "      <td>0</td>\n",
       "      <td>33.0</td>\n",
       "      <td>Company Invited</td>\n",
       "      <td>1</td>\n",
       "      <td>9.0</td>\n",
       "      <td>Salaried</td>\n",
       "      <td>Female</td>\n",
       "      <td>2</td>\n",
       "      <td>3.0</td>\n",
       "      <td>Basic</td>\n",
       "      <td>3.0</td>\n",
       "      <td>Divorced</td>\n",
       "      <td>2.0</td>\n",
       "      <td>1</td>\n",
       "      <td>5</td>\n",
       "      <td>1</td>\n",
       "      <td>1.0</td>\n",
       "      <td>Executive</td>\n",
       "      <td>17909.0</td>\n",
       "    </tr>\n",
       "    <tr>\n",
       "      <th>4</th>\n",
       "      <td>200004</td>\n",
       "      <td>0</td>\n",
       "      <td>NaN</td>\n",
       "      <td>Self Enquiry</td>\n",
       "      <td>1</td>\n",
       "      <td>8.0</td>\n",
       "      <td>Small Business</td>\n",
       "      <td>Male</td>\n",
       "      <td>2</td>\n",
       "      <td>3.0</td>\n",
       "      <td>Basic</td>\n",
       "      <td>4.0</td>\n",
       "      <td>Divorced</td>\n",
       "      <td>1.0</td>\n",
       "      <td>0</td>\n",
       "      <td>5</td>\n",
       "      <td>1</td>\n",
       "      <td>0.0</td>\n",
       "      <td>Executive</td>\n",
       "      <td>18468.0</td>\n",
       "    </tr>\n",
       "  </tbody>\n",
       "</table>\n",
       "</div>"
      ],
      "text/plain": [
       "   CustomerID  ProdTaken   Age    TypeofContact  CityTier  DurationOfPitch  \\\n",
       "0      200000          1  41.0     Self Enquiry         3              6.0   \n",
       "1      200001          0  49.0  Company Invited         1             14.0   \n",
       "2      200002          1  37.0     Self Enquiry         1              8.0   \n",
       "3      200003          0  33.0  Company Invited         1              9.0   \n",
       "4      200004          0   NaN     Self Enquiry         1              8.0   \n",
       "\n",
       "       Occupation  Gender  NumberOfPersonVisiting  NumberOfFollowups  \\\n",
       "0        Salaried  Female                       3                3.0   \n",
       "1        Salaried    Male                       3                4.0   \n",
       "2     Free Lancer    Male                       3                4.0   \n",
       "3        Salaried  Female                       2                3.0   \n",
       "4  Small Business    Male                       2                3.0   \n",
       "\n",
       "  ProductPitched  PreferredPropertyStar MaritalStatus  NumberOfTrips  \\\n",
       "0         Deluxe                    3.0        Single            1.0   \n",
       "1         Deluxe                    4.0      Divorced            2.0   \n",
       "2          Basic                    3.0        Single            7.0   \n",
       "3          Basic                    3.0      Divorced            2.0   \n",
       "4          Basic                    4.0      Divorced            1.0   \n",
       "\n",
       "   Passport  PitchSatisfactionScore  OwnCar  NumberOfChildrenVisiting  \\\n",
       "0         1                       2       1                       0.0   \n",
       "1         0                       3       1                       2.0   \n",
       "2         1                       3       0                       0.0   \n",
       "3         1                       5       1                       1.0   \n",
       "4         0                       5       1                       0.0   \n",
       "\n",
       "  Designation  MonthlyIncome  \n",
       "0     Manager        20993.0  \n",
       "1     Manager        20130.0  \n",
       "2   Executive        17090.0  \n",
       "3   Executive        17909.0  \n",
       "4   Executive        18468.0  "
      ]
     },
     "execution_count": 2,
     "metadata": {},
     "output_type": "execute_result"
    }
   ],
   "source": [
    "df = pd.read_csv('Travel.csv')\n",
    "df.head()"
   ]
  },
  {
   "cell_type": "code",
   "execution_count": 3,
   "metadata": {
    "execution": {
     "iopub.execute_input": "2022-07-28T06:30:54.171112Z",
     "iopub.status.busy": "2022-07-28T06:30:54.170444Z",
     "iopub.status.idle": "2022-07-28T06:30:54.182342Z",
     "shell.execute_reply": "2022-07-28T06:30:54.180882Z",
     "shell.execute_reply.started": "2022-07-28T06:30:54.171062Z"
    }
   },
   "outputs": [
    {
     "data": {
      "text/plain": [
       "False"
      ]
     },
     "execution_count": 3,
     "metadata": {},
     "output_type": "execute_result"
    }
   ],
   "source": [
    "# To check the independence of rows\n",
    "df.duplicated(subset='CustomerID').any()"
   ]
  },
  {
   "cell_type": "code",
   "execution_count": 4,
   "metadata": {
    "execution": {
     "iopub.execute_input": "2022-07-28T06:30:54.185004Z",
     "iopub.status.busy": "2022-07-28T06:30:54.184006Z",
     "iopub.status.idle": "2022-07-28T06:30:54.194259Z",
     "shell.execute_reply": "2022-07-28T06:30:54.193401Z",
     "shell.execute_reply.started": "2022-07-28T06:30:54.184953Z"
    }
   },
   "outputs": [],
   "source": [
    "# We don't want to predict P(take prod), but P(take prod | company invited), because this is where the ineffective marketing cost come from\n",
    "df_mkt = df[df['TypeofContact'] == 'Company Invited']\n",
    "\n",
    "# Drop some looking-forward leakage\n",
    "X = df_mkt.drop(['CustomerID','ProdTaken', 'TypeofContact', 'PitchSatisfactionScore', 'ProductPitched', 'DurationOfPitch'], axis = 1)\n",
    "y = df_mkt['ProdTaken']"
   ]
  },
  {
   "cell_type": "code",
   "execution_count": 5,
   "metadata": {
    "execution": {
     "iopub.execute_input": "2022-07-28T06:30:54.197192Z",
     "iopub.status.busy": "2022-07-28T06:30:54.196815Z",
     "iopub.status.idle": "2022-07-28T06:30:54.218795Z",
     "shell.execute_reply": "2022-07-28T06:30:54.217608Z",
     "shell.execute_reply.started": "2022-07-28T06:30:54.197150Z"
    }
   },
   "outputs": [
    {
     "data": {
      "text/html": [
       "<div>\n",
       "<style scoped>\n",
       "    .dataframe tbody tr th:only-of-type {\n",
       "        vertical-align: middle;\n",
       "    }\n",
       "\n",
       "    .dataframe tbody tr th {\n",
       "        vertical-align: top;\n",
       "    }\n",
       "\n",
       "    .dataframe thead th {\n",
       "        text-align: right;\n",
       "    }\n",
       "</style>\n",
       "<table border=\"1\" class=\"dataframe\">\n",
       "  <thead>\n",
       "    <tr style=\"text-align: right;\">\n",
       "      <th></th>\n",
       "      <th>CustomerID</th>\n",
       "      <th>ProdTaken</th>\n",
       "      <th>Age</th>\n",
       "      <th>TypeofContact</th>\n",
       "      <th>CityTier</th>\n",
       "      <th>DurationOfPitch</th>\n",
       "      <th>Occupation</th>\n",
       "      <th>Gender</th>\n",
       "      <th>NumberOfPersonVisiting</th>\n",
       "      <th>NumberOfFollowups</th>\n",
       "      <th>ProductPitched</th>\n",
       "      <th>PreferredPropertyStar</th>\n",
       "      <th>MaritalStatus</th>\n",
       "      <th>NumberOfTrips</th>\n",
       "      <th>Passport</th>\n",
       "      <th>PitchSatisfactionScore</th>\n",
       "      <th>OwnCar</th>\n",
       "      <th>NumberOfChildrenVisiting</th>\n",
       "      <th>Designation</th>\n",
       "      <th>MonthlyIncome</th>\n",
       "    </tr>\n",
       "  </thead>\n",
       "  <tbody>\n",
       "    <tr>\n",
       "      <th>0</th>\n",
       "      <td>0</td>\n",
       "      <td>0</td>\n",
       "      <td>57</td>\n",
       "      <td>0</td>\n",
       "      <td>0</td>\n",
       "      <td>85</td>\n",
       "      <td>0</td>\n",
       "      <td>0</td>\n",
       "      <td>0</td>\n",
       "      <td>15</td>\n",
       "      <td>0</td>\n",
       "      <td>4</td>\n",
       "      <td>0</td>\n",
       "      <td>38</td>\n",
       "      <td>0</td>\n",
       "      <td>0</td>\n",
       "      <td>0</td>\n",
       "      <td>9</td>\n",
       "      <td>0</td>\n",
       "      <td>70</td>\n",
       "    </tr>\n",
       "  </tbody>\n",
       "</table>\n",
       "</div>"
      ],
      "text/plain": [
       "   CustomerID  ProdTaken  Age  TypeofContact  CityTier  DurationOfPitch  \\\n",
       "0           0          0   57              0         0               85   \n",
       "\n",
       "   Occupation  Gender  NumberOfPersonVisiting  NumberOfFollowups  \\\n",
       "0           0       0                       0                 15   \n",
       "\n",
       "   ProductPitched  PreferredPropertyStar  MaritalStatus  NumberOfTrips  \\\n",
       "0               0                      4              0             38   \n",
       "\n",
       "   Passport  PitchSatisfactionScore  OwnCar  NumberOfChildrenVisiting  \\\n",
       "0         0                       0       0                         9   \n",
       "\n",
       "   Designation  MonthlyIncome  \n",
       "0            0             70  "
      ]
     },
     "execution_count": 5,
     "metadata": {},
     "output_type": "execute_result"
    }
   ],
   "source": [
    "df_mkt.isna().sum().to_frame().T"
   ]
  },
  {
   "cell_type": "code",
   "execution_count": 6,
   "metadata": {
    "execution": {
     "iopub.execute_input": "2022-07-28T06:30:54.221085Z",
     "iopub.status.busy": "2022-07-28T06:30:54.220282Z",
     "iopub.status.idle": "2022-07-28T06:30:54.231371Z",
     "shell.execute_reply": "2022-07-28T06:30:54.230332Z",
     "shell.execute_reply.started": "2022-07-28T06:30:54.221044Z"
    }
   },
   "outputs": [
    {
     "data": {
      "text/plain": [
       "(1419, 20)"
      ]
     },
     "execution_count": 6,
     "metadata": {},
     "output_type": "execute_result"
    }
   ],
   "source": [
    "df_mkt.shape"
   ]
  },
  {
   "cell_type": "markdown",
   "metadata": {},
   "source": [
    "My plan is to predict whether a consumer will take the product or no if we gave them a marketing pitch, and then try to decrease ineffective marketing pitch & cost.\n",
    "* Effective marketing pitch -> TypeofContact = \"Company Invited\",  and consumer take the product\n",
    "* Ineffective marketing pitch -> TypeofContact = \"Company Invited\", and have a long \"DurationofPitch\" but the consumer don't take the product nonetheless.\n",
    "\n",
    "For simplicity, I will only use Logistic Regression and Random Forest."
   ]
  },
  {
   "cell_type": "markdown",
   "metadata": {},
   "source": [
    "# Some general exploration"
   ]
  },
  {
   "cell_type": "markdown",
   "metadata": {},
   "source": [
    "Because some of the variables are interesting to explore."
   ]
  },
  {
   "cell_type": "code",
   "execution_count": 7,
   "metadata": {
    "execution": {
     "iopub.execute_input": "2022-07-28T06:30:54.233152Z",
     "iopub.status.busy": "2022-07-28T06:30:54.232838Z",
     "iopub.status.idle": "2022-07-28T06:30:54.243525Z",
     "shell.execute_reply": "2022-07-28T06:30:54.242625Z",
     "shell.execute_reply.started": "2022-07-28T06:30:54.233125Z"
    }
   },
   "outputs": [],
   "source": [
    "# Create categorical df ProdTaken for easier interpretation\n",
    "df['ProdTaken_YN'] = df['ProdTaken'].apply(lambda x: 'Yes' if x == 1 else 'No')"
   ]
  },
  {
   "cell_type": "markdown",
   "metadata": {},
   "source": [
    "**Type of contact**"
   ]
  },
  {
   "cell_type": "code",
   "execution_count": 8,
   "metadata": {
    "execution": {
     "iopub.execute_input": "2022-07-28T06:30:54.245555Z",
     "iopub.status.busy": "2022-07-28T06:30:54.244998Z",
     "iopub.status.idle": "2022-07-28T06:30:54.400180Z",
     "shell.execute_reply": "2022-07-28T06:30:54.399207Z",
     "shell.execute_reply.started": "2022-07-28T06:30:54.245506Z"
    }
   },
   "outputs": [
    {
     "data": {
      "image/png": "[encoded data removed]",
      "text/plain": [
       "<Figure size 432x288 with 1 Axes>"
      ]
     },
     "metadata": {
      "needs_background": "light"
     },
     "output_type": "display_data"
    }
   ],
   "source": [
    "g = df['TypeofContact'].value_counts().plot(kind='barh')\n",
    "\n",
    "for p in g.patches:\n",
    "    g.annotate(format(p.get_width(), '0'),\n",
    "               xy = (p.get_x() + p.get_width() / 2,\n",
    "                     p.get_y() + p.get_height() / 2,),\n",
    "               ha = 'center',\n",
    "               va = 'center',\n",
    "               color = 'white'\n",
    "              )"
   ]
  },
  {
   "cell_type": "code",
   "execution_count": 9,
   "metadata": {
    "execution": {
     "iopub.execute_input": "2022-07-28T06:30:54.404854Z",
     "iopub.status.busy": "2022-07-28T06:30:54.404336Z",
     "iopub.status.idle": "2022-07-28T06:30:54.580096Z",
     "shell.execute_reply": "2022-07-28T06:30:54.579226Z",
     "shell.execute_reply.started": "2022-07-28T06:30:54.404807Z"
    }
   },
   "outputs": [
    {
     "data": {
      "image/png": "[encoded data removed]",
      "text/plain": [
       "<Figure size 432x288 with 1 Axes>"
      ]
     },
     "metadata": {
      "needs_background": "light"
     },
     "output_type": "display_data"
    }
   ],
   "source": [
    "g = df.groupby('TypeofContact')['ProdTaken_YN'].value_counts(normalize=True).unstack('ProdTaken_YN').plot(kind='barh', stacked=True)\n",
    "g.xaxis.set_major_formatter(mtick.PercentFormatter(1.0))\n",
    "g.set_ylabel('TypeofContact')\n",
    "g.legend(loc='center', title = \"ProdTaken?\")\n",
    "\n",
    "for p in g.patches:\n",
    "    g.annotate(format(p.get_width(), '.2%'),\n",
    "               xy = (p.get_x() + p.get_width() / 2,\n",
    "                     p.get_y() + p.get_height() / 2,),\n",
    "               ha = 'center',\n",
    "               va = 'center',\n",
    "               color = 'white'\n",
    "              )"
   ]
  },
  {
   "cell_type": "markdown",
   "metadata": {},
   "source": [
    "Okay. So, only 21.85% individual that's invited by the company actually taken the offer."
   ]
  },
  {
   "cell_type": "markdown",
   "metadata": {},
   "source": [
    "**Duration of Pitch**"
   ]
  },
  {
   "cell_type": "code",
   "execution_count": 10,
   "metadata": {
    "execution": {
     "iopub.execute_input": "2022-07-28T06:30:54.582191Z",
     "iopub.status.busy": "2022-07-28T06:30:54.581514Z",
     "iopub.status.idle": "2022-07-28T06:30:54.604301Z",
     "shell.execute_reply": "2022-07-28T06:30:54.603545Z",
     "shell.execute_reply.started": "2022-07-28T06:30:54.582151Z"
    }
   },
   "outputs": [
    {
     "data": {
      "text/html": [
       "<div>\n",
       "<style scoped>\n",
       "    .dataframe tbody tr th:only-of-type {\n",
       "        vertical-align: middle;\n",
       "    }\n",
       "\n",
       "    .dataframe tbody tr th {\n",
       "        vertical-align: top;\n",
       "    }\n",
       "\n",
       "    .dataframe thead th {\n",
       "        text-align: right;\n",
       "    }\n",
       "</style>\n",
       "<table border=\"1\" class=\"dataframe\">\n",
       "  <thead>\n",
       "    <tr style=\"text-align: right;\">\n",
       "      <th></th>\n",
       "      <th>count</th>\n",
       "      <th>mean</th>\n",
       "      <th>std</th>\n",
       "      <th>min</th>\n",
       "      <th>25%</th>\n",
       "      <th>50%</th>\n",
       "      <th>75%</th>\n",
       "      <th>max</th>\n",
       "    </tr>\n",
       "  </thead>\n",
       "  <tbody>\n",
       "    <tr>\n",
       "      <th>DurationOfPitch</th>\n",
       "      <td>4637.0</td>\n",
       "      <td>15.490835</td>\n",
       "      <td>8.519643</td>\n",
       "      <td>5.0</td>\n",
       "      <td>9.0</td>\n",
       "      <td>13.0</td>\n",
       "      <td>20.0</td>\n",
       "      <td>127.0</td>\n",
       "    </tr>\n",
       "  </tbody>\n",
       "</table>\n",
       "</div>"
      ],
      "text/plain": [
       "                  count       mean       std  min  25%   50%   75%    max\n",
       "DurationOfPitch  4637.0  15.490835  8.519643  5.0  9.0  13.0  20.0  127.0"
      ]
     },
     "execution_count": 10,
     "metadata": {},
     "output_type": "execute_result"
    }
   ],
   "source": [
    "df['DurationOfPitch'].describe().to_frame().T"
   ]
  },
  {
   "cell_type": "code",
   "execution_count": 11,
   "metadata": {
    "execution": {
     "iopub.execute_input": "2022-07-28T06:30:54.606772Z",
     "iopub.status.busy": "2022-07-28T06:30:54.606013Z",
     "iopub.status.idle": "2022-07-28T06:30:54.763494Z",
     "shell.execute_reply": "2022-07-28T06:30:54.762163Z",
     "shell.execute_reply.started": "2022-07-28T06:30:54.606724Z"
    }
   },
   "outputs": [
    {
     "data": {
      "text/plain": [
       "<matplotlib.axes._subplots.AxesSubplot at 0x250706beb38>"
      ]
     },
     "execution_count": 11,
     "metadata": {},
     "output_type": "execute_result"
    },
    {
     "data": {
      "image/png": "[encoded data removed]",
      "text/plain": [
       "<Figure size 432x288 with 1 Axes>"
      ]
     },
     "metadata": {
      "needs_background": "light"
     },
     "output_type": "display_data"
    }
   ],
   "source": [
    "sns.boxplot(data = df[df['DurationOfPitch'] < 60], x = 'DurationOfPitch', y = 'ProdTaken_YN')"
   ]
  },
  {
   "cell_type": "code",
   "execution_count": 12,
   "metadata": {
    "execution": {
     "iopub.execute_input": "2022-07-28T06:30:54.766748Z",
     "iopub.status.busy": "2022-07-28T06:30:54.765194Z",
     "iopub.status.idle": "2022-07-28T06:30:55.048230Z",
     "shell.execute_reply": "2022-07-28T06:30:55.047397Z",
     "shell.execute_reply.started": "2022-07-28T06:30:54.766696Z"
    }
   },
   "outputs": [
    {
     "data": {
      "text/plain": [
       "<matplotlib.axes._subplots.AxesSubplot at 0x25070fee0b8>"
      ]
     },
     "execution_count": 12,
     "metadata": {},
     "output_type": "execute_result"
    },
    {
     "data": {
      "image/png": "[encoded data removed]",
      "text/plain": [
       "<Figure size 432x288 with 1 Axes>"
      ]
     },
     "metadata": {
      "needs_background": "light"
     },
     "output_type": "display_data"
    }
   ],
   "source": [
    "sns.boxplot(data = df[df['DurationOfPitch'] < 60], x = 'DurationOfPitch', y = 'ProdTaken_YN', hue = 'TypeofContact')"
   ]
  },
  {
   "cell_type": "markdown",
   "metadata": {},
   "source": [
    "Maybe short duration of pitch means that the consumer isn't really interested with the product offered. But it's a weak assumption because 75% of people, either they take or not the product, have duration of pitch < 20 minutes. But, the longer the duration of pitch, the higher the marketing cost, right?"
   ]
  },
  {
   "cell_type": "markdown",
   "metadata": {},
   "source": [
    "**Number Of Followup**"
   ]
  },
  {
   "cell_type": "code",
   "execution_count": 13,
   "metadata": {
    "execution": {
     "iopub.execute_input": "2022-07-28T06:30:55.050667Z",
     "iopub.status.busy": "2022-07-28T06:30:55.049941Z",
     "iopub.status.idle": "2022-07-28T06:30:55.267065Z",
     "shell.execute_reply": "2022-07-28T06:30:55.266124Z",
     "shell.execute_reply.started": "2022-07-28T06:30:55.050611Z"
    }
   },
   "outputs": [
    {
     "data": {
      "image/png": "[encoded data removed]",
      "text/plain": [
       "<Figure size 432x288 with 1 Axes>"
      ]
     },
     "metadata": {
      "needs_background": "light"
     },
     "output_type": "display_data"
    }
   ],
   "source": [
    "g = df.groupby('NumberOfFollowups')['ProdTaken_YN'].value_counts(normalize=True).unstack('ProdTaken_YN').plot(kind='barh', stacked=True)\n",
    "g.xaxis.set_major_formatter(mtick.PercentFormatter(1.0))\n",
    "g.set_ylabel('Pitch Followup')\n",
    "g.legend(loc='center', title = \"ProdTaken?\")\n",
    "\n",
    "for p in g.patches:\n",
    "    g.annotate(format(p.get_width(), '.2%'),\n",
    "               xy = (p.get_x() + p.get_width() / 2,\n",
    "                     p.get_y() + p.get_height() / 2,),\n",
    "               ha = 'center',\n",
    "               va = 'center',\n",
    "               color = 'white'\n",
    "              )"
   ]
  },
  {
   "cell_type": "markdown",
   "metadata": {},
   "source": [
    "Higher followups -> Higher chance the customer will take the product!"
   ]
  },
  {
   "cell_type": "markdown",
   "metadata": {},
   "source": [
    "**Pitch Satisfaction Score**"
   ]
  },
  {
   "cell_type": "code",
   "execution_count": 14,
   "metadata": {
    "execution": {
     "iopub.execute_input": "2022-07-28T06:30:55.269440Z",
     "iopub.status.busy": "2022-07-28T06:30:55.268749Z",
     "iopub.status.idle": "2022-07-28T06:30:55.471962Z",
     "shell.execute_reply": "2022-07-28T06:30:55.470974Z",
     "shell.execute_reply.started": "2022-07-28T06:30:55.269394Z"
    }
   },
   "outputs": [
    {
     "data": {
      "image/png": "[encoded data removed]",
      "text/plain": [
       "<Figure size 432x288 with 1 Axes>"
      ]
     },
     "metadata": {
      "needs_background": "light"
     },
     "output_type": "display_data"
    }
   ],
   "source": [
    "g = df.groupby('PitchSatisfactionScore')['ProdTaken_YN'].value_counts(normalize=True).unstack('ProdTaken_YN').plot(kind='barh', stacked=True)\n",
    "g.xaxis.set_major_formatter(mtick.PercentFormatter(1.0))\n",
    "g.set_ylabel('Pitch Rating')\n",
    "g.legend(loc='center', title = \"ProdTaken?\")\n",
    "\n",
    "for p in g.patches:\n",
    "    g.annotate(format(p.get_width(), '.2%'),\n",
    "               xy = (p.get_x() + p.get_width() / 2,\n",
    "                     p.get_y() + p.get_height() / 2,),\n",
    "               ha = 'center',\n",
    "               va = 'center',\n",
    "               color = 'white'\n",
    "              )"
   ]
  },
  {
   "cell_type": "code",
   "execution_count": 15,
   "metadata": {
    "execution": {
     "iopub.execute_input": "2022-07-28T06:30:55.474231Z",
     "iopub.status.busy": "2022-07-28T06:30:55.473518Z",
     "iopub.status.idle": "2022-07-28T06:30:55.662753Z",
     "shell.execute_reply": "2022-07-28T06:30:55.661617Z",
     "shell.execute_reply.started": "2022-07-28T06:30:55.474188Z"
    }
   },
   "outputs": [
    {
     "data": {
      "text/plain": [
       "Text(0, 0.5, 'Pitch Rating')"
      ]
     },
     "execution_count": 15,
     "metadata": {},
     "output_type": "execute_result"
    },
    {
     "data": {
      "image/png": "[encoded data removed]",
      "text/plain": [
       "<Figure size 432x288 with 1 Axes>"
      ]
     },
     "metadata": {
      "needs_background": "light"
     },
     "output_type": "display_data"
    }
   ],
   "source": [
    "g = sns.boxplot(data = df, y = 'PitchSatisfactionScore', x = 'NumberOfFollowups')\n",
    "g.set_ylabel('Pitch Rating')"
   ]
  },
  {
   "cell_type": "markdown",
   "metadata": {},
   "source": [
    "Not much things we can do. We'll start to model."
   ]
  },
  {
   "cell_type": "markdown",
   "metadata": {},
   "source": [
    "# Feature Selection"
   ]
  },
  {
   "cell_type": "code",
   "execution_count": 16,
   "metadata": {
    "execution": {
     "iopub.execute_input": "2022-07-28T06:30:55.665233Z",
     "iopub.status.busy": "2022-07-28T06:30:55.664487Z",
     "iopub.status.idle": "2022-07-28T06:30:55.681674Z",
     "shell.execute_reply": "2022-07-28T06:30:55.680212Z",
     "shell.execute_reply.started": "2022-07-28T06:30:55.665190Z"
    }
   },
   "outputs": [
    {
     "data": {
      "text/plain": [
       "(1135, 14)"
      ]
     },
     "execution_count": 16,
     "metadata": {},
     "output_type": "execute_result"
    }
   ],
   "source": [
    "X_train, X_test, y_train, y_test = train_test_split(X, y, test_size = 0.2, random_state = 42, stratify = y)\n",
    "\n",
    "cat_cols = X_train.select_dtypes(include = 'object').copy().columns\n",
    "num_cols = X_train.select_dtypes(include = 'number').copy().columns\n",
    "\n",
    "X_train.shape"
   ]
  },
  {
   "cell_type": "markdown",
   "metadata": {},
   "source": [
    "Okay, we have a really small dataset, so, it's better for our features also be minimal. It's important especially when we're selecting our categorical features, because maybe we wanted to one hot encode it later. 1135 independent rows, I think 10 features is already high."
   ]
  },
  {
   "cell_type": "code",
   "execution_count": 17,
   "metadata": {
    "execution": {
     "iopub.execute_input": "2022-07-28T06:30:55.684146Z",
     "iopub.status.busy": "2022-07-28T06:30:55.683304Z",
     "iopub.status.idle": "2022-07-28T06:30:55.690716Z",
     "shell.execute_reply": "2022-07-28T06:30:55.689858Z",
     "shell.execute_reply.started": "2022-07-28T06:30:55.684110Z"
    }
   },
   "outputs": [
    {
     "data": {
      "text/plain": [
       "Index(['Occupation', 'Gender', 'MaritalStatus', 'Designation'], dtype='object')"
      ]
     },
     "execution_count": 17,
     "metadata": {},
     "output_type": "execute_result"
    }
   ],
   "source": [
    "cat_cols"
   ]
  },
  {
   "cell_type": "code",
   "execution_count": 18,
   "metadata": {
    "execution": {
     "iopub.execute_input": "2022-07-28T06:30:55.692832Z",
     "iopub.status.busy": "2022-07-28T06:30:55.691942Z",
     "iopub.status.idle": "2022-07-28T06:30:55.702084Z",
     "shell.execute_reply": "2022-07-28T06:30:55.701201Z",
     "shell.execute_reply.started": "2022-07-28T06:30:55.692800Z"
    }
   },
   "outputs": [
    {
     "data": {
      "text/plain": [
       "Index(['Age', 'CityTier', 'NumberOfPersonVisiting', 'NumberOfFollowups',\n",
       "       'PreferredPropertyStar', 'NumberOfTrips', 'Passport', 'OwnCar',\n",
       "       'NumberOfChildrenVisiting', 'MonthlyIncome'],\n",
       "      dtype='object')"
      ]
     },
     "execution_count": 18,
     "metadata": {},
     "output_type": "execute_result"
    }
   ],
   "source": [
    "num_cols"
   ]
  },
  {
   "cell_type": "code",
   "execution_count": 19,
   "metadata": {
    "execution": {
     "iopub.execute_input": "2022-07-28T06:30:55.703951Z",
     "iopub.status.busy": "2022-07-28T06:30:55.703409Z",
     "iopub.status.idle": "2022-07-28T06:30:55.720832Z",
     "shell.execute_reply": "2022-07-28T06:30:55.719630Z",
     "shell.execute_reply.started": "2022-07-28T06:30:55.703920Z"
    }
   },
   "outputs": [
    {
     "data": {
      "text/html": [
       "<div>\n",
       "<style scoped>\n",
       "    .dataframe tbody tr th:only-of-type {\n",
       "        vertical-align: middle;\n",
       "    }\n",
       "\n",
       "    .dataframe tbody tr th {\n",
       "        vertical-align: top;\n",
       "    }\n",
       "\n",
       "    .dataframe thead th {\n",
       "        text-align: right;\n",
       "    }\n",
       "</style>\n",
       "<table border=\"1\" class=\"dataframe\">\n",
       "  <thead>\n",
       "    <tr style=\"text-align: right;\">\n",
       "      <th></th>\n",
       "      <th>Occupation</th>\n",
       "      <th>Gender</th>\n",
       "      <th>MaritalStatus</th>\n",
       "      <th>Designation</th>\n",
       "    </tr>\n",
       "  </thead>\n",
       "  <tbody>\n",
       "    <tr>\n",
       "      <th>0</th>\n",
       "      <td>3</td>\n",
       "      <td>3</td>\n",
       "      <td>4</td>\n",
       "      <td>5</td>\n",
       "    </tr>\n",
       "  </tbody>\n",
       "</table>\n",
       "</div>"
      ],
      "text/plain": [
       "   Occupation  Gender  MaritalStatus  Designation\n",
       "0           3       3              4            5"
      ]
     },
     "execution_count": 19,
     "metadata": {},
     "output_type": "execute_result"
    }
   ],
   "source": [
    "X_train[cat_cols].nunique().sort_values().to_frame().T"
   ]
  },
  {
   "cell_type": "code",
   "execution_count": 20,
   "metadata": {
    "execution": {
     "iopub.execute_input": "2022-07-28T06:30:55.726904Z",
     "iopub.status.busy": "2022-07-28T06:30:55.726340Z",
     "iopub.status.idle": "2022-07-28T06:30:55.798401Z",
     "shell.execute_reply": "2022-07-28T06:30:55.797608Z",
     "shell.execute_reply.started": "2022-07-28T06:30:55.726868Z"
    }
   },
   "outputs": [
    {
     "data": {
      "text/html": [
       "<div>\n",
       "<style scoped>\n",
       "    .dataframe tbody tr th:only-of-type {\n",
       "        vertical-align: middle;\n",
       "    }\n",
       "\n",
       "    .dataframe tbody tr th {\n",
       "        vertical-align: top;\n",
       "    }\n",
       "\n",
       "    .dataframe thead th {\n",
       "        text-align: right;\n",
       "    }\n",
       "</style>\n",
       "<table border=\"1\" class=\"dataframe\">\n",
       "  <thead>\n",
       "    <tr style=\"text-align: right;\">\n",
       "      <th></th>\n",
       "      <th>Feature</th>\n",
       "      <th>p-value</th>\n",
       "      <th>index</th>\n",
       "      <th>count</th>\n",
       "      <th>unique</th>\n",
       "      <th>top</th>\n",
       "      <th>freq</th>\n",
       "    </tr>\n",
       "  </thead>\n",
       "  <tbody>\n",
       "    <tr>\n",
       "      <th>2</th>\n",
       "      <td>MaritalStatus</td>\n",
       "      <td>0.000000</td>\n",
       "      <td>MaritalStatus</td>\n",
       "      <td>1135</td>\n",
       "      <td>4</td>\n",
       "      <td>Married</td>\n",
       "      <td>552</td>\n",
       "    </tr>\n",
       "    <tr>\n",
       "      <th>3</th>\n",
       "      <td>Designation</td>\n",
       "      <td>0.000000</td>\n",
       "      <td>Designation</td>\n",
       "      <td>1135</td>\n",
       "      <td>5</td>\n",
       "      <td>Manager</td>\n",
       "      <td>426</td>\n",
       "    </tr>\n",
       "    <tr>\n",
       "      <th>0</th>\n",
       "      <td>Occupation</td>\n",
       "      <td>0.000001</td>\n",
       "      <td>Occupation</td>\n",
       "      <td>1135</td>\n",
       "      <td>3</td>\n",
       "      <td>Salaried</td>\n",
       "      <td>572</td>\n",
       "    </tr>\n",
       "    <tr>\n",
       "      <th>1</th>\n",
       "      <td>Gender</td>\n",
       "      <td>0.488033</td>\n",
       "      <td>Gender</td>\n",
       "      <td>1135</td>\n",
       "      <td>3</td>\n",
       "      <td>Male</td>\n",
       "      <td>688</td>\n",
       "    </tr>\n",
       "  </tbody>\n",
       "</table>\n",
       "</div>"
      ],
      "text/plain": [
       "         Feature   p-value          index count unique       top freq\n",
       "2  MaritalStatus  0.000000  MaritalStatus  1135      4   Married  552\n",
       "3    Designation  0.000000    Designation  1135      5   Manager  426\n",
       "0     Occupation  0.000001     Occupation  1135      3  Salaried  572\n",
       "1         Gender  0.488033         Gender  1135      3      Male  688"
      ]
     },
     "execution_count": 20,
     "metadata": {},
     "output_type": "execute_result"
    }
   ],
   "source": [
    "# define an empty dictionary to store chi-squared test results\n",
    "chi2_check = {}\n",
    "\n",
    "# loop over each column in the training set to calculate chi-statistic with the target variable\n",
    "for column in cat_cols:\n",
    "    chi, p, dof, ex = chi2_contingency(pd.crosstab(y_train, X_train[column]))\n",
    "    chi2_check.setdefault('Feature',[]).append(column)\n",
    "    chi2_check.setdefault('p-value',[]).append(round(p, 10))\n",
    "\n",
    "# convert the dictionary to a DF\n",
    "chi2_result = pd.DataFrame(data = chi2_check)\n",
    "# chi2_result.sort_values(by = ['p-value'], ascending = True, ignore_index = True, inplace = True)\n",
    "chi2_result.merge(X_train[cat_cols].describe().T.reset_index(), left_on ='Feature', right_on = 'index').sort_values(by = ['p-value', 'unique'])"
   ]
  },
  {
   "cell_type": "code",
   "execution_count": 21,
   "metadata": {
    "execution": {
     "iopub.execute_input": "2022-07-28T06:30:55.800094Z",
     "iopub.status.busy": "2022-07-28T06:30:55.799613Z",
     "iopub.status.idle": "2022-07-28T06:30:55.804110Z",
     "shell.execute_reply": "2022-07-28T06:30:55.803233Z",
     "shell.execute_reply.started": "2022-07-28T06:30:55.800054Z"
    }
   },
   "outputs": [],
   "source": [
    "selected_cat_cols = ['MaritalStatus', 'Designation', 'Occupation']"
   ]
  },
  {
   "cell_type": "code",
   "execution_count": 22,
   "metadata": {
    "execution": {
     "iopub.execute_input": "2022-07-28T06:30:55.806127Z",
     "iopub.status.busy": "2022-07-28T06:30:55.805692Z",
     "iopub.status.idle": "2022-07-28T06:30:55.828628Z",
     "shell.execute_reply": "2022-07-28T06:30:55.827474Z",
     "shell.execute_reply.started": "2022-07-28T06:30:55.805989Z"
    }
   },
   "outputs": [
    {
     "data": {
      "text/html": [
       "<div>\n",
       "<style scoped>\n",
       "    .dataframe tbody tr th:only-of-type {\n",
       "        vertical-align: middle;\n",
       "    }\n",
       "\n",
       "    .dataframe tbody tr th {\n",
       "        vertical-align: top;\n",
       "    }\n",
       "\n",
       "    .dataframe thead th {\n",
       "        text-align: right;\n",
       "    }\n",
       "</style>\n",
       "<table border=\"1\" class=\"dataframe\">\n",
       "  <thead>\n",
       "    <tr style=\"text-align: right;\">\n",
       "      <th></th>\n",
       "      <th>Passport</th>\n",
       "      <th>OwnCar</th>\n",
       "      <th>CityTier</th>\n",
       "      <th>PreferredPropertyStar</th>\n",
       "      <th>NumberOfPersonVisiting</th>\n",
       "      <th>NumberOfChildrenVisiting</th>\n",
       "      <th>NumberOfFollowups</th>\n",
       "      <th>NumberOfTrips</th>\n",
       "      <th>Age</th>\n",
       "      <th>MonthlyIncome</th>\n",
       "    </tr>\n",
       "  </thead>\n",
       "  <tbody>\n",
       "    <tr>\n",
       "      <th>0</th>\n",
       "      <td>2</td>\n",
       "      <td>2</td>\n",
       "      <td>3</td>\n",
       "      <td>3</td>\n",
       "      <td>4</td>\n",
       "      <td>4</td>\n",
       "      <td>6</td>\n",
       "      <td>11</td>\n",
       "      <td>44</td>\n",
       "      <td>734</td>\n",
       "    </tr>\n",
       "  </tbody>\n",
       "</table>\n",
       "</div>"
      ],
      "text/plain": [
       "   Passport  OwnCar  CityTier  PreferredPropertyStar  NumberOfPersonVisiting  \\\n",
       "0         2       2         3                      3                       4   \n",
       "\n",
       "   NumberOfChildrenVisiting  NumberOfFollowups  NumberOfTrips  Age  \\\n",
       "0                         4                  6             11   44   \n",
       "\n",
       "   MonthlyIncome  \n",
       "0            734  "
      ]
     },
     "execution_count": 22,
     "metadata": {},
     "output_type": "execute_result"
    }
   ],
   "source": [
    "X_train[num_cols].nunique().sort_values().to_frame().T"
   ]
  },
  {
   "cell_type": "code",
   "execution_count": 23,
   "metadata": {
    "execution": {
     "iopub.execute_input": "2022-07-28T06:30:55.830847Z",
     "iopub.status.busy": "2022-07-28T06:30:55.830283Z",
     "iopub.status.idle": "2022-07-28T06:30:56.576080Z",
     "shell.execute_reply": "2022-07-28T06:30:56.575198Z",
     "shell.execute_reply.started": "2022-07-28T06:30:55.830799Z"
    }
   },
   "outputs": [
    {
     "data": {
      "text/plain": [
       "<matplotlib.axes._subplots.AxesSubplot at 0x250711cc400>"
      ]
     },
     "execution_count": 23,
     "metadata": {},
     "output_type": "execute_result"
    },
    {
     "data": {
      "image/png": "[encoded data removed]",
      "text/plain": [
       "<Figure size 720x432 with 2 Axes>"
      ]
     },
     "metadata": {
      "needs_background": "light"
     },
     "output_type": "display_data"
    }
   ],
   "source": [
    "fig = plt.figure(figsize = (10,6))\n",
    "sns.heatmap(X_train[num_cols].corr(), annot=True)"
   ]
  },
  {
   "cell_type": "code",
   "execution_count": 24,
   "metadata": {
    "execution": {
     "iopub.execute_input": "2022-07-28T06:30:56.577870Z",
     "iopub.status.busy": "2022-07-28T06:30:56.577186Z",
     "iopub.status.idle": "2022-07-28T06:30:56.645843Z",
     "shell.execute_reply": "2022-07-28T06:30:56.644516Z",
     "shell.execute_reply.started": "2022-07-28T06:30:56.577831Z"
    }
   },
   "outputs": [
    {
     "data": {
      "text/html": [
       "<div>\n",
       "<style scoped>\n",
       "    .dataframe tbody tr th:only-of-type {\n",
       "        vertical-align: middle;\n",
       "    }\n",
       "\n",
       "    .dataframe tbody tr th {\n",
       "        vertical-align: top;\n",
       "    }\n",
       "\n",
       "    .dataframe thead th {\n",
       "        text-align: right;\n",
       "    }\n",
       "</style>\n",
       "<table border=\"1\" class=\"dataframe\">\n",
       "  <thead>\n",
       "    <tr style=\"text-align: right;\">\n",
       "      <th></th>\n",
       "      <th>Numerical_Feature</th>\n",
       "      <th>F-Score</th>\n",
       "      <th>p values</th>\n",
       "      <th>index</th>\n",
       "      <th>count</th>\n",
       "      <th>mean</th>\n",
       "      <th>std</th>\n",
       "      <th>min</th>\n",
       "      <th>25%</th>\n",
       "      <th>50%</th>\n",
       "      <th>75%</th>\n",
       "      <th>max</th>\n",
       "    </tr>\n",
       "  </thead>\n",
       "  <tbody>\n",
       "    <tr>\n",
       "      <th>6</th>\n",
       "      <td>Passport</td>\n",
       "      <td>93.165921</td>\n",
       "      <td>0.000000e+00</td>\n",
       "      <td>Passport</td>\n",
       "      <td>1135.0</td>\n",
       "      <td>0.288106</td>\n",
       "      <td>0.453080</td>\n",
       "      <td>0.0</td>\n",
       "      <td>0.0</td>\n",
       "      <td>0.0</td>\n",
       "      <td>1.00</td>\n",
       "      <td>1.0</td>\n",
       "    </tr>\n",
       "    <tr>\n",
       "      <th>0</th>\n",
       "      <td>Age</td>\n",
       "      <td>31.590926</td>\n",
       "      <td>2.390000e-08</td>\n",
       "      <td>Age</td>\n",
       "      <td>1085.0</td>\n",
       "      <td>37.173272</td>\n",
       "      <td>8.794257</td>\n",
       "      <td>18.0</td>\n",
       "      <td>31.0</td>\n",
       "      <td>36.0</td>\n",
       "      <td>43.00</td>\n",
       "      <td>61.0</td>\n",
       "    </tr>\n",
       "    <tr>\n",
       "      <th>9</th>\n",
       "      <td>MonthlyIncome</td>\n",
       "      <td>27.499026</td>\n",
       "      <td>1.874000e-07</td>\n",
       "      <td>MonthlyIncome</td>\n",
       "      <td>1082.0</td>\n",
       "      <td>23282.390943</td>\n",
       "      <td>4899.010680</td>\n",
       "      <td>16051.0</td>\n",
       "      <td>20135.0</td>\n",
       "      <td>22239.5</td>\n",
       "      <td>25214.25</td>\n",
       "      <td>38651.0</td>\n",
       "    </tr>\n",
       "    <tr>\n",
       "      <th>4</th>\n",
       "      <td>PreferredPropertyStar</td>\n",
       "      <td>9.736779</td>\n",
       "      <td>1.851823e-03</td>\n",
       "      <td>PreferredPropertyStar</td>\n",
       "      <td>1131.0</td>\n",
       "      <td>3.528736</td>\n",
       "      <td>0.771056</td>\n",
       "      <td>3.0</td>\n",
       "      <td>3.0</td>\n",
       "      <td>3.0</td>\n",
       "      <td>4.00</td>\n",
       "      <td>5.0</td>\n",
       "    </tr>\n",
       "    <tr>\n",
       "      <th>3</th>\n",
       "      <td>NumberOfFollowups</td>\n",
       "      <td>5.619424</td>\n",
       "      <td>1.792911e-02</td>\n",
       "      <td>NumberOfFollowups</td>\n",
       "      <td>1123.0</td>\n",
       "      <td>3.735530</td>\n",
       "      <td>1.003760</td>\n",
       "      <td>1.0</td>\n",
       "      <td>3.0</td>\n",
       "      <td>4.0</td>\n",
       "      <td>4.00</td>\n",
       "      <td>6.0</td>\n",
       "    </tr>\n",
       "    <tr>\n",
       "      <th>1</th>\n",
       "      <td>CityTier</td>\n",
       "      <td>5.600917</td>\n",
       "      <td>1.811850e-02</td>\n",
       "      <td>CityTier</td>\n",
       "      <td>1135.0</td>\n",
       "      <td>1.667841</td>\n",
       "      <td>0.923806</td>\n",
       "      <td>1.0</td>\n",
       "      <td>1.0</td>\n",
       "      <td>1.0</td>\n",
       "      <td>3.00</td>\n",
       "      <td>3.0</td>\n",
       "    </tr>\n",
       "    <tr>\n",
       "      <th>2</th>\n",
       "      <td>NumberOfPersonVisiting</td>\n",
       "      <td>2.756483</td>\n",
       "      <td>9.713769e-02</td>\n",
       "      <td>NumberOfPersonVisiting</td>\n",
       "      <td>1135.0</td>\n",
       "      <td>2.895154</td>\n",
       "      <td>0.736144</td>\n",
       "      <td>1.0</td>\n",
       "      <td>2.0</td>\n",
       "      <td>3.0</td>\n",
       "      <td>3.00</td>\n",
       "      <td>4.0</td>\n",
       "    </tr>\n",
       "    <tr>\n",
       "      <th>5</th>\n",
       "      <td>NumberOfTrips</td>\n",
       "      <td>1.254993</td>\n",
       "      <td>2.628383e-01</td>\n",
       "      <td>NumberOfTrips</td>\n",
       "      <td>1103.0</td>\n",
       "      <td>3.205802</td>\n",
       "      <td>1.977249</td>\n",
       "      <td>1.0</td>\n",
       "      <td>2.0</td>\n",
       "      <td>3.0</td>\n",
       "      <td>4.00</td>\n",
       "      <td>22.0</td>\n",
       "    </tr>\n",
       "    <tr>\n",
       "      <th>7</th>\n",
       "      <td>OwnCar</td>\n",
       "      <td>0.454163</td>\n",
       "      <td>5.005022e-01</td>\n",
       "      <td>OwnCar</td>\n",
       "      <td>1135.0</td>\n",
       "      <td>0.610573</td>\n",
       "      <td>0.487835</td>\n",
       "      <td>0.0</td>\n",
       "      <td>0.0</td>\n",
       "      <td>1.0</td>\n",
       "      <td>1.00</td>\n",
       "      <td>1.0</td>\n",
       "    </tr>\n",
       "    <tr>\n",
       "      <th>8</th>\n",
       "      <td>NumberOfChildrenVisiting</td>\n",
       "      <td>0.009493</td>\n",
       "      <td>9.224012e-01</td>\n",
       "      <td>NumberOfChildrenVisiting</td>\n",
       "      <td>1129.0</td>\n",
       "      <td>1.173605</td>\n",
       "      <td>0.867035</td>\n",
       "      <td>0.0</td>\n",
       "      <td>1.0</td>\n",
       "      <td>1.0</td>\n",
       "      <td>2.00</td>\n",
       "      <td>3.0</td>\n",
       "    </tr>\n",
       "  </tbody>\n",
       "</table>\n",
       "</div>"
      ],
      "text/plain": [
       "          Numerical_Feature    F-Score      p values  \\\n",
       "6                  Passport  93.165921  0.000000e+00   \n",
       "0                       Age  31.590926  2.390000e-08   \n",
       "9             MonthlyIncome  27.499026  1.874000e-07   \n",
       "4     PreferredPropertyStar   9.736779  1.851823e-03   \n",
       "3         NumberOfFollowups   5.619424  1.792911e-02   \n",
       "1                  CityTier   5.600917  1.811850e-02   \n",
       "2    NumberOfPersonVisiting   2.756483  9.713769e-02   \n",
       "5             NumberOfTrips   1.254993  2.628383e-01   \n",
       "7                    OwnCar   0.454163  5.005022e-01   \n",
       "8  NumberOfChildrenVisiting   0.009493  9.224012e-01   \n",
       "\n",
       "                      index   count          mean          std      min  \\\n",
       "6                  Passport  1135.0      0.288106     0.453080      0.0   \n",
       "0                       Age  1085.0     37.173272     8.794257     18.0   \n",
       "9             MonthlyIncome  1082.0  23282.390943  4899.010680  16051.0   \n",
       "4     PreferredPropertyStar  1131.0      3.528736     0.771056      3.0   \n",
       "3         NumberOfFollowups  1123.0      3.735530     1.003760      1.0   \n",
       "1                  CityTier  1135.0      1.667841     0.923806      1.0   \n",
       "2    NumberOfPersonVisiting  1135.0      2.895154     0.736144      1.0   \n",
       "5             NumberOfTrips  1103.0      3.205802     1.977249      1.0   \n",
       "7                    OwnCar  1135.0      0.610573     0.487835      0.0   \n",
       "8  NumberOfChildrenVisiting  1129.0      1.173605     0.867035      0.0   \n",
       "\n",
       "       25%      50%       75%      max  \n",
       "6      0.0      0.0      1.00      1.0  \n",
       "0     31.0     36.0     43.00     61.0  \n",
       "9  20135.0  22239.5  25214.25  38651.0  \n",
       "4      3.0      3.0      4.00      5.0  \n",
       "3      3.0      4.0      4.00      6.0  \n",
       "1      1.0      1.0      3.00      3.0  \n",
       "2      2.0      3.0      3.00      4.0  \n",
       "5      2.0      3.0      4.00     22.0  \n",
       "7      0.0      1.0      1.00      1.0  \n",
       "8      1.0      1.0      2.00      3.0  "
      ]
     },
     "execution_count": 24,
     "metadata": {},
     "output_type": "execute_result"
    }
   ],
   "source": [
    "# since f_class_if does not accept missing values, we will do a very crude imputation of missing values\n",
    "# Calculate F Statistic and corresponding p values\n",
    "F_statistic, p_values = f_classif(X_train[num_cols].fillna(X_train[num_cols].median()), y_train)\n",
    "# convert to a DF\n",
    "ANOVA_F_table = pd.DataFrame(data = {'Numerical_Feature': num_cols, 'F-Score': F_statistic, 'p values': p_values.round(decimals=10)})\n",
    "ANOVA_F_table.merge(X_train[num_cols].describe().T.reset_index(), left_on = 'Numerical_Feature', right_on = 'index').sort_values(['F-Score', 'count'], ascending=False)"
   ]
  },
  {
   "cell_type": "markdown",
   "metadata": {},
   "source": [
    "The score makes me wonder if the pitching simply failed because the target don't have a passport.............\n",
    "\n",
    "Anyway, from the cardinality of our categorical feature, we already obtained 9 columns, and the lowest P-value for our categorical feature is 0.000001 or 1e-6. So I think we can only pick the top 3 numerical values (Passport, Age, MonthlyIncome)"
   ]
  },
  {
   "cell_type": "code",
   "execution_count": 25,
   "metadata": {
    "execution": {
     "iopub.execute_input": "2022-07-28T06:30:56.648145Z",
     "iopub.status.busy": "2022-07-28T06:30:56.647375Z",
     "iopub.status.idle": "2022-07-28T06:30:56.653679Z",
     "shell.execute_reply": "2022-07-28T06:30:56.652505Z",
     "shell.execute_reply.started": "2022-07-28T06:30:56.648106Z"
    }
   },
   "outputs": [],
   "source": [
    "selected_num_cols = ['Passport', 'Age', 'MonthlyIncome']\n",
    "selected_cols = selected_cat_cols + selected_num_cols"
   ]
  },
  {
   "cell_type": "markdown",
   "metadata": {},
   "source": [
    "# Feature Engineering"
   ]
  },
  {
   "cell_type": "code",
   "execution_count": 26,
   "metadata": {
    "execution": {
     "iopub.execute_input": "2022-07-28T06:30:56.656949Z",
     "iopub.status.busy": "2022-07-28T06:30:56.655576Z",
     "iopub.status.idle": "2022-07-28T06:30:56.673985Z",
     "shell.execute_reply": "2022-07-28T06:30:56.672620Z",
     "shell.execute_reply.started": "2022-07-28T06:30:56.656896Z"
    }
   },
   "outputs": [
    {
     "data": {
      "text/plain": [
       "MaritalStatus     0\n",
       "Designation       0\n",
       "Occupation        0\n",
       "Passport          0\n",
       "Age              50\n",
       "MonthlyIncome    53\n",
       "dtype: int64"
      ]
     },
     "execution_count": 26,
     "metadata": {},
     "output_type": "execute_result"
    }
   ],
   "source": [
    "X_train[selected_cols].isna().sum()"
   ]
  },
  {
   "cell_type": "code",
   "execution_count": 27,
   "metadata": {
    "execution": {
     "iopub.execute_input": "2022-07-28T06:30:56.676621Z",
     "iopub.status.busy": "2022-07-28T06:30:56.675985Z",
     "iopub.status.idle": "2022-07-28T06:30:56.687650Z",
     "shell.execute_reply": "2022-07-28T06:30:56.686424Z",
     "shell.execute_reply.started": "2022-07-28T06:30:56.676575Z"
    }
   },
   "outputs": [
    {
     "data": {
      "text/plain": [
       "MaritalStatus     0\n",
       "Designation       0\n",
       "Occupation        0\n",
       "Passport          0\n",
       "Age               7\n",
       "MonthlyIncome    17\n",
       "dtype: int64"
      ]
     },
     "execution_count": 27,
     "metadata": {},
     "output_type": "execute_result"
    }
   ],
   "source": [
    "X_test[selected_cols].isna().sum()"
   ]
  },
  {
   "cell_type": "code",
   "execution_count": 28,
   "metadata": {
    "execution": {
     "iopub.execute_input": "2022-07-28T06:30:56.688937Z",
     "iopub.status.busy": "2022-07-28T06:30:56.688620Z",
     "iopub.status.idle": "2022-07-28T06:30:56.706852Z",
     "shell.execute_reply": "2022-07-28T06:30:56.705847Z",
     "shell.execute_reply.started": "2022-07-28T06:30:56.688908Z"
    }
   },
   "outputs": [],
   "source": [
    "from sklearn.impute import SimpleImputer\n",
    "\n",
    "numimputer = SimpleImputer(strategy = 'median')\n",
    "\n",
    "X_train[selected_num_cols] = numimputer.fit_transform(X_train[selected_num_cols])\n",
    "X_test[selected_num_cols] = numimputer.transform(X_test[selected_num_cols])"
   ]
  },
  {
   "cell_type": "code",
   "execution_count": 29,
   "metadata": {
    "execution": {
     "iopub.execute_input": "2022-07-28T06:30:56.709044Z",
     "iopub.status.busy": "2022-07-28T06:30:56.708425Z",
     "iopub.status.idle": "2022-07-28T06:30:56.732896Z",
     "shell.execute_reply": "2022-07-28T06:30:56.732053Z",
     "shell.execute_reply.started": "2022-07-28T06:30:56.709010Z"
    }
   },
   "outputs": [
    {
     "data": {
      "text/html": [
       "<div>\n",
       "<style scoped>\n",
       "    .dataframe tbody tr th:only-of-type {\n",
       "        vertical-align: middle;\n",
       "    }\n",
       "\n",
       "    .dataframe tbody tr th {\n",
       "        vertical-align: top;\n",
       "    }\n",
       "\n",
       "    .dataframe thead th {\n",
       "        text-align: right;\n",
       "    }\n",
       "</style>\n",
       "<table border=\"1\" class=\"dataframe\">\n",
       "  <thead>\n",
       "    <tr style=\"text-align: right;\">\n",
       "      <th></th>\n",
       "      <th>MaritalStatus:Divorced</th>\n",
       "      <th>MaritalStatus:Married</th>\n",
       "      <th>MaritalStatus:Single</th>\n",
       "      <th>MaritalStatus:Unmarried</th>\n",
       "      <th>Designation:AVP</th>\n",
       "      <th>Designation:Executive</th>\n",
       "      <th>Designation:Manager</th>\n",
       "      <th>Designation:Senior Manager</th>\n",
       "      <th>Designation:VP</th>\n",
       "      <th>Occupation:Large Business</th>\n",
       "      <th>Occupation:Salaried</th>\n",
       "      <th>Occupation:Small Business</th>\n",
       "    </tr>\n",
       "  </thead>\n",
       "  <tbody>\n",
       "    <tr>\n",
       "      <th>3957</th>\n",
       "      <td>0</td>\n",
       "      <td>0</td>\n",
       "      <td>0</td>\n",
       "      <td>1</td>\n",
       "      <td>0</td>\n",
       "      <td>0</td>\n",
       "      <td>0</td>\n",
       "      <td>1</td>\n",
       "      <td>0</td>\n",
       "      <td>0</td>\n",
       "      <td>1</td>\n",
       "      <td>0</td>\n",
       "    </tr>\n",
       "    <tr>\n",
       "      <th>1781</th>\n",
       "      <td>0</td>\n",
       "      <td>1</td>\n",
       "      <td>0</td>\n",
       "      <td>0</td>\n",
       "      <td>0</td>\n",
       "      <td>0</td>\n",
       "      <td>0</td>\n",
       "      <td>1</td>\n",
       "      <td>0</td>\n",
       "      <td>0</td>\n",
       "      <td>1</td>\n",
       "      <td>0</td>\n",
       "    </tr>\n",
       "    <tr>\n",
       "      <th>3797</th>\n",
       "      <td>0</td>\n",
       "      <td>1</td>\n",
       "      <td>0</td>\n",
       "      <td>0</td>\n",
       "      <td>0</td>\n",
       "      <td>1</td>\n",
       "      <td>0</td>\n",
       "      <td>0</td>\n",
       "      <td>0</td>\n",
       "      <td>1</td>\n",
       "      <td>0</td>\n",
       "      <td>0</td>\n",
       "    </tr>\n",
       "    <tr>\n",
       "      <th>4058</th>\n",
       "      <td>0</td>\n",
       "      <td>1</td>\n",
       "      <td>0</td>\n",
       "      <td>0</td>\n",
       "      <td>0</td>\n",
       "      <td>0</td>\n",
       "      <td>1</td>\n",
       "      <td>0</td>\n",
       "      <td>0</td>\n",
       "      <td>0</td>\n",
       "      <td>0</td>\n",
       "      <td>1</td>\n",
       "    </tr>\n",
       "    <tr>\n",
       "      <th>3261</th>\n",
       "      <td>0</td>\n",
       "      <td>0</td>\n",
       "      <td>0</td>\n",
       "      <td>1</td>\n",
       "      <td>0</td>\n",
       "      <td>0</td>\n",
       "      <td>1</td>\n",
       "      <td>0</td>\n",
       "      <td>0</td>\n",
       "      <td>0</td>\n",
       "      <td>1</td>\n",
       "      <td>0</td>\n",
       "    </tr>\n",
       "    <tr>\n",
       "      <th>...</th>\n",
       "      <td>...</td>\n",
       "      <td>...</td>\n",
       "      <td>...</td>\n",
       "      <td>...</td>\n",
       "      <td>...</td>\n",
       "      <td>...</td>\n",
       "      <td>...</td>\n",
       "      <td>...</td>\n",
       "      <td>...</td>\n",
       "      <td>...</td>\n",
       "      <td>...</td>\n",
       "      <td>...</td>\n",
       "    </tr>\n",
       "    <tr>\n",
       "      <th>154</th>\n",
       "      <td>0</td>\n",
       "      <td>0</td>\n",
       "      <td>0</td>\n",
       "      <td>1</td>\n",
       "      <td>0</td>\n",
       "      <td>0</td>\n",
       "      <td>0</td>\n",
       "      <td>1</td>\n",
       "      <td>0</td>\n",
       "      <td>0</td>\n",
       "      <td>0</td>\n",
       "      <td>1</td>\n",
       "    </tr>\n",
       "    <tr>\n",
       "      <th>4624</th>\n",
       "      <td>0</td>\n",
       "      <td>0</td>\n",
       "      <td>1</td>\n",
       "      <td>0</td>\n",
       "      <td>1</td>\n",
       "      <td>0</td>\n",
       "      <td>0</td>\n",
       "      <td>0</td>\n",
       "      <td>0</td>\n",
       "      <td>0</td>\n",
       "      <td>1</td>\n",
       "      <td>0</td>\n",
       "    </tr>\n",
       "    <tr>\n",
       "      <th>3745</th>\n",
       "      <td>0</td>\n",
       "      <td>1</td>\n",
       "      <td>0</td>\n",
       "      <td>0</td>\n",
       "      <td>1</td>\n",
       "      <td>0</td>\n",
       "      <td>0</td>\n",
       "      <td>0</td>\n",
       "      <td>0</td>\n",
       "      <td>0</td>\n",
       "      <td>0</td>\n",
       "      <td>1</td>\n",
       "    </tr>\n",
       "    <tr>\n",
       "      <th>1057</th>\n",
       "      <td>0</td>\n",
       "      <td>0</td>\n",
       "      <td>1</td>\n",
       "      <td>0</td>\n",
       "      <td>0</td>\n",
       "      <td>0</td>\n",
       "      <td>1</td>\n",
       "      <td>0</td>\n",
       "      <td>0</td>\n",
       "      <td>1</td>\n",
       "      <td>0</td>\n",
       "      <td>0</td>\n",
       "    </tr>\n",
       "    <tr>\n",
       "      <th>4451</th>\n",
       "      <td>0</td>\n",
       "      <td>1</td>\n",
       "      <td>0</td>\n",
       "      <td>0</td>\n",
       "      <td>0</td>\n",
       "      <td>0</td>\n",
       "      <td>0</td>\n",
       "      <td>1</td>\n",
       "      <td>0</td>\n",
       "      <td>0</td>\n",
       "      <td>1</td>\n",
       "      <td>0</td>\n",
       "    </tr>\n",
       "  </tbody>\n",
       "</table>\n",
       "<p>1135 rows × 12 columns</p>\n",
       "</div>"
      ],
      "text/plain": [
       "      MaritalStatus:Divorced  MaritalStatus:Married  MaritalStatus:Single  \\\n",
       "3957                       0                      0                     0   \n",
       "1781                       0                      1                     0   \n",
       "3797                       0                      1                     0   \n",
       "4058                       0                      1                     0   \n",
       "3261                       0                      0                     0   \n",
       "...                      ...                    ...                   ...   \n",
       "154                        0                      0                     0   \n",
       "4624                       0                      0                     1   \n",
       "3745                       0                      1                     0   \n",
       "1057                       0                      0                     1   \n",
       "4451                       0                      1                     0   \n",
       "\n",
       "      MaritalStatus:Unmarried  Designation:AVP  Designation:Executive  \\\n",
       "3957                        1                0                      0   \n",
       "1781                        0                0                      0   \n",
       "3797                        0                0                      1   \n",
       "4058                        0                0                      0   \n",
       "3261                        1                0                      0   \n",
       "...                       ...              ...                    ...   \n",
       "154                         1                0                      0   \n",
       "4624                        0                1                      0   \n",
       "3745                        0                1                      0   \n",
       "1057                        0                0                      0   \n",
       "4451                        0                0                      0   \n",
       "\n",
       "      Designation:Manager  Designation:Senior Manager  Designation:VP  \\\n",
       "3957                    0                           1               0   \n",
       "1781                    0                           1               0   \n",
       "3797                    0                           0               0   \n",
       "4058                    1                           0               0   \n",
       "3261                    1                           0               0   \n",
       "...                   ...                         ...             ...   \n",
       "154                     0                           1               0   \n",
       "4624                    0                           0               0   \n",
       "3745                    0                           0               0   \n",
       "1057                    1                           0               0   \n",
       "4451                    0                           1               0   \n",
       "\n",
       "      Occupation:Large Business  Occupation:Salaried  \\\n",
       "3957                          0                    1   \n",
       "1781                          0                    1   \n",
       "3797                          1                    0   \n",
       "4058                          0                    0   \n",
       "3261                          0                    1   \n",
       "...                         ...                  ...   \n",
       "154                           0                    0   \n",
       "4624                          0                    1   \n",
       "3745                          0                    0   \n",
       "1057                          1                    0   \n",
       "4451                          0                    1   \n",
       "\n",
       "      Occupation:Small Business  \n",
       "3957                          0  \n",
       "1781                          0  \n",
       "3797                          0  \n",
       "4058                          1  \n",
       "3261                          0  \n",
       "...                         ...  \n",
       "154                           1  \n",
       "4624                          0  \n",
       "3745                          1  \n",
       "1057                          0  \n",
       "4451                          0  \n",
       "\n",
       "[1135 rows x 12 columns]"
      ]
     },
     "execution_count": 29,
     "metadata": {},
     "output_type": "execute_result"
    }
   ],
   "source": [
    "pd.get_dummies(X_train[selected_cat_cols], prefix_sep = ':')"
   ]
  },
  {
   "cell_type": "code",
   "execution_count": 30,
   "metadata": {
    "execution": {
     "iopub.execute_input": "2022-07-28T06:30:56.734524Z",
     "iopub.status.busy": "2022-07-28T06:30:56.734062Z",
     "iopub.status.idle": "2022-07-28T06:30:56.754078Z",
     "shell.execute_reply": "2022-07-28T06:30:56.752994Z",
     "shell.execute_reply.started": "2022-07-28T06:30:56.734494Z"
    }
   },
   "outputs": [],
   "source": [
    "X_trainf = pd.concat([X_train[selected_num_cols], pd.get_dummies(X_train[selected_cat_cols], prefix_sep = ':')], axis = 1)\n",
    "X_testf = pd.concat([X_test[selected_num_cols], pd.get_dummies(X_test[selected_cat_cols], prefix_sep = ':')], axis = 1)"
   ]
  },
  {
   "cell_type": "code",
   "execution_count": 31,
   "metadata": {
    "execution": {
     "iopub.execute_input": "2022-07-28T06:30:56.755997Z",
     "iopub.status.busy": "2022-07-28T06:30:56.755691Z",
     "iopub.status.idle": "2022-07-28T06:30:56.762435Z",
     "shell.execute_reply": "2022-07-28T06:30:56.761196Z",
     "shell.execute_reply.started": "2022-07-28T06:30:56.755970Z"
    }
   },
   "outputs": [],
   "source": [
    "def data_processing(df):\n",
    "    dfx = df.copy()\n",
    "    dfx[selected_num_cols] = numimputer.transform(dfx[selected_num_cols])\n",
    "    num = dfx[selected_num_cols]\n",
    "    cat = pd.get_dummies(dfx[selected_cat_cols], prefix_sep = ':')\n",
    "    return pd.concat([num, cat], axis = 1)"
   ]
  },
  {
   "cell_type": "markdown",
   "metadata": {},
   "source": [
    "# Modelling"
   ]
  },
  {
   "cell_type": "markdown",
   "metadata": {},
   "source": [
    "First, we will check the current performance of our marketing. So much inefficiencies right?"
   ]
  },
  {
   "cell_type": "code",
   "execution_count": 32,
   "metadata": {
    "execution": {
     "iopub.execute_input": "2022-07-28T06:30:56.764812Z",
     "iopub.status.busy": "2022-07-28T06:30:56.764451Z",
     "iopub.status.idle": "2022-07-28T06:30:56.984781Z",
     "shell.execute_reply": "2022-07-28T06:30:56.983600Z",
     "shell.execute_reply.started": "2022-07-28T06:30:56.764781Z"
    }
   },
   "outputs": [
    {
     "data": {
      "text/plain": [
       "<sklearn.metrics._plot.confusion_matrix.ConfusionMatrixDisplay at 0x250712a5588>"
      ]
     },
     "execution_count": 32,
     "metadata": {},
     "output_type": "execute_result"
    },
    {
     "data": {
      "image/png": "[encoded data removed]",
      "text/plain": [
       "<Figure size 432x288 with 2 Axes>"
      ]
     },
     "metadata": {
      "needs_background": "light"
     },
     "output_type": "display_data"
    }
   ],
   "source": [
    "currentperform = y_test.to_frame()\n",
    "currentperform['predict'] = 1\n",
    "ConfusionMatrixDisplay.from_predictions(currentperform['ProdTaken'], currentperform['predict'])"
   ]
  },
  {
   "cell_type": "markdown",
   "metadata": {},
   "source": [
    "Objective:\n",
    "* TP > FP because False positive -> Ineffective marketing\n",
    "* TP > FN because False negative -> So much opportunity wasted!\n",
    "\n",
    "Ah yeah, because our dataset is kinda low. So, it's only about 75 independent events per 1 feature"
   ]
  },
  {
   "cell_type": "code",
   "execution_count": 33,
   "metadata": {
    "execution": {
     "iopub.execute_input": "2022-07-28T06:30:56.988098Z",
     "iopub.status.busy": "2022-07-28T06:30:56.987340Z",
     "iopub.status.idle": "2022-07-28T06:30:56.995356Z",
     "shell.execute_reply": "2022-07-28T06:30:56.994570Z",
     "shell.execute_reply.started": "2022-07-28T06:30:56.988061Z"
    }
   },
   "outputs": [
    {
     "data": {
      "text/plain": [
       "75.66666666666667"
      ]
     },
     "execution_count": 33,
     "metadata": {},
     "output_type": "execute_result"
    }
   ],
   "source": [
    "X_trainf.shape[0] / X_trainf.shape[1]"
   ]
  },
  {
   "cell_type": "code",
   "execution_count": 34,
   "metadata": {
    "execution": {
     "iopub.execute_input": "2022-07-28T06:30:56.997164Z",
     "iopub.status.busy": "2022-07-28T06:30:56.996726Z",
     "iopub.status.idle": "2022-07-28T06:30:57.547734Z",
     "shell.execute_reply": "2022-07-28T06:30:57.546503Z",
     "shell.execute_reply.started": "2022-07-28T06:30:56.997132Z"
    }
   },
   "outputs": [
    {
     "name": "stdout",
     "output_type": "stream",
     "text": [
      "Mean AUROC: 0.7297\n"
     ]
    }
   ],
   "source": [
    "# define modeling pipeline\n",
    "reg = LogisticRegression(max_iter=1000, class_weight = 'balanced')\n",
    "\n",
    "# define cross-validation criteria. RepeatedStratifiedKFold automatially takes care of the class imbalance while splitting\n",
    "cv = RepeatedStratifiedKFold(n_splits=5, n_repeats=3, random_state=1)\n",
    "\n",
    "# fit and evaluate the logistic regression pipeline with cross-validation as defined in cv\n",
    "scores = cross_val_score(reg, X_trainf, y_train, scoring = 'roc_auc', cv = cv)\n",
    "AUROC = np.mean(scores)\n",
    "\n",
    "# print the mean AUROC score\n",
    "print('Mean AUROC: %.4f' % (AUROC))"
   ]
  },
  {
   "cell_type": "code",
   "execution_count": 35,
   "metadata": {
    "execution": {
     "iopub.execute_input": "2022-07-28T06:30:57.550556Z",
     "iopub.status.busy": "2022-07-28T06:30:57.549374Z",
     "iopub.status.idle": "2022-07-28T06:30:57.615181Z",
     "shell.execute_reply": "2022-07-28T06:30:57.613843Z",
     "shell.execute_reply.started": "2022-07-28T06:30:57.550490Z"
    }
   },
   "outputs": [
    {
     "name": "stdout",
     "output_type": "stream",
     "text": [
      "success\n"
     ]
    }
   ],
   "source": [
    "reg.fit(X_trainf, y_train)\n",
    "print('success')"
   ]
  },
  {
   "cell_type": "code",
   "execution_count": 36,
   "metadata": {
    "execution": {
     "iopub.execute_input": "2022-07-28T06:30:57.626183Z",
     "iopub.status.busy": "2022-07-28T06:30:57.621405Z",
     "iopub.status.idle": "2022-07-28T06:30:57.902813Z",
     "shell.execute_reply": "2022-07-28T06:30:57.901730Z",
     "shell.execute_reply.started": "2022-07-28T06:30:57.626110Z"
    }
   },
   "outputs": [
    {
     "data": {
      "text/plain": [
       "<sklearn.metrics._plot.confusion_matrix.ConfusionMatrixDisplay at 0x2507134c4a8>"
      ]
     },
     "execution_count": 36,
     "metadata": {},
     "output_type": "execute_result"
    },
    {
     "data": {
      "image/png": "[encoded data removed]",
      "text/plain": [
       "<Figure size 432x288 with 2 Axes>"
      ]
     },
     "metadata": {
      "needs_background": "light"
     },
     "output_type": "display_data"
    }
   ],
   "source": [
    "y_hat_test = reg.predict(X_testf)\n",
    "ConfusionMatrixDisplay.from_predictions(y_test, y_hat_test)"
   ]
  },
  {
   "cell_type": "markdown",
   "metadata": {},
   "source": [
    "High false positive? Hmm. It means that with logistic regression the marketing is still a little bit ineffective. Let's try using **tree based algorithm**."
   ]
  },
  {
   "cell_type": "code",
   "execution_count": 37,
   "metadata": {
    "execution": {
     "iopub.execute_input": "2022-07-28T06:30:57.904451Z",
     "iopub.status.busy": "2022-07-28T06:30:57.904146Z",
     "iopub.status.idle": "2022-07-28T06:30:58.157852Z",
     "shell.execute_reply": "2022-07-28T06:30:58.156660Z",
     "shell.execute_reply.started": "2022-07-28T06:30:57.904423Z"
    }
   },
   "outputs": [
    {
     "name": "stdout",
     "output_type": "stream",
     "text": [
      "success\n"
     ]
    }
   ],
   "source": [
    "rf = RandomForestClassifier()\n",
    "rf.fit(X_trainf, y_train)\n",
    "print('success')"
   ]
  },
  {
   "cell_type": "code",
   "execution_count": 38,
   "metadata": {
    "execution": {
     "iopub.execute_input": "2022-07-28T06:30:58.159529Z",
     "iopub.status.busy": "2022-07-28T06:30:58.159195Z",
     "iopub.status.idle": "2022-07-28T06:31:01.852741Z",
     "shell.execute_reply": "2022-07-28T06:31:01.851845Z",
     "shell.execute_reply.started": "2022-07-28T06:30:58.159498Z"
    }
   },
   "outputs": [
    {
     "name": "stdout",
     "output_type": "stream",
     "text": [
      "Mean AUROC: 0.8873\n"
     ]
    }
   ],
   "source": [
    "scores = cross_val_score(rf, X_trainf, y_train, scoring = 'roc_auc', cv = cv)\n",
    "AUROC = np.mean(scores)\n",
    "\n",
    "# print the mean AUROC score\n",
    "print('Mean AUROC: %.4f' % (AUROC))"
   ]
  },
  {
   "cell_type": "code",
   "execution_count": 39,
   "metadata": {
    "execution": {
     "iopub.execute_input": "2022-07-28T06:31:01.854511Z",
     "iopub.status.busy": "2022-07-28T06:31:01.853827Z",
     "iopub.status.idle": "2022-07-28T06:31:02.101121Z",
     "shell.execute_reply": "2022-07-28T06:31:02.099689Z",
     "shell.execute_reply.started": "2022-07-28T06:31:01.854475Z"
    }
   },
   "outputs": [
    {
     "data": {
      "text/plain": [
       "<sklearn.metrics._plot.confusion_matrix.ConfusionMatrixDisplay at 0x2507132c908>"
      ]
     },
     "execution_count": 39,
     "metadata": {},
     "output_type": "execute_result"
    },
    {
     "data": {
      "image/png": "[encoded data removed]",
      "text/plain": [
       "<Figure size 432x288 with 2 Axes>"
      ]
     },
     "metadata": {
      "needs_background": "light"
     },
     "output_type": "display_data"
    }
   ],
   "source": [
    "y_hat_test = rf.predict(X_testf)\n",
    "ConfusionMatrixDisplay.from_predictions(y_test, y_hat_test)"
   ]
  },
  {
   "cell_type": "markdown",
   "metadata": {},
   "source": [
    "Better. But still, the false negative is kinda high, means we missed too much opportunity. \n",
    "* Maybe it's because of class imbalance. We will try use balanced weight in our algoritm."
   ]
  },
  {
   "cell_type": "code",
   "execution_count": 40,
   "metadata": {
    "execution": {
     "iopub.execute_input": "2022-07-28T06:31:02.106346Z",
     "iopub.status.busy": "2022-07-28T06:31:02.105677Z",
     "iopub.status.idle": "2022-07-28T06:31:07.954145Z",
     "shell.execute_reply": "2022-07-28T06:31:07.953235Z",
     "shell.execute_reply.started": "2022-07-28T06:31:02.106310Z"
    }
   },
   "outputs": [
    {
     "name": "stderr",
     "output_type": "stream",
     "text": [
      "C:\\Users\\Asif\\Anaconda3\\lib\\site-packages\\dask\\dataframe\\utils.py:15: FutureWarning: pandas.util.testing is deprecated. Use the functions in the public API at pandas.testing instead.\n",
      "  import pandas.util.testing as tm\n"
     ]
    },
    {
     "name": "stdout",
     "output_type": "stream",
     "text": [
      "Mean AUROC: 0.8727\n"
     ]
    }
   ],
   "source": [
    "from xgboost import XGBClassifier\n",
    "xgb = XGBClassifier()\n",
    "xgb.fit(X_trainf, y_train)\n",
    "\n",
    "scores = cross_val_score(xgb, X_trainf, y_train, scoring = 'roc_auc', cv = cv)\n",
    "AUROC = np.mean(scores)\n",
    "\n",
    "# print the mean AUROC score\n",
    "print('Mean AUROC: %.4f' % (AUROC))"
   ]
  },
  {
   "cell_type": "code",
   "execution_count": 41,
   "metadata": {
    "execution": {
     "iopub.execute_input": "2022-07-28T06:31:07.960745Z",
     "iopub.status.busy": "2022-07-28T06:31:07.958465Z",
     "iopub.status.idle": "2022-07-28T06:31:08.511628Z",
     "shell.execute_reply": "2022-07-28T06:31:08.510329Z",
     "shell.execute_reply.started": "2022-07-28T06:31:07.960701Z"
    }
   },
   "outputs": [
    {
     "data": {
      "text/plain": [
       "<sklearn.metrics._plot.confusion_matrix.ConfusionMatrixDisplay at 0x25072fcac18>"
      ]
     },
     "execution_count": 41,
     "metadata": {},
     "output_type": "execute_result"
    },
    {
     "data": {
      "image/png": "[encoded data removed]",
      "text/plain": [
       "<Figure size 432x288 with 2 Axes>"
      ]
     },
     "metadata": {
      "needs_background": "light"
     },
     "output_type": "display_data"
    }
   ],
   "source": [
    "xgb = XGBClassifier(learning_rate = 0.34, objective = 'binary:logistic', eval_metric = 'aucpr', random_state = 42)\n",
    "xgb.fit(X_trainf, y_train)\n",
    "y_hat_test = xgb.predict(X_testf)\n",
    "ConfusionMatrixDisplay.from_predictions(y_test, y_hat_test)"
   ]
  },
  {
   "cell_type": "code",
   "execution_count": 42,
   "metadata": {
    "execution": {
     "iopub.execute_input": "2022-07-28T06:31:08.513362Z",
     "iopub.status.busy": "2022-07-28T06:31:08.513041Z",
     "iopub.status.idle": "2022-07-28T06:31:08.525558Z",
     "shell.execute_reply": "2022-07-28T06:31:08.524085Z",
     "shell.execute_reply.started": "2022-07-28T06:31:08.513331Z"
    }
   },
   "outputs": [
    {
     "name": "stdout",
     "output_type": "stream",
     "text": [
      "              precision    recall  f1-score   support\n",
      "\n",
      "           0       0.93      0.95      0.94       222\n",
      "           1       0.79      0.73      0.76        62\n",
      "\n",
      "    accuracy                           0.90       284\n",
      "   macro avg       0.86      0.84      0.85       284\n",
      "weighted avg       0.90      0.90      0.90       284\n",
      "\n"
     ]
    }
   ],
   "source": [
    "print(classification_report(y_test, y_hat_test))"
   ]
  },
  {
   "cell_type": "code",
   "execution_count": 43,
   "metadata": {
    "execution": {
     "iopub.execute_input": "2022-07-28T06:31:08.527927Z",
     "iopub.status.busy": "2022-07-28T06:31:08.527308Z",
     "iopub.status.idle": "2022-07-28T06:31:08.554760Z",
     "shell.execute_reply": "2022-07-28T06:31:08.553623Z",
     "shell.execute_reply.started": "2022-07-28T06:31:08.527878Z"
    }
   },
   "outputs": [],
   "source": [
    "# make preditions on our test set\n",
    "y_hat_test = xgb.predict(X_testf)\n",
    "# get the predicted probabilities\n",
    "y_hat_test_proba = xgb.predict_proba(X_testf)\n",
    "# select the probabilities of only the positive class (class 1 - default) \n",
    "y_hat_test_proba = y_hat_test_proba[:][: , 1]\n",
    "# we will now create a new DF with actual classes and the predicted probabilities\n",
    "# create a temp y_test DF to reset its index to allow proper concaternation with y_hat_test_proba\n",
    "y_test_temp = y_test.copy()\n",
    "y_test_temp.reset_index(drop = True, inplace = True)\n",
    "y_test_proba = pd.concat([y_test_temp, pd.DataFrame(y_hat_test_proba)], axis = 1)\n",
    "# Rename the columns\n",
    "y_test_proba.columns = ['y_test_class_actual', 'y_hat_test_proba']\n",
    "# Makes the index of one dataframe equal to the index of another dataframe.\n",
    "y_test_proba.index = X_testf.index"
   ]
  },
  {
   "cell_type": "code",
   "execution_count": 44,
   "metadata": {
    "execution": {
     "iopub.execute_input": "2022-07-28T06:31:08.562084Z",
     "iopub.status.busy": "2022-07-28T06:31:08.556338Z",
     "iopub.status.idle": "2022-07-28T06:31:08.758719Z",
     "shell.execute_reply": "2022-07-28T06:31:08.757549Z",
     "shell.execute_reply.started": "2022-07-28T06:31:08.562035Z"
    }
   },
   "outputs": [
    {
     "data": {
      "image/png": "[encoded data removed]",
      "text/plain": [
       "<Figure size 432x288 with 1 Axes>"
      ]
     },
     "metadata": {
      "needs_background": "light"
     },
     "output_type": "display_data"
    }
   ],
   "source": [
    "# get the values required to plot a ROC curve\n",
    "fpr, tpr, thresholds = roc_curve(y_test_proba['y_test_class_actual'], y_test_proba['y_hat_test_proba'])\n",
    "# plot the ROC curve\n",
    "plt.plot(fpr, tpr)\n",
    "# plot a secondary diagonal line, with dashed line style and black color to represent a no-skill classifier\n",
    "plt.plot(fpr, fpr, linestyle = '--', color = 'k')\n",
    "plt.xlabel('False positive rate')\n",
    "plt.ylabel('True positive rate')\n",
    "plt.title('ROC curve');"
   ]
  },
  {
   "cell_type": "code",
   "execution_count": 45,
   "metadata": {
    "execution": {
     "iopub.execute_input": "2022-07-28T06:31:08.761239Z",
     "iopub.status.busy": "2022-07-28T06:31:08.760350Z",
     "iopub.status.idle": "2022-07-28T06:31:08.771038Z",
     "shell.execute_reply": "2022-07-28T06:31:08.770230Z",
     "shell.execute_reply.started": "2022-07-28T06:31:08.761198Z"
    }
   },
   "outputs": [
    {
     "data": {
      "text/plain": [
       "0.9013731473408892"
      ]
     },
     "execution_count": 45,
     "metadata": {},
     "output_type": "execute_result"
    }
   ],
   "source": [
    "# Calculate the Area Under the Receiver Operating Characteristic Curve (AUROC) on our test set\n",
    "AUROC = roc_auc_score(y_test_proba['y_test_class_actual'], y_test_proba['y_hat_test_proba'])\n",
    "AUROC"
   ]
  },
  {
   "cell_type": "code",
   "execution_count": 46,
   "metadata": {
    "execution": {
     "iopub.execute_input": "2022-07-28T06:31:08.773441Z",
     "iopub.status.busy": "2022-07-28T06:31:08.772840Z",
     "iopub.status.idle": "2022-07-28T06:31:08.992093Z",
     "shell.execute_reply": "2022-07-28T06:31:08.991291Z",
     "shell.execute_reply.started": "2022-07-28T06:31:08.773407Z"
    }
   },
   "outputs": [
    {
     "data": {
      "image/png": "[encoded data removed]",
      "text/plain": [
       "<Figure size 432x288 with 1 Axes>"
      ]
     },
     "metadata": {
      "needs_background": "light"
     },
     "output_type": "display_data"
    }
   ],
   "source": [
    "# draw a PR curve\n",
    "# calculate the no skill line as the proportion of the positive class\n",
    "no_skill = len(y_test[y_test == 1]) / len(y)\n",
    "# plot the no skill precision-recall curve\n",
    "plt.plot([0, 1], [no_skill, no_skill], linestyle='--', label='No Skill')\n",
    "\n",
    "# calculate inputs for the PR curve\n",
    "precision, recall, thresholds = precision_recall_curve(y_test_proba['y_test_class_actual'], y_test_proba['y_hat_test_proba'])\n",
    "# plot PR curve\n",
    "plt.plot(recall, precision, marker='.', label='Logistic')\n",
    "plt.xlabel('Recall')\n",
    "plt.ylabel('Precision')\n",
    "plt.legend()\n",
    "plt.title('PR curve');"
   ]
  },
  {
   "cell_type": "code",
   "execution_count": 47,
   "metadata": {
    "execution": {
     "iopub.execute_input": "2022-07-28T06:31:08.994102Z",
     "iopub.status.busy": "2022-07-28T06:31:08.993500Z",
     "iopub.status.idle": "2022-07-28T06:31:09.001713Z",
     "shell.execute_reply": "2022-07-28T06:31:09.000447Z",
     "shell.execute_reply.started": "2022-07-28T06:31:08.994069Z"
    }
   },
   "outputs": [
    {
     "data": {
      "text/plain": [
       "0.7697383556595908"
      ]
     },
     "execution_count": 47,
     "metadata": {},
     "output_type": "execute_result"
    }
   ],
   "source": [
    "# calculate PR AUC\n",
    "auc_pr = auc(recall, precision)\n",
    "auc_pr"
   ]
  },
  {
   "cell_type": "markdown",
   "metadata": {},
   "source": [
    "**why after recall > 80% the performance nose dive?**\n",
    "\n",
    "The curve smells like outlier + imbalance dataset. Let's try oversample... Not much of expectation though."
   ]
  },
  {
   "cell_type": "code",
   "execution_count": 48,
   "metadata": {
    "execution": {
     "iopub.execute_input": "2022-07-28T06:31:09.003449Z",
     "iopub.status.busy": "2022-07-28T06:31:09.003133Z",
     "iopub.status.idle": "2022-07-28T06:31:09.057464Z",
     "shell.execute_reply": "2022-07-28T06:31:09.056650Z",
     "shell.execute_reply.started": "2022-07-28T06:31:09.003420Z"
    }
   },
   "outputs": [
    {
     "data": {
      "text/html": [
       "<div>\n",
       "<style scoped>\n",
       "    .dataframe tbody tr th:only-of-type {\n",
       "        vertical-align: middle;\n",
       "    }\n",
       "\n",
       "    .dataframe tbody tr th {\n",
       "        vertical-align: top;\n",
       "    }\n",
       "\n",
       "    .dataframe thead th {\n",
       "        text-align: right;\n",
       "    }\n",
       "</style>\n",
       "<table border=\"1\" class=\"dataframe\">\n",
       "  <thead>\n",
       "    <tr style=\"text-align: right;\">\n",
       "      <th></th>\n",
       "      <th>mean</th>\n",
       "      <th>50%</th>\n",
       "      <th>min</th>\n",
       "      <th>left_out</th>\n",
       "      <th>max</th>\n",
       "      <th>right_out</th>\n",
       "    </tr>\n",
       "  </thead>\n",
       "  <tbody>\n",
       "    <tr>\n",
       "      <th>Age</th>\n",
       "      <td>37.121586</td>\n",
       "      <td>36.0</td>\n",
       "      <td>18.0</td>\n",
       "      <td>14.50</td>\n",
       "      <td>61.0</td>\n",
       "      <td>58.50</td>\n",
       "    </tr>\n",
       "    <tr>\n",
       "      <th>CityTier</th>\n",
       "      <td>1.667841</td>\n",
       "      <td>1.0</td>\n",
       "      <td>1.0</td>\n",
       "      <td>-2.00</td>\n",
       "      <td>3.0</td>\n",
       "      <td>6.00</td>\n",
       "    </tr>\n",
       "    <tr>\n",
       "      <th>NumberOfPersonVisiting</th>\n",
       "      <td>2.895154</td>\n",
       "      <td>3.0</td>\n",
       "      <td>1.0</td>\n",
       "      <td>0.50</td>\n",
       "      <td>4.0</td>\n",
       "      <td>4.50</td>\n",
       "    </tr>\n",
       "    <tr>\n",
       "      <th>NumberOfFollowups</th>\n",
       "      <td>3.735530</td>\n",
       "      <td>4.0</td>\n",
       "      <td>1.0</td>\n",
       "      <td>1.50</td>\n",
       "      <td>6.0</td>\n",
       "      <td>5.50</td>\n",
       "    </tr>\n",
       "    <tr>\n",
       "      <th>PreferredPropertyStar</th>\n",
       "      <td>3.528736</td>\n",
       "      <td>3.0</td>\n",
       "      <td>3.0</td>\n",
       "      <td>1.50</td>\n",
       "      <td>5.0</td>\n",
       "      <td>5.50</td>\n",
       "    </tr>\n",
       "    <tr>\n",
       "      <th>NumberOfTrips</th>\n",
       "      <td>3.205802</td>\n",
       "      <td>3.0</td>\n",
       "      <td>1.0</td>\n",
       "      <td>-1.00</td>\n",
       "      <td>22.0</td>\n",
       "      <td>7.00</td>\n",
       "    </tr>\n",
       "    <tr>\n",
       "      <th>Passport</th>\n",
       "      <td>0.288106</td>\n",
       "      <td>0.0</td>\n",
       "      <td>0.0</td>\n",
       "      <td>-1.50</td>\n",
       "      <td>1.0</td>\n",
       "      <td>2.50</td>\n",
       "    </tr>\n",
       "    <tr>\n",
       "      <th>OwnCar</th>\n",
       "      <td>0.610573</td>\n",
       "      <td>1.0</td>\n",
       "      <td>0.0</td>\n",
       "      <td>-1.50</td>\n",
       "      <td>1.0</td>\n",
       "      <td>2.50</td>\n",
       "    </tr>\n",
       "    <tr>\n",
       "      <th>NumberOfChildrenVisiting</th>\n",
       "      <td>1.173605</td>\n",
       "      <td>1.0</td>\n",
       "      <td>0.0</td>\n",
       "      <td>-0.50</td>\n",
       "      <td>3.0</td>\n",
       "      <td>3.50</td>\n",
       "    </tr>\n",
       "    <tr>\n",
       "      <th>MonthlyIncome</th>\n",
       "      <td>23233.692070</td>\n",
       "      <td>22239.5</td>\n",
       "      <td>16051.0</td>\n",
       "      <td>13059.25</td>\n",
       "      <td>38651.0</td>\n",
       "      <td>32265.25</td>\n",
       "    </tr>\n",
       "  </tbody>\n",
       "</table>\n",
       "</div>"
      ],
      "text/plain": [
       "                                  mean      50%      min  left_out      max  \\\n",
       "Age                          37.121586     36.0     18.0     14.50     61.0   \n",
       "CityTier                      1.667841      1.0      1.0     -2.00      3.0   \n",
       "NumberOfPersonVisiting        2.895154      3.0      1.0      0.50      4.0   \n",
       "NumberOfFollowups             3.735530      4.0      1.0      1.50      6.0   \n",
       "PreferredPropertyStar         3.528736      3.0      3.0      1.50      5.0   \n",
       "NumberOfTrips                 3.205802      3.0      1.0     -1.00     22.0   \n",
       "Passport                      0.288106      0.0      0.0     -1.50      1.0   \n",
       "OwnCar                        0.610573      1.0      0.0     -1.50      1.0   \n",
       "NumberOfChildrenVisiting      1.173605      1.0      0.0     -0.50      3.0   \n",
       "MonthlyIncome             23233.692070  22239.5  16051.0  13059.25  38651.0   \n",
       "\n",
       "                          right_out  \n",
       "Age                           58.50  \n",
       "CityTier                       6.00  \n",
       "NumberOfPersonVisiting         4.50  \n",
       "NumberOfFollowups              5.50  \n",
       "PreferredPropertyStar          5.50  \n",
       "NumberOfTrips                  7.00  \n",
       "Passport                       2.50  \n",
       "OwnCar                         2.50  \n",
       "NumberOfChildrenVisiting       3.50  \n",
       "MonthlyIncome              32265.25  "
      ]
     },
     "execution_count": 48,
     "metadata": {},
     "output_type": "execute_result"
    }
   ],
   "source": [
    "train_check = X_train.describe().T\n",
    "train_check['IQR'] = train_check['75%'] - train_check['25%']\n",
    "train_check['left_out'] = train_check['25%'] - 1.5 * train_check['IQR']\n",
    "train_check['right_out'] = train_check['75%'] + 1.5 * train_check['IQR']\n",
    "train_check[['mean', '50%', 'min', 'left_out', 'max', 'right_out']]"
   ]
  },
  {
   "cell_type": "code",
   "execution_count": 49,
   "metadata": {
    "execution": {
     "iopub.execute_input": "2022-07-28T06:31:09.059257Z",
     "iopub.status.busy": "2022-07-28T06:31:09.058940Z",
     "iopub.status.idle": "2022-07-28T06:31:09.375640Z",
     "shell.execute_reply": "2022-07-28T06:31:09.374493Z",
     "shell.execute_reply.started": "2022-07-28T06:31:09.059227Z"
    }
   },
   "outputs": [
    {
     "data": {
      "text/plain": [
       "<matplotlib.axes._subplots.AxesSubplot at 0x25009a30400>"
      ]
     },
     "execution_count": 49,
     "metadata": {},
     "output_type": "execute_result"
    },
    {
     "data": {
      "image/png": "[encoded data removed]",
      "text/plain": [
       "<Figure size 432x288 with 1 Axes>"
      ]
     },
     "metadata": {
      "needs_background": "light"
     },
     "output_type": "display_data"
    }
   ],
   "source": [
    "sns.boxplot(data = df, x = 'Age', y = 'ProdTaken_YN', hue = 'TypeofContact')"
   ]
  },
  {
   "cell_type": "code",
   "execution_count": 50,
   "metadata": {
    "execution": {
     "iopub.execute_input": "2022-07-28T06:31:09.377524Z",
     "iopub.status.busy": "2022-07-28T06:31:09.377181Z",
     "iopub.status.idle": "2022-07-28T06:31:09.634219Z",
     "shell.execute_reply": "2022-07-28T06:31:09.633365Z",
     "shell.execute_reply.started": "2022-07-28T06:31:09.377492Z"
    }
   },
   "outputs": [
    {
     "data": {
      "text/plain": [
       "<matplotlib.axes._subplots.AxesSubplot at 0x25009acca58>"
      ]
     },
     "execution_count": 50,
     "metadata": {},
     "output_type": "execute_result"
    },
    {
     "data": {
      "image/png": "[encoded data removed]",
      "text/plain": [
       "<Figure size 432x288 with 1 Axes>"
      ]
     },
     "metadata": {
      "needs_background": "light"
     },
     "output_type": "display_data"
    }
   ],
   "source": [
    "sns.boxplot(data = df, x = 'NumberOfTrips', y = 'ProdTaken_YN', hue = 'TypeofContact')"
   ]
  },
  {
   "cell_type": "code",
   "execution_count": 51,
   "metadata": {
    "execution": {
     "iopub.execute_input": "2022-07-28T06:31:09.636307Z",
     "iopub.status.busy": "2022-07-28T06:31:09.635988Z",
     "iopub.status.idle": "2022-07-28T06:31:09.649696Z",
     "shell.execute_reply": "2022-07-28T06:31:09.648270Z",
     "shell.execute_reply.started": "2022-07-28T06:31:09.636279Z"
    }
   },
   "outputs": [],
   "source": [
    "from imblearn.over_sampling import RandomOverSampler\n",
    "ros = RandomOverSampler(random_state=42)\n",
    "X_resampled, y_resampled = ros.fit_resample(X_trainf, y_train)"
   ]
  },
  {
   "cell_type": "code",
   "execution_count": 52,
   "metadata": {
    "execution": {
     "iopub.execute_input": "2022-07-28T06:31:09.651453Z",
     "iopub.status.busy": "2022-07-28T06:31:09.651102Z",
     "iopub.status.idle": "2022-07-28T06:31:10.246050Z",
     "shell.execute_reply": "2022-07-28T06:31:10.244706Z",
     "shell.execute_reply.started": "2022-07-28T06:31:09.651419Z"
    }
   },
   "outputs": [
    {
     "data": {
      "text/plain": [
       "<sklearn.metrics._plot.confusion_matrix.ConfusionMatrixDisplay at 0x25009cef4e0>"
      ]
     },
     "execution_count": 52,
     "metadata": {},
     "output_type": "execute_result"
    },
    {
     "data": {
      "image/png": "[encoded data removed]",
      "text/plain": [
       "<Figure size 432x288 with 2 Axes>"
      ]
     },
     "metadata": {
      "needs_background": "light"
     },
     "output_type": "display_data"
    }
   ],
   "source": [
    "xgb2 = XGBClassifier(learning_rate = 0.31, objective = 'binary:logistic', eval_metric = 'aucpr', random_state = 42)\n",
    "xgb2.fit(X_resampled, y_resampled)\n",
    "y_hat_test2 = xgb2.predict(X_testf)\n",
    "ConfusionMatrixDisplay.from_predictions(y_test, y_hat_test2)"
   ]
  },
  {
   "cell_type": "code",
   "execution_count": 53,
   "metadata": {
    "execution": {
     "iopub.execute_input": "2022-07-28T06:31:10.256061Z",
     "iopub.status.busy": "2022-07-28T06:31:10.255473Z",
     "iopub.status.idle": "2022-07-28T06:31:10.267365Z",
     "shell.execute_reply": "2022-07-28T06:31:10.266417Z",
     "shell.execute_reply.started": "2022-07-28T06:31:10.256023Z"
    }
   },
   "outputs": [
    {
     "name": "stdout",
     "output_type": "stream",
     "text": [
      "              precision    recall  f1-score   support\n",
      "\n",
      "           0       0.94      0.93      0.93       222\n",
      "           1       0.76      0.77      0.77        62\n",
      "\n",
      "    accuracy                           0.90       284\n",
      "   macro avg       0.85      0.85      0.85       284\n",
      "weighted avg       0.90      0.90      0.90       284\n",
      "\n"
     ]
    }
   ],
   "source": [
    "print(classification_report(y_test, y_hat_test2))"
   ]
  },
  {
   "cell_type": "code",
   "execution_count": 54,
   "metadata": {
    "execution": {
     "iopub.execute_input": "2022-07-28T06:31:10.269814Z",
     "iopub.status.busy": "2022-07-28T06:31:10.269144Z",
     "iopub.status.idle": "2022-07-28T06:31:10.285193Z",
     "shell.execute_reply": "2022-07-28T06:31:10.283971Z",
     "shell.execute_reply.started": "2022-07-28T06:31:10.269779Z"
    }
   },
   "outputs": [],
   "source": [
    "y_hat_test_proba2 = xgb2.predict_proba(X_testf)\n",
    "# select the probabilities of only the positive class (class 1 - default) \n",
    "y_hat_test_proba2 = y_hat_test_proba2[:][: , 1]\n",
    "# we will now create a new DF with actual classes and the predicted probabilities\n",
    "# create a temp y_test DF to reset its index to allow proper concaternation with y_hat_test_proba\n",
    "y_test_temp = y_test.copy()\n",
    "y_test_temp.reset_index(drop = True, inplace = True)\n",
    "y_test_proba2 = pd.concat([y_test_temp, pd.DataFrame(y_hat_test_proba2)], axis = 1)\n",
    "# Rename the columns\n",
    "y_test_proba2.columns = ['y_test_class_actual', 'y_hat_test_proba']\n",
    "# Makes the index of one dataframe equal to the index of another dataframe.\n",
    "y_test_proba2.index = X_testf.index"
   ]
  },
  {
   "cell_type": "code",
   "execution_count": 55,
   "metadata": {
    "execution": {
     "iopub.execute_input": "2022-07-28T06:31:10.290091Z",
     "iopub.status.busy": "2022-07-28T06:31:10.286486Z",
     "iopub.status.idle": "2022-07-28T06:31:10.510749Z",
     "shell.execute_reply": "2022-07-28T06:31:10.509588Z",
     "shell.execute_reply.started": "2022-07-28T06:31:10.290045Z"
    }
   },
   "outputs": [
    {
     "data": {
      "image/png": "[encoded data removed]",
      "text/plain": [
       "<Figure size 432x288 with 1 Axes>"
      ]
     },
     "metadata": {
      "needs_background": "light"
     },
     "output_type": "display_data"
    }
   ],
   "source": [
    "# draw a PR curve\n",
    "# calculate the no skill line as the proportion of the positive class\n",
    "no_skill = len(y_test[y_test == 1]) / len(y)\n",
    "# plot the no skill precision-recall curve\n",
    "plt.plot([0, 1], [no_skill, no_skill], linestyle='--', label='No Skill')\n",
    "# calculate inputs for the PR curve\n",
    "precision, recall, thresholds = precision_recall_curve(y_test_proba2['y_test_class_actual'], y_test_proba2['y_hat_test_proba'])\n",
    "# plot PR curve\n",
    "plt.plot(recall, precision, marker='.', label='Logistic')\n",
    "plt.xlabel('Recall')\n",
    "plt.ylabel('Precision')\n",
    "plt.legend()\n",
    "plt.title('PR curve');"
   ]
  },
  {
   "cell_type": "markdown",
   "metadata": {},
   "source": [
    "Well... A little bit better. Maybe we should try undersample? But the data is too low. So, no.\n",
    "\n",
    "Agh, don't have anymore idea with the knowledge I have right now! Any feedback on this (how to stabilize the PR curve) will be much appreciated!\n",
    "\n",
    "Problem:\n",
    "* Recall > 0.8 will make the precision nosedive"
   ]
  },
  {
   "cell_type": "markdown",
   "metadata": {},
   "source": [
    "**Threshold tuning (to maximize recall)**"
   ]
  },
  {
   "cell_type": "code",
   "execution_count": 56,
   "metadata": {
    "execution": {
     "iopub.execute_input": "2022-07-28T06:31:10.512520Z",
     "iopub.status.busy": "2022-07-28T06:31:10.512220Z",
     "iopub.status.idle": "2022-07-28T06:31:10.739748Z",
     "shell.execute_reply": "2022-07-28T06:31:10.738591Z",
     "shell.execute_reply.started": "2022-07-28T06:31:10.512492Z"
    }
   },
   "outputs": [
    {
     "data": {
      "text/plain": [
       "<sklearn.metrics._plot.confusion_matrix.ConfusionMatrixDisplay at 0x2500ade6710>"
      ]
     },
     "execution_count": 56,
     "metadata": {},
     "output_type": "execute_result"
    },
    {
     "data": {
      "image/png": "[encoded data removed]",
      "text/plain": [
       "<Figure size 432x288 with 2 Axes>"
      ]
     },
     "metadata": {
      "needs_background": "light"
     },
     "output_type": "display_data"
    }
   ],
   "source": [
    "tr = 0.4\n",
    "# crate a new column for the predicted class based on predicted probabilities and threshold\n",
    "y_test_proba['y_test_class_predicted'] = np.where(y_test_proba['y_hat_test_proba'] > tr, 1, 0)\n",
    "# create the confusion matrix\n",
    "ConfusionMatrixDisplay.from_predictions(y_test, y_test_proba['y_test_class_predicted'])"
   ]
  },
  {
   "cell_type": "code",
   "execution_count": 57,
   "metadata": {
    "execution": {
     "iopub.execute_input": "2022-07-28T06:31:10.741644Z",
     "iopub.status.busy": "2022-07-28T06:31:10.741278Z",
     "iopub.status.idle": "2022-07-28T06:31:10.754293Z",
     "shell.execute_reply": "2022-07-28T06:31:10.753125Z",
     "shell.execute_reply.started": "2022-07-28T06:31:10.741611Z"
    }
   },
   "outputs": [
    {
     "name": "stdout",
     "output_type": "stream",
     "text": [
      "              precision    recall  f1-score   support\n",
      "\n",
      "           0       0.95      0.94      0.94       222\n",
      "           1       0.79      0.81      0.80        62\n",
      "\n",
      "    accuracy                           0.91       284\n",
      "   macro avg       0.87      0.87      0.87       284\n",
      "weighted avg       0.91      0.91      0.91       284\n",
      "\n"
     ]
    }
   ],
   "source": [
    "print(classification_report(y_test, y_test_proba['y_test_class_predicted']))"
   ]
  },
  {
   "cell_type": "markdown",
   "metadata": {},
   "source": [
    "Okay, this is the best that I can do right now."
   ]
  },
  {
   "cell_type": "markdown",
   "metadata": {},
   "source": [
    "# How the model can be used?"
   ]
  },
  {
   "cell_type": "markdown",
   "metadata": {},
   "source": [
    "Based on the precision recall score:\n",
    "* We can slash 94% of the ineffective marketing cost\n",
    "* The model can predict up to 81% of the available potential customer to be pitched, \n",
    "* Precision of 0.79 -> means that every 5 potential customer predicted, there is 1/5 chance that the one predicted actually isn't potential."
   ]
  },
  {
   "cell_type": "code",
   "execution_count": 58,
   "metadata": {
    "execution": {
     "iopub.execute_input": "2022-07-28T06:31:10.756557Z",
     "iopub.status.busy": "2022-07-28T06:31:10.755842Z",
     "iopub.status.idle": "2022-07-28T06:31:10.763256Z",
     "shell.execute_reply": "2022-07-28T06:31:10.761955Z",
     "shell.execute_reply.started": "2022-07-28T06:31:10.756511Z"
    }
   },
   "outputs": [],
   "source": [
    "def last_model(df_test, model = xgb2):\n",
    "    df = df_test.copy()\n",
    "    return model.predict(df)"
   ]
  },
  {
   "cell_type": "markdown",
   "metadata": {},
   "source": [
    "We'll see how much of last year customer that's actually potential, but because they didn't get pitched by the company, they didn't take the product."
   ]
  },
  {
   "cell_type": "code",
   "execution_count": 59,
   "metadata": {
    "execution": {
     "iopub.execute_input": "2022-07-28T06:31:10.766891Z",
     "iopub.status.busy": "2022-07-28T06:31:10.766176Z",
     "iopub.status.idle": "2022-07-28T06:31:10.803019Z",
     "shell.execute_reply": "2022-07-28T06:31:10.802113Z",
     "shell.execute_reply.started": "2022-07-28T06:31:10.766835Z"
    }
   },
   "outputs": [
    {
     "data": {
      "text/html": [
       "<div>\n",
       "<style scoped>\n",
       "    .dataframe tbody tr th:only-of-type {\n",
       "        vertical-align: middle;\n",
       "    }\n",
       "\n",
       "    .dataframe tbody tr th {\n",
       "        vertical-align: top;\n",
       "    }\n",
       "\n",
       "    .dataframe thead th {\n",
       "        text-align: right;\n",
       "    }\n",
       "</style>\n",
       "<table border=\"1\" class=\"dataframe\">\n",
       "  <thead>\n",
       "    <tr style=\"text-align: right;\">\n",
       "      <th></th>\n",
       "      <th>CustomerID</th>\n",
       "      <th>ProdTaken</th>\n",
       "      <th>Age</th>\n",
       "      <th>TypeofContact</th>\n",
       "      <th>CityTier</th>\n",
       "      <th>DurationOfPitch</th>\n",
       "      <th>Occupation</th>\n",
       "      <th>Gender</th>\n",
       "      <th>NumberOfPersonVisiting</th>\n",
       "      <th>NumberOfFollowups</th>\n",
       "      <th>...</th>\n",
       "      <th>PreferredPropertyStar</th>\n",
       "      <th>MaritalStatus</th>\n",
       "      <th>NumberOfTrips</th>\n",
       "      <th>Passport</th>\n",
       "      <th>PitchSatisfactionScore</th>\n",
       "      <th>OwnCar</th>\n",
       "      <th>NumberOfChildrenVisiting</th>\n",
       "      <th>Designation</th>\n",
       "      <th>MonthlyIncome</th>\n",
       "      <th>ProdTaken_YN</th>\n",
       "    </tr>\n",
       "  </thead>\n",
       "  <tbody>\n",
       "    <tr>\n",
       "      <th>4</th>\n",
       "      <td>200004</td>\n",
       "      <td>0</td>\n",
       "      <td>NaN</td>\n",
       "      <td>Self Enquiry</td>\n",
       "      <td>1</td>\n",
       "      <td>8.0</td>\n",
       "      <td>Small Business</td>\n",
       "      <td>Male</td>\n",
       "      <td>2</td>\n",
       "      <td>3.0</td>\n",
       "      <td>...</td>\n",
       "      <td>4.0</td>\n",
       "      <td>Divorced</td>\n",
       "      <td>1.0</td>\n",
       "      <td>0</td>\n",
       "      <td>5</td>\n",
       "      <td>1</td>\n",
       "      <td>0.0</td>\n",
       "      <td>Executive</td>\n",
       "      <td>18468.0</td>\n",
       "      <td>No</td>\n",
       "    </tr>\n",
       "    <tr>\n",
       "      <th>6</th>\n",
       "      <td>200006</td>\n",
       "      <td>0</td>\n",
       "      <td>59.0</td>\n",
       "      <td>Self Enquiry</td>\n",
       "      <td>1</td>\n",
       "      <td>9.0</td>\n",
       "      <td>Small Business</td>\n",
       "      <td>Female</td>\n",
       "      <td>2</td>\n",
       "      <td>2.0</td>\n",
       "      <td>...</td>\n",
       "      <td>5.0</td>\n",
       "      <td>Divorced</td>\n",
       "      <td>5.0</td>\n",
       "      <td>1</td>\n",
       "      <td>2</td>\n",
       "      <td>1</td>\n",
       "      <td>1.0</td>\n",
       "      <td>Executive</td>\n",
       "      <td>17670.0</td>\n",
       "      <td>No</td>\n",
       "    </tr>\n",
       "    <tr>\n",
       "      <th>7</th>\n",
       "      <td>200007</td>\n",
       "      <td>0</td>\n",
       "      <td>30.0</td>\n",
       "      <td>Self Enquiry</td>\n",
       "      <td>1</td>\n",
       "      <td>30.0</td>\n",
       "      <td>Salaried</td>\n",
       "      <td>Male</td>\n",
       "      <td>3</td>\n",
       "      <td>3.0</td>\n",
       "      <td>...</td>\n",
       "      <td>3.0</td>\n",
       "      <td>Married</td>\n",
       "      <td>2.0</td>\n",
       "      <td>0</td>\n",
       "      <td>2</td>\n",
       "      <td>0</td>\n",
       "      <td>1.0</td>\n",
       "      <td>Executive</td>\n",
       "      <td>17693.0</td>\n",
       "      <td>No</td>\n",
       "    </tr>\n",
       "    <tr>\n",
       "      <th>9</th>\n",
       "      <td>200009</td>\n",
       "      <td>0</td>\n",
       "      <td>36.0</td>\n",
       "      <td>Self Enquiry</td>\n",
       "      <td>1</td>\n",
       "      <td>33.0</td>\n",
       "      <td>Small Business</td>\n",
       "      <td>Male</td>\n",
       "      <td>3</td>\n",
       "      <td>3.0</td>\n",
       "      <td>...</td>\n",
       "      <td>3.0</td>\n",
       "      <td>Divorced</td>\n",
       "      <td>7.0</td>\n",
       "      <td>0</td>\n",
       "      <td>3</td>\n",
       "      <td>1</td>\n",
       "      <td>0.0</td>\n",
       "      <td>Manager</td>\n",
       "      <td>20237.0</td>\n",
       "      <td>No</td>\n",
       "    </tr>\n",
       "    <tr>\n",
       "      <th>10</th>\n",
       "      <td>200010</td>\n",
       "      <td>0</td>\n",
       "      <td>35.0</td>\n",
       "      <td>Self Enquiry</td>\n",
       "      <td>1</td>\n",
       "      <td>22.0</td>\n",
       "      <td>Small Business</td>\n",
       "      <td>Male</td>\n",
       "      <td>2</td>\n",
       "      <td>2.0</td>\n",
       "      <td>...</td>\n",
       "      <td>4.0</td>\n",
       "      <td>Divorced</td>\n",
       "      <td>1.0</td>\n",
       "      <td>0</td>\n",
       "      <td>3</td>\n",
       "      <td>1</td>\n",
       "      <td>1.0</td>\n",
       "      <td>Executive</td>\n",
       "      <td>17426.0</td>\n",
       "      <td>No</td>\n",
       "    </tr>\n",
       "  </tbody>\n",
       "</table>\n",
       "<p>5 rows × 21 columns</p>\n",
       "</div>"
      ],
      "text/plain": [
       "    CustomerID  ProdTaken   Age TypeofContact  CityTier  DurationOfPitch  \\\n",
       "4       200004          0   NaN  Self Enquiry         1              8.0   \n",
       "6       200006          0  59.0  Self Enquiry         1              9.0   \n",
       "7       200007          0  30.0  Self Enquiry         1             30.0   \n",
       "9       200009          0  36.0  Self Enquiry         1             33.0   \n",
       "10      200010          0  35.0  Self Enquiry         1             22.0   \n",
       "\n",
       "        Occupation  Gender  NumberOfPersonVisiting  NumberOfFollowups  ...  \\\n",
       "4   Small Business    Male                       2                3.0  ...   \n",
       "6   Small Business  Female                       2                2.0  ...   \n",
       "7         Salaried    Male                       3                3.0  ...   \n",
       "9   Small Business    Male                       3                3.0  ...   \n",
       "10  Small Business    Male                       2                2.0  ...   \n",
       "\n",
       "   PreferredPropertyStar  MaritalStatus NumberOfTrips  Passport  \\\n",
       "4                    4.0       Divorced           1.0         0   \n",
       "6                    5.0       Divorced           5.0         1   \n",
       "7                    3.0        Married           2.0         0   \n",
       "9                    3.0       Divorced           7.0         0   \n",
       "10                   4.0       Divorced           1.0         0   \n",
       "\n",
       "    PitchSatisfactionScore  OwnCar  NumberOfChildrenVisiting  Designation  \\\n",
       "4                        5       1                       0.0    Executive   \n",
       "6                        2       1                       1.0    Executive   \n",
       "7                        2       0                       1.0    Executive   \n",
       "9                        3       1                       0.0      Manager   \n",
       "10                       3       1                       1.0    Executive   \n",
       "\n",
       "   MonthlyIncome  ProdTaken_YN  \n",
       "4        18468.0            No  \n",
       "6        17670.0            No  \n",
       "7        17693.0            No  \n",
       "9        20237.0            No  \n",
       "10       17426.0            No  \n",
       "\n",
       "[5 rows x 21 columns]"
      ]
     },
     "execution_count": 59,
     "metadata": {},
     "output_type": "execute_result"
    }
   ],
   "source": [
    "# Filter self inquiry customer that didn't take the product in the end.\n",
    "filter1 = df['TypeofContact'] == 'Self Enquiry'\n",
    "filter2 = df['ProdTaken'] == 0\n",
    "df_test = df[filter1 & filter2]\n",
    "df_test.head()"
   ]
  },
  {
   "cell_type": "code",
   "execution_count": 60,
   "metadata": {
    "execution": {
     "iopub.execute_input": "2022-07-28T06:31:10.805138Z",
     "iopub.status.busy": "2022-07-28T06:31:10.804129Z",
     "iopub.status.idle": "2022-07-28T06:31:10.842424Z",
     "shell.execute_reply": "2022-07-28T06:31:10.841414Z",
     "shell.execute_reply.started": "2022-07-28T06:31:10.805096Z"
    }
   },
   "outputs": [
    {
     "name": "stderr",
     "output_type": "stream",
     "text": [
      "C:\\Users\\Asif\\Anaconda3\\lib\\site-packages\\ipykernel_launcher.py:2: SettingWithCopyWarning: \n",
      "A value is trying to be set on a copy of a slice from a DataFrame.\n",
      "Try using .loc[row_indexer,col_indexer] = value instead\n",
      "\n",
      "See the caveats in the documentation: https://pandas.pydata.org/pandas-docs/stable/user_guide/indexing.html#returning-a-view-versus-a-copy\n",
      "  \n",
      "C:\\Users\\Asif\\Anaconda3\\lib\\site-packages\\ipykernel_launcher.py:3: SettingWithCopyWarning: \n",
      "A value is trying to be set on a copy of a slice from a DataFrame.\n",
      "Try using .loc[row_indexer,col_indexer] = value instead\n",
      "\n",
      "See the caveats in the documentation: https://pandas.pydata.org/pandas-docs/stable/user_guide/indexing.html#returning-a-view-versus-a-copy\n",
      "  This is separate from the ipykernel package so we can avoid doing imports until\n"
     ]
    }
   ],
   "source": [
    "df_testx = data_processing(df_test)\n",
    "df_test['ProdTakenpred'] = last_model(df_test = df_testx)\n",
    "df_test['ProdTaken_Pot'] = df_test['ProdTakenpred'].apply(lambda x: \"Potential\" if x == 1 else \"Not potential\")"
   ]
  },
  {
   "cell_type": "code",
   "execution_count": 61,
   "metadata": {
    "execution": {
     "iopub.execute_input": "2022-07-28T06:31:10.849424Z",
     "iopub.status.busy": "2022-07-28T06:31:10.845677Z",
     "iopub.status.idle": "2022-07-28T06:31:11.030899Z",
     "shell.execute_reply": "2022-07-28T06:31:11.029014Z",
     "shell.execute_reply.started": "2022-07-28T06:31:10.849377Z"
    }
   },
   "outputs": [
    {
     "data": {
      "image/png": "[encoded data removed]",
      "text/plain": [
       "<Figure size 432x288 with 1 Axes>"
      ]
     },
     "metadata": {
      "needs_background": "light"
     },
     "output_type": "display_data"
    }
   ],
   "source": [
    "g = df_test.ProdTaken_Pot.value_counts().plot(kind = 'barh')\n",
    "\n",
    "for p in g.patches:\n",
    "    g.annotate(format(p.get_width(), '0'),\n",
    "               xy = (p.get_x() + p.get_width() / 2,\n",
    "                     p.get_y() + p.get_height() / 2,),\n",
    "               ha = 'center',\n",
    "               va = 'center',\n",
    "               color = 'white'\n",
    "              )"
   ]
  },
  {
   "cell_type": "markdown",
   "metadata": {},
   "source": [
    "Based on the plot, we actually have 459 potential customer that is predicted will take the product if pitched by our company."
   ]
  }
 ],
 "metadata": {
  "kernelspec": {
   "display_name": "Python 3",
   "language": "python",
   "name": "python3"
  },
  "language_info": {
   "codemirror_mode": {
    "name": "ipython",
    "version": 3
   },
   "file_extension": ".py",
   "mimetype": "text/x-python",
   "name": "python",
   "nbconvert_exporter": "python",
   "pygments_lexer": "ipython3",
   "version": "3.7.3"
  }
 },
 "nbformat": 4,
 "nbformat_minor": 4
}
